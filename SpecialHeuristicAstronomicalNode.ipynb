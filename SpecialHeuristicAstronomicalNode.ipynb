{
 "cells": [
  {
   "cell_type": "code",
   "execution_count": 150,
   "metadata": {},
   "outputs": [],
   "source": [
    "import numpy as np\n",
    "import pandas as pd\n",
    "import matplotlib.pyplot as plt\n",
    "import seaborn as sns\n",
    "from scipy.spatial import Delaunay\n",
    "from sklearn.metrics.cluster import fowlkes_mallows_score\n",
    "import vg\n",
    "import plotly.graph_objects as go\n",
    "import ray\n",
    "from pytransform3d.rotations import matrix_from_axis_angle\n",
    "from scipy.spatial.transform import Rotation as Rot\n",
    "from tqdm import tqdm\n",
    "from scipy.sparse import csr_matrix\n",
    "from scipy.sparse.csgraph import connected_components\n",
    "import time\n",
    "\n",
    "import warnings\n",
    "warnings.filterwarnings('ignore')\n",
    "\n",
    "def go_cluster(cluster):\n",
    "    \n",
    "    if(len(cluster.galaxies)==1):\n",
    "        return [go.Scatter3d(\n",
    "    x=cluster.galaxies[:,0],\n",
    "    y=cluster.galaxies[:,1],\n",
    "    z=cluster.galaxies[:,2],\n",
    "    mode='markers',\n",
    "    marker=dict(\n",
    "        size=1,\n",
    "        opacity=1,\n",
    "        color='green'\n",
    "    )\n",
    "    )]\n",
    "    \n",
    "    return [go.Scatter3d(\n",
    "    x=cluster.galaxies[:,0],\n",
    "    y=cluster.galaxies[:,1],\n",
    "    z=cluster.galaxies[:,2],\n",
    "    mode='markers',\n",
    "    marker=dict(\n",
    "        size=3,\n",
    "        opacity=1,\n",
    "        color='green'\n",
    "\n",
    "    )\n",
    "    )]+[cluster.get_mesh()]+[go.Scatter3d(\n",
    "    x=[cluster.centroid[0]],\n",
    "    y=[cluster.centroid[1]],\n",
    "    z=[cluster.centroid[2]],\n",
    "    mode='markers',\n",
    "    marker=dict(\n",
    "        size=2,\n",
    "        opacity=1,\n",
    "        color='red'\n",
    "    )\n",
    "    )]\n",
    "\n",
    "def get_clusters_plot(clusters,is_show=False,filename='3d_model'):\n",
    "    \n",
    "    data=[]\n",
    "    for cluster in clusters:\n",
    "        data+=go_cluster(cluster)\n",
    "    \n",
    "    fig = go.Figure(data=data)\n",
    "\n",
    "# tight layout\n",
    "    fig.update_layout(margin=dict(l=0, r=0, b=0, t=0))\n",
    "    if(is_show):\n",
    "        fig.show()\n",
    "    fig.write_html(filename+\".html\")\n"
   ]
  },
  {
   "cell_type": "code",
   "execution_count": 204,
   "metadata": {},
   "outputs": [],
   "source": [
    "coor=pd.read_csv('ra_dec_z_data.csv')\n",
    "coor_with_labels=pd.read_csv('coor_with_labels.csv')"
   ]
  },
  {
   "cell_type": "code",
   "execution_count": 212,
   "metadata": {},
   "outputs": [
    {
     "data": {
      "text/plain": [
       "(1341, 4)"
      ]
     },
     "execution_count": 212,
     "metadata": {},
     "output_type": "execute_result"
    }
   ],
   "source": [
    "tmp_coor_with_labels=coor_with_labels[['x','y','z','label']]\n",
    "tmp_coor_with_labels=tmp_coor_with_labels[tmp_coor_with_labels.x.between(40, 120)]\n",
    "tmp_coor_with_labels=tmp_coor_with_labels[tmp_coor_with_labels.y.between(-40, 40)]\n",
    "tmp_coor_with_labels=tmp_coor_with_labels[tmp_coor_with_labels.z.between(-40, 40)]\n",
    "\n",
    "tmp_coor_with_labels.shape"
   ]
  },
  {
   "cell_type": "code",
   "execution_count": 213,
   "metadata": {},
   "outputs": [
    {
     "data": {
      "text/plain": [
       "(1307, 3)"
      ]
     },
     "execution_count": 213,
     "metadata": {},
     "output_type": "execute_result"
    }
   ],
   "source": [
    "tmp_coor=coor[['x','y','z']]\n",
    "tmp_coor=tmp_coor[tmp_coor.x.between(40, 80)]\n",
    "tmp_coor=tmp_coor[tmp_coor.y.between(-20, 20)]\n",
    "tmp_coor=tmp_coor[tmp_coor.z.between(-20, 20)]\n",
    "tmp_coor.shape"
   ]
  },
  {
   "cell_type": "code",
   "execution_count": 4,
   "metadata": {},
   "outputs": [],
   "source": [
    "# fig = go.Figure(data=[go.Scatter3d(\n",
    "#     x=tmp_coor.x,\n",
    "#     y=tmp_coor.y,\n",
    "#     z=tmp_coor.z,\n",
    "#     mode='markers',\n",
    "#     marker=dict(\n",
    "#         size=1,\n",
    "#         opacity=1,\n",
    "#         color='red'\n",
    "#     )\n",
    "#     )])\n",
    "\n",
    "# # tight layout\n",
    "# fig.update_layout(margin=dict(l=0, r=0, b=0, t=0))\n",
    "# fig.show()"
   ]
  },
  {
   "cell_type": "code",
   "execution_count": 198,
   "metadata": {},
   "outputs": [
    {
     "ename": "IndexError",
     "evalue": "too many indices for array",
     "output_type": "error",
     "traceback": [
      "\u001b[1;31m---------------------------------------------------------------------------\u001b[0m",
      "\u001b[1;31mIndexError\u001b[0m                                Traceback (most recent call last)",
      "\u001b[1;32m<ipython-input-198-f09a96cbba1c>\u001b[0m in \u001b[0;36m<module>\u001b[1;34m\u001b[0m\n\u001b[1;32m----> 1\u001b[1;33m \u001b[0mnp\u001b[0m\u001b[1;33m.\u001b[0m\u001b[0msort\u001b[0m\u001b[1;33m(\u001b[0m\u001b[0mnp\u001b[0m\u001b[1;33m.\u001b[0m\u001b[0mconcatenate\u001b[0m\u001b[1;33m(\u001b[0m\u001b[1;33m[\u001b[0m\u001b[0mnp\u001b[0m\u001b[1;33m.\u001b[0m\u001b[0marray\u001b[0m\u001b[1;33m(\u001b[0m\u001b[1;33m[\u001b[0m\u001b[1;36m1\u001b[0m\u001b[1;33m,\u001b[0m\u001b[1;36m9\u001b[0m\u001b[1;33m,\u001b[0m\u001b[1;36m3\u001b[0m\u001b[1;33m]\u001b[0m\u001b[1;33m)\u001b[0m\u001b[1;33m,\u001b[0m\u001b[1;33m[\u001b[0m\u001b[1;36m4\u001b[0m\u001b[1;33m]\u001b[0m\u001b[1;33m]\u001b[0m\u001b[1;33m)\u001b[0m\u001b[1;33m)\u001b[0m\u001b[1;33m[\u001b[0m\u001b[1;33m:\u001b[0m\u001b[1;33m,\u001b[0m\u001b[1;36m1\u001b[0m\u001b[1;33m]\u001b[0m\u001b[1;33m\u001b[0m\u001b[1;33m\u001b[0m\u001b[0m\n\u001b[0m",
      "\u001b[1;31mIndexError\u001b[0m: too many indices for array"
     ]
    }
   ],
   "source": [
    "np.sort(np.concatenate([np.array([1,9,3]),[4]]))[:,1]"
   ]
  },
  {
   "cell_type": "code",
   "execution_count": 226,
   "metadata": {},
   "outputs": [],
   "source": [
    "class Cluster():\n",
    "    # non shifted shape, easy to expand\n",
    "    non_rotated_cube=(np.transpose(np.array([[0, 0, 1, 1, 0, 0, 1, 1],[0, 1, 1, 0, 0, 1, 1, 0],[0, 0, 0, 0, 3, 3, 3, 3]]))-np.array([0.5,0.5,1.5]))*0.05\n",
    "    rotated_cube=None# shifted coor of rotated cube\n",
    "    centroid=None# coor of center\n",
    "    galaxies=None\n",
    "\n",
    "    is_complete=False\n",
    "    times_grow=0\n",
    "    def __init__(self, center,non_rotated_cube=None,galaxies=None):\n",
    "        \n",
    "        if(isinstance(non_rotated_cube, np.ndarray)):\n",
    "            self.non_rotated_cube=non_rotated_cube\n",
    "        if(not isinstance(galaxies, np.ndarray)):\n",
    "            self.galaxies=np.array([center])\n",
    "        else:\n",
    "            self.galaxies=np.array(galaxies)\n",
    "        \n",
    "        self.centroid=center[:3]\n",
    "        self.rotated_cube = self.rotate(self.centroid,self.non_rotated_cube)+self.centroid\n",
    "        \n",
    "        for gal in self.galaxies:\n",
    "            if(Delaunay(self.rotated_cube).find_simplex(gal[:3]) < 0):\n",
    "                raise ValueError\n",
    "        \n",
    "        \n",
    "    def rotate(self, vector, points):    \n",
    "        vector = vg.normalize(vector)\n",
    "        axis = vg.perpendicular(vg.basis.z, vector)\n",
    "        angle = vg.angle(vg.basis.z, vector, units='rad')\n",
    "        \n",
    "        a = np.hstack((axis, (angle,)))\n",
    "        R = matrix_from_axis_angle(a)\n",
    "        \n",
    "        r = Rot.from_matrix(R)\n",
    "        rotmat = r.apply(points)\n",
    "        \n",
    "        return rotmat\n",
    "\n",
    "    def get_mesh(self):\n",
    "        return go.Mesh3d(\n",
    "        x=self.rotated_cube[:,0],\n",
    "        y=self.rotated_cube[:,1],\n",
    "        z=self.rotated_cube[:,2],\n",
    "        opacity=0.5,\n",
    "        i = [7, 0, 0, 0, 4, 4, 6, 6, 4, 0, 3, 2],\n",
    "        j = [3, 4, 1, 2, 5, 6, 5, 2, 0, 1, 6, 3],\n",
    "        k = [0, 7, 2, 3, 6, 7, 1, 1, 5, 5, 7, 6],color='blue'\n",
    "        )\n",
    "    \n",
    "    def grow(self,coef):\n",
    "        \n",
    "#         if((self.non_rotated_cube[1]-self.non_rotated_cube[0])[1]*3>(self.non_rotated_cube[4]-self.non_rotated_cube[0])[2]):\n",
    "#             coef=np.array([coef,coef,3*coef])\n",
    "        if(self.times_grow==5):\n",
    "            self.is_complete=True\n",
    "            return\n",
    "        self.times_grow+=1\n",
    "        self.non_rotated_cube=self.non_rotated_cube*coef\n",
    "        self.rotated_cube = self.rotate(self.centroid,self.non_rotated_cube)+self.centroid            \n",
    "    \n",
    "class Clusterer:\n",
    "    \n",
    "    unit_cube=(np.transpose(np.array([[0, 0, 1, 1, 0, 0, 1, 1],[0, 1, 1, 0, 0, 1, 1, 0],[0, 0, 0, 0, 1, 1, 1, 1]]))-0.5)\n",
    "    \n",
    "    def __init__(self):\n",
    "        self.clusters=[]\n",
    "        ray.init(log_to_driver=False)\n",
    "    \n",
    "    def merge(self):\n",
    "        \n",
    "        clusters_len=len(self.clusters)\n",
    "        #graph=np.zeros((clusters_len,clusters_len))\n",
    "        #ray.shutdown()\n",
    "\n",
    "        clusters_id = ray.put(self.clusters)\n",
    "\n",
    "        graph=ray.get([self.parallel_connectivity_matrix.remote(self,clusters_id, subset) for subset in self.split_array(np.arange(len(self.clusters)),4)])\n",
    "        #graph=ray.get([self.parallel_connectivity_matrix.remote(self,clusters_id, row) for row in range(len(self.clusters))])\n",
    "\n",
    "        graph = np.concatenate( graph, axis=0 )\n",
    "#         for i in tqdm(range(clusters_len),position=0, leave=True):\n",
    "#             for j in range(clusters_len):\n",
    "#                 if(np.linalg.norm(self.clusters[i].centroid-self.clusters[j].centroid)>3):\n",
    "#                     continue\n",
    "#                 if(self.check_collision(self.clusters[i],self.clusters[j])):\n",
    "#                     graph[i,j]=1\n",
    "        graph = graph+np.transpose(graph)\n",
    "        graph=graph-np.eye(len(self.clusters))\n",
    "\n",
    "        graph = csr_matrix(graph)\n",
    "        n_components, labels = connected_components(csgraph=graph, directed=False, return_labels=True)\n",
    "        \n",
    "        components=[]\n",
    "        \n",
    "        np_clusters=np.array(self.clusters)\n",
    "        \n",
    "        for label in np.unique(labels):\n",
    "            components.append(np_clusters[labels==label])\n",
    "        \n",
    "        new_clusters=[]\n",
    " \n",
    "        for component in components:\n",
    "            if(len(component)==1):\n",
    "                new_clusters.append(component[0])\n",
    "            else:\n",
    "                new_clusters.append(self.collide_clusters(component))\n",
    "        \n",
    "        self.clusters=new_clusters        \n",
    "      \n",
    "\n",
    "    def check_collision(self,a:Cluster, b: Cluster):      \n",
    "        i=a.rotated_cube[1]-a.rotated_cube[0]\n",
    "        j=a.rotated_cube[3]-a.rotated_cube[0]\n",
    "        k=a.rotated_cube[4]-a.rotated_cube[0]\n",
    "        for point in b.rotated_cube:\n",
    "            u=point-a.rotated_cube[0]\n",
    "            if((0<= np.dot(u,i))and(np.dot(u,i) <= np.dot(i,i))and\n",
    "               (0<= np.dot(u,j))and(np.dot(u,j) <= np.dot(j,j))and\n",
    "               (0<= np.dot(u,k))and(np.dot(u,k) <= np.dot(k,k))):\n",
    "                return True\n",
    "            \n",
    "        i=b.rotated_cube[1]-b.rotated_cube[0]\n",
    "        j=b.rotated_cube[3]-b.rotated_cube[0]\n",
    "        k=b.rotated_cube[4]-b.rotated_cube[0]\n",
    "        for point in a.rotated_cube:\n",
    "            u=point-b.rotated_cube[0]\n",
    "            if((0<= np.dot(u,i))and(np.dot(u,i) <= np.dot(i,i))and\n",
    "               (0<= np.dot(u,j))and(np.dot(u,j) <= np.dot(j,j))and\n",
    "               (0<= np.dot(u,k))and(np.dot(u,k) <= np.dot(k,k))):\n",
    "                return True\n",
    "        return False\n",
    " \n",
    " #         for point in b.rotated_cube:\n",
    "#             if(Delaunay(a.rotated_cube).find_simplex(point) >= 0):\n",
    "#                 return True   \n",
    "#         return False\n",
    "    \n",
    "    def rotation_matrix_from_vectors(self, vec2):\n",
    "        vec1=[1,0,0]\n",
    "        a, b = (vec1 / np.linalg.norm(vec1)).reshape(3), (vec2 / np.linalg.norm(vec2)).reshape(3)\n",
    "        v = np.cross(a, b)\n",
    "        c = np.dot(a, b)\n",
    "        s = np.linalg.norm(v)\n",
    "        kmat = np.array([[0, -v[2], v[1]], [v[2], 0, -v[0]], [-v[1], v[0], 0]])\n",
    "        rotation_matrix = np.eye(3) + kmat + kmat.dot(kmat) * ((1 - c) / (s ** 2))\n",
    "        return rotation_matrix\n",
    "    \n",
    "    def collide_clusters(self, clusters:[Cluster]):\n",
    "        \n",
    "        if(len(clusters)==1):\n",
    "            return clusters[0]\n",
    "        \n",
    "        galaxies=[]\n",
    "        vertex_points=[]\n",
    "        for cluster in clusters:\n",
    "            galaxies.append(cluster.galaxies)\n",
    "            vertex_points.append(cluster.rotated_cube)\n",
    "        galaxies=np.concatenate( galaxies, axis=0 )\n",
    "        vertex_points=np.concatenate( vertex_points, axis=0 )\n",
    "        \n",
    "        center = galaxies[:,:3].mean(axis=0)\n",
    "\n",
    "        projections = center * np.dot(galaxies[:,:3], np.transpose([center])) / np.dot(center, center)\n",
    "        \n",
    "        distances_on_line=np.linalg.norm(projections-center,axis=1)\n",
    "        vectors_from_line=galaxies[:,:3]-projections\n",
    "    \n",
    "        length = distances_on_line.max()\n",
    "        width=np.linalg.norm(vectors_from_line,axis=1).max()\n",
    "    \n",
    "        cube=self.unit_cube.copy()*[width*2+0.05,width*2+0.05,length*2+0.05]\n",
    "    \n",
    "        return Cluster(center,cube,galaxies)\n",
    "            \n",
    "    def compress_cluster(self,cluster):\n",
    "\n",
    "        galaxies=cluster.galaxies\n",
    "        if(galaxies.ndim==1 ):\n",
    "            galaxies=np.array([galaxies])\n",
    "        vertex_points=cluster.rotated_cube\n",
    "        \n",
    "        center = galaxies[:,:3].mean(axis=0)\n",
    "\n",
    "        projections = center * np.dot(galaxies[:,:3], np.transpose([center])) / np.dot(center, center)\n",
    "        \n",
    "        distances_on_line=np.linalg.norm(projections-center,axis=1)\n",
    "        vectors_from_line=galaxies[:,:3]-projections\n",
    "    \n",
    "        length = distances_on_line.max()\n",
    "        width=np.linalg.norm(vectors_from_line,axis=1).max()\n",
    "    \n",
    "        cube=self.unit_cube.copy()*[width*2+0.05,width*2+0.05,length*2+0.05]\n",
    "    \n",
    "        return Cluster(center,cube,galaxies)\n",
    "    \n",
    "    def step(self,grow_coef):\n",
    "        \n",
    "        is_done=True\n",
    "        for cluster in self.clusters:\n",
    "            if(not cluster.is_complete):\n",
    "                is_done=False\n",
    "                break\n",
    "        if (is_done):\n",
    "            return False\n",
    "        \n",
    "        for cluster in self.clusters:\n",
    "            cluster.grow(grow_coef)\n",
    "        self.merge()\n",
    "        return True\n",
    "      \n",
    "    def split_array(self,a, n):\n",
    "        k, m = divmod(len(a), n)\n",
    "        return (a[i*k+min(i, m):(i+1)*k+min(i+1, m)] for i in range(n))\n",
    "    \n",
    "    @ray.remote\n",
    "    def parallel_connectivity_matrix(self,clusters ,rows):\n",
    "        new_graph=np.empty((len(rows),len(clusters)))\n",
    "        for i in range(len(rows)):\n",
    "            for j in range(rows[i],len(clusters)):\n",
    "                if(np.linalg.norm(clusters[rows[i]].centroid-clusters[j].centroid)>3):\n",
    "                    continue\n",
    "                if(self.check_collision(clusters[rows[i]],clusters[j])):\n",
    "                    new_graph[i,j]=1\n",
    "        return new_graph\n",
    "    \n",
    "    def fit(self,data):\n",
    "        coefs=1+1/np.arange(1,100)[10:]*5\n",
    "        data_np=np.array(data)\n",
    "        for i in range(len(data_np)):\n",
    "            self.clusters.append(Cluster(np.concatenate([data_np[i],[i]])))\n",
    "        iter_num=1\n",
    "        start = time.time()\n",
    "        while(self.step(coefs[iter_num-1])):\n",
    "            print('iter : ',iter_num,', n_clusters: ', len(self.clusters),', time: ',time.time()-start,' s')\n",
    "            iter_num+=1\n",
    "            start = time.time()\n",
    "        \n",
    "        galaxies=[]\n",
    "        for i in range(len(self.clusters)):\n",
    "            cluster_galaxies=self.clusters[i].galaxies\n",
    "#             if(len(cluster_galaxies)==1):\n",
    "#                 cluster_galaxies[:,;-1]=-1\n",
    "#             else:\n",
    "            \n",
    "            cluster_galaxies =np.append(cluster_galaxies, np.ones((len(cluster_galaxies),1))*i, axis=1)\n",
    "\n",
    "            galaxies.append(cluster_galaxies)\n",
    "           \n",
    "        clusters=[]\n",
    "        for cluster in self.clusters:\n",
    "            clusters.append(self.compress_cluster(cluster))\n",
    "            \n",
    "        self.clusters=clusters\n",
    "        galaxies=np.concatenate(galaxies)\n",
    "        galaxies = galaxies[galaxies[:,3].argsort()]  \n",
    "        return galaxies[:,4]\n",
    "        "
   ]
  },
  {
   "cell_type": "code",
   "execution_count": 227,
   "metadata": {},
   "outputs": [
    {
     "name": "stderr",
     "output_type": "stream",
     "text": [
      "2021-05-07 02:35:19,075\tINFO services.py:1269 -- View the Ray dashboard at \u001b[1m\u001b[32mhttp://127.0.0.1:8265\u001b[39m\u001b[22m\n"
     ]
    },
    {
     "name": "stdout",
     "output_type": "stream",
     "text": [
      "iter :  1 , n_clusters:  1333 , time:  6.698239803314209  s\n",
      "iter :  2 , n_clusters:  1323 , time:  6.359395265579224  s\n",
      "iter :  3 , n_clusters:  1299 , time:  6.47526216506958  s\n",
      "iter :  4 , n_clusters:  1249 , time:  7.617640256881714  s\n",
      "iter :  5 , n_clusters:  1193 , time:  6.23497748374939  s\n",
      "iter :  6 , n_clusters:  1180 , time:  5.476889371871948  s\n",
      "iter :  7 , n_clusters:  1170 , time:  5.271589756011963  s\n",
      "iter :  8 , n_clusters:  1150 , time:  7.01472020149231  s\n",
      "iter :  9 , n_clusters:  1115 , time:  5.620779991149902  s\n",
      "iter :  10 , n_clusters:  1083 , time:  5.342155694961548  s\n",
      "iter :  11 , n_clusters:  1047 , time:  4.870005369186401  s\n",
      "iter :  12 , n_clusters:  1023 , time:  4.362858057022095  s\n",
      "iter :  13 , n_clusters:  993 , time:  4.302340507507324  s\n",
      "iter :  14 , n_clusters:  965 , time:  3.9373340606689453  s\n",
      "iter :  15 , n_clusters:  945 , time:  4.048976898193359  s\n",
      "iter :  16 , n_clusters:  927 , time:  5.716234445571899  s\n",
      "iter :  17 , n_clusters:  917 , time:  3.693596601486206  s\n",
      "iter :  18 , n_clusters:  916 , time:  3.7469234466552734  s\n",
      "iter :  19 , n_clusters:  912 , time:  3.4195284843444824  s\n",
      "iter :  20 , n_clusters:  911 , time:  4.239559888839722  s\n",
      "iter :  21 , n_clusters:  908 , time:  3.6106390953063965  s\n",
      "iter :  22 , n_clusters:  905 , time:  3.6816675662994385  s\n",
      "iter :  23 , n_clusters:  903 , time:  3.273409843444824  s\n",
      "iter :  24 , n_clusters:  902 , time:  3.542203903198242  s\n",
      "iter :  25 , n_clusters:  901 , time:  3.1052117347717285  s\n",
      "iter :  26 , n_clusters:  901 , time:  3.1067354679107666  s\n",
      "iter :  27 , n_clusters:  901 , time:  2.991706609725952  s\n",
      "iter :  28 , n_clusters:  901 , time:  2.8992433547973633  s\n",
      "iter :  29 , n_clusters:  901 , time:  3.069169759750366  s\n",
      "iter :  30 , n_clusters:  901 , time:  3.1351969242095947  s\n",
      "iter :  31 , n_clusters:  901 , time:  3.0476839542388916  s\n",
      "0.45285100310908133\n",
      "Wall time: 2min 42s\n"
     ]
    }
   ],
   "source": [
    "%%time\n",
    "clusterer=Clusterer()\n",
    "labels=clusterer.fit(tmp_coor_with_labels[['x','y','z']])\n",
    "print(fowlkes_mallows_score(tmp_coor_with_labels['label'],labels))\n",
    "ray.shutdown()\n",
    "get_clusters_plot(clusterer.clusters)"
   ]
  },
  {
   "cell_type": "code",
   "execution_count": 225,
   "metadata": {},
   "outputs": [],
   "source": [
    "ray.shutdown()\n"
   ]
  },
  {
   "cell_type": "code",
   "execution_count": 239,
   "metadata": {},
   "outputs": [
    {
     "name": "stdout",
     "output_type": "stream",
     "text": [
      "0.3328129784353538\n"
     ]
    }
   ],
   "source": [
    "import hdbscan\n",
    "model=hdbscan.HDBSCAN().fit(tmp_coor_with_labels[['x','y','z']])\n",
    "labels =model.labels_\n",
    "c=1\n",
    "for i in range(len(labels)):\n",
    "    if(labels[i]==-1):\n",
    "        labels[i]=400000+c\n",
    "        c+=1\n",
    "print(fowlkes_mallows_score(tmp_coor_with_labels['label'],labels))"
   ]
  },
  {
   "cell_type": "code",
   "execution_count": 228,
   "metadata": {},
   "outputs": [
    {
     "data": {
      "text/plain": [
       "1     535\n",
       "2      98\n",
       "3      32\n",
       "4      15\n",
       "5       9\n",
       "6       8\n",
       "7       7\n",
       "8       5\n",
       "10      3\n",
       "19      2\n",
       "67      1\n",
       "34      1\n",
       "12      1\n",
       "16      1\n",
       "17      1\n",
       "20      1\n",
       "29      1\n",
       "9       1\n",
       "Name: label, dtype: int64"
      ]
     },
     "execution_count": 228,
     "metadata": {},
     "output_type": "execute_result"
    }
   ],
   "source": [
    "tmp_coor_with_labels['label'].value_counts().value_counts()"
   ]
  },
  {
   "cell_type": "code",
   "execution_count": 230,
   "metadata": {},
   "outputs": [
    {
     "data": {
      "text/plain": [
       "1     818\n",
       "2      54\n",
       "3       6\n",
       "20      3\n",
       "11      2\n",
       "4       2\n",
       "5       2\n",
       "9       2\n",
       "14      2\n",
       "16      2\n",
       "18      2\n",
       "38      1\n",
       "6       1\n",
       "21      1\n",
       "22      1\n",
       "27      1\n",
       "69      1\n",
       "dtype: int64"
      ]
     },
     "execution_count": 230,
     "metadata": {},
     "output_type": "execute_result"
    }
   ],
   "source": [
    "pd.Series(labels).value_counts().value_counts()"
   ]
  },
  {
   "cell_type": "code",
   "execution_count": 64,
   "metadata": {},
   "outputs": [
    {
     "name": "stderr",
     "output_type": "stream",
     "text": [
      "100%|██████████████████████████████████████████████████████████████████████████████████| 15/15 [02:25<00:00,  9.70s/it]\n"
     ]
    }
   ],
   "source": [
    "step_coef=[1.6,1.4,1.2,1.1,1.1,1.1,1.1,1.1,1.1,1.1,1.05,1.05,1.05,1.05,1.05]\n",
    "\n",
    "for coef in tqdm(step_coef,position=0, leave=True):\n",
    "    clusterer.step(coef)"
   ]
  },
  {
   "cell_type": "code",
   "execution_count": 66,
   "metadata": {},
   "outputs": [],
   "source": [
    "get_clusters_plot(clusterer.clusters)"
   ]
  },
  {
   "cell_type": "code",
   "execution_count": 10,
   "metadata": {},
   "outputs": [
    {
     "ename": "SyntaxError",
     "evalue": "invalid syntax (<ipython-input-10-c20a188cfc06>, line 1)",
     "output_type": "error",
     "traceback": [
      "\u001b[1;36m  File \u001b[1;32m\"<ipython-input-10-c20a188cfc06>\"\u001b[1;36m, line \u001b[1;32m1\u001b[0m\n\u001b[1;33m    100%|██████████████████████████████████████████████████████████████████████████████| 1307/1307 [02:09<00:00, 10.06it/s]\u001b[0m\n\u001b[1;37m        ^\u001b[0m\n\u001b[1;31mSyntaxError\u001b[0m\u001b[1;31m:\u001b[0m invalid syntax\n"
     ]
    }
   ],
   "source": [
    "\n",
    "100%|██████████████████████████████████████████████████████████████████████████████| 1307/1307 [02:09<00:00, 10.06it/s]\n",
    "100%|██████████████████████████████████████████████████████████████████████████████| 1192/1192 [01:44<00:00, 11.38it/s]\n",
    "100%|██████████████████████████████████████████████████████████████████████████████| 1152/1152 [01:37<00:00, 11.87it/s]\n",
    "100%|██████████████████████████████████████████████████████████████████████████████| 1092/1092 [01:18<00:00, 13.94it/s]\n",
    "100%|██████████████████████████████████████████████████████████████████████████████| 1050/1050 [01:10<00:00, 14.79it/s]\n",
    "100%|██████████████████████████████████████████████████████████████████████████████| 1022/1022 [01:04<00:00, 15.88it/s]\n",
    "100%|████████████████████████████████████████████████████████████████████████████████| 987/987 [00:59<00:00, 16.51it/s]\n",
    "100%|████████████████████████████████████████████████████████████████████████████████| 963/963 [00:54<00:00, 17.52it/s]"
   ]
  }
 ],
 "metadata": {
  "kernelspec": {
   "display_name": "Python 3",
   "language": "python",
   "name": "python3"
  },
  "language_info": {
   "codemirror_mode": {
    "name": "ipython",
    "version": 3
   },
   "file_extension": ".py",
   "mimetype": "text/x-python",
   "name": "python",
   "nbconvert_exporter": "python",
   "pygments_lexer": "ipython3",
   "version": "3.7.4"
  }
 },
 "nbformat": 4,
 "nbformat_minor": 4
}
