{
 "cells": [
  {
   "cell_type": "code",
   "execution_count": 20,
   "metadata": {},
   "outputs": [],
   "source": [
    "import numpy as np\n",
    "import pandas as pd\n",
    "import matplotlib.pyplot as plt\n",
    "import seaborn as sns\n",
    "from scipy.spatial import Delaunay\n",
    "from sklearn.metrics.cluster import fowlkes_mallows_score\n",
    "import vg\n",
    "import plotly.graph_objects as go\n",
    "\n",
    "from pytransform3d.rotations import matrix_from_axis_angle\n",
    "from scipy.spatial.transform import Rotation as Rot\n",
    "from tqdm import tqdm\n",
    "from scipy.sparse import csr_matrix\n",
    "from scipy.sparse.csgraph import connected_components\n",
    "\n",
    "cube_coor=(np.transpose(np.array([[0, 0, 1, 1, 0, 0, 1, 1],[0, 1, 1, 0, 0, 1, 1, 0],[0, 0, 0, 0, 1, 1, 1, 1]]))-0.5)*0.1\n",
    "\n",
    "def _rotmat( vector, points):\n",
    "    \"\"\"\n",
    "    Rotates a 3xn array of 3D coordinates from the +z normal to an\n",
    "    arbitrary new normal vector.\n",
    "    \"\"\"\n",
    "    \n",
    "    vector = vg.normalize(vector)\n",
    "    axis = vg.perpendicular(vg.basis.z, vector)\n",
    "    angle = vg.angle(vg.basis.z, vector, units='rad')\n",
    "    \n",
    "    a = np.hstack((axis, (angle,)))\n",
    "    R = matrix_from_axis_angle(a)\n",
    "    \n",
    "    r = Rot.from_matrix(R)\n",
    "    rotmat = r.apply(points)\n",
    "    \n",
    "    return rotmat\n",
    "\n",
    "def mesh_cube(coor,v):\n",
    "    \n",
    "    \n",
    "    rot_cube=_rotmat(v,coor)\n",
    "    return go.Mesh3d(\n",
    "    x=rot_cube[:,0]+v[0],\n",
    "    y=rot_cube[:,1]+v[1],\n",
    "    z=rot_cube[:,2]+v[2],\n",
    "    opacity=0.3,\n",
    "    i = [7, 0, 0, 0, 4, 4, 6, 6, 4, 0, 3, 2],\n",
    "    j = [3, 4, 1, 2, 5, 6, 5, 2, 0, 1, 6, 3],\n",
    "    k = [0, 7, 2, 3, 6, 7, 1, 1, 5, 5, 7, 6],color='cyan'\n",
    "    )\n",
    "\n",
    "def go_cluster(cluster):\n",
    "    \n",
    "    if(len(cluster.galaxies)==1):\n",
    "        return [go.Scatter3d(\n",
    "    x=cluster.galaxies[:,0],\n",
    "    y=cluster.galaxies[:,1],\n",
    "    z=cluster.galaxies[:,2],\n",
    "    mode='markers',\n",
    "    marker=dict(\n",
    "        size=1,\n",
    "        opacity=1,\n",
    "        color='green'\n",
    "    )\n",
    "    )]\n",
    "    \n",
    "    return [go.Scatter3d(\n",
    "    x=cluster.galaxies[:,0],\n",
    "    y=cluster.galaxies[:,1],\n",
    "    z=cluster.galaxies[:,2],\n",
    "    mode='markers',\n",
    "    marker=dict(\n",
    "        size=1,\n",
    "        opacity=1,\n",
    "        color='green'\n",
    "\n",
    "    )\n",
    "    )]+[cluster.get_mesh()]+[go.Scatter3d(\n",
    "    x=[cluster.centroid[0]],\n",
    "    y=[cluster.centroid[1]],\n",
    "    z=[cluster.centroid[2]],\n",
    "    mode='markers',\n",
    "    marker=dict(\n",
    "        size=1,\n",
    "        opacity=1,\n",
    "        color='red'\n",
    "    )\n",
    "    )]\n",
    "\n",
    "def plot_clusters(clusters):\n",
    "    \n",
    "    data=[]\n",
    "    for cluster in clusters:\n",
    "        data+=go_cluster(cluster)\n",
    "    \n",
    "    fig = go.Figure(data=data)\n",
    "\n",
    "# tight layout\n",
    "    fig.update_layout(margin=dict(l=0, r=0, b=0, t=0))\n",
    "    fig.show()"
   ]
  },
  {
   "cell_type": "code",
   "execution_count": 2,
   "metadata": {},
   "outputs": [],
   "source": [
    "coor=pd.read_csv('ra_dec_z_data.csv')"
   ]
  },
  {
   "cell_type": "code",
   "execution_count": 3,
   "metadata": {},
   "outputs": [],
   "source": [
    "\n",
    "tmp_coor=coor[['x','y','z']]\n",
    "\n",
    "tmp_coor=tmp_coor[tmp_coor.x.between(20, 40)]\n",
    "tmp_coor=tmp_coor[tmp_coor.y.between(-10, 10)]\n",
    "tmp_coor=tmp_coor[tmp_coor.z.between(-10, 10)]\n",
    "\n"
   ]
  },
  {
   "cell_type": "code",
   "execution_count": 22,
   "metadata": {},
   "outputs": [],
   "source": [
    "class Cluster():\n",
    "    # non shifted shape, easy to expand\n",
    "    non_rotated_cube=(np.transpose(np.array([[0, 0, 1, 1, 0, 0, 1, 1],[0, 1, 1, 0, 0, 1, 1, 0],[0, 0, 0, 0, 1, 1, 1, 1]]))-0.5)*0.3\n",
    "    rotated_cube=None# shifted coor of rotated cube\n",
    "    centroid=None# coor of center\n",
    "    galaxies=None\n",
    "\n",
    "    def __init__(self, center,non_rotated_cube=None,galaxies=None):\n",
    "        \n",
    "        if(isinstance(non_rotated_cube, np.ndarray)):\n",
    "            self.non_rotated_cube=non_rotated_cube\n",
    "        if(not isinstance(galaxies, np.ndarray)):\n",
    "            self.galaxies=np.array([center])\n",
    "        else:\n",
    "            self.galaxies=np.array(galaxies)\n",
    "        \n",
    "        self.centroid=center\n",
    "        self.rotated_cube = self.rotate(self.centroid,self.non_rotated_cube)+center\n",
    "        \n",
    "        for gal in self.galaxies:\n",
    "            if(Delaunay(self.rotated_cube).find_simplex(gal) < 0):\n",
    "                raise ValueError\n",
    "        \n",
    "        \n",
    "    def rotate(self, vector, points):    \n",
    "        vector = vg.normalize(vector)\n",
    "        axis = vg.perpendicular(vg.basis.z, vector)\n",
    "        angle = vg.angle(vg.basis.z, vector, units='rad')\n",
    "        \n",
    "        a = np.hstack((axis, (angle,)))\n",
    "        R = matrix_from_axis_angle(a)\n",
    "        \n",
    "        r = Rot.from_matrix(R)\n",
    "        rotmat = r.apply(points)\n",
    "        \n",
    "        return rotmat\n",
    "\n",
    "    def get_mesh(self):\n",
    "        return go.Mesh3d(\n",
    "        x=self.rotated_cube[:,0],\n",
    "        y=self.rotated_cube[:,1],\n",
    "        z=self.rotated_cube[:,2],\n",
    "        opacity=0.5,\n",
    "        i = [7, 0, 0, 0, 4, 4, 6, 6, 4, 0, 3, 2],\n",
    "        j = [3, 4, 1, 2, 5, 6, 5, 2, 0, 1, 6, 3],\n",
    "        k = [0, 7, 2, 3, 6, 7, 1, 1, 5, 5, 7, 6],color='blue'\n",
    "        )\n",
    "    \n",
    "    \n",
    "class Clusterer:\n",
    "    \n",
    "    unit_cube=(np.transpose(np.array([[0, 0, 1, 1, 0, 0, 1, 1],[0, 1, 1, 0, 0, 1, 1, 0],[0, 0, 0, 0, 1, 1, 1, 1]]))-0.5)\n",
    "\n",
    "    clusters=[]\n",
    "        \n",
    "    def __init__(self, data):\n",
    "        \n",
    "        for coor in np.array(data):\n",
    "            self.clusters.append(Cluster(coor))\n",
    "    \n",
    "    def merge(self):\n",
    "        \n",
    "        clusters_len=len(self.clusters)\n",
    "        graph=np.zeros((clusters_len,clusters_len))\n",
    "        for i in tqdm(range(clusters_len)):\n",
    "            for j in range(clusters_len):\n",
    "                if(np.linalg.norm(self.clusters[i].centroid-self.clusters[j].centroid)>3):\n",
    "                    continue\n",
    "                if(self.check_collision(self.clusters[i],self.clusters[j])):\n",
    "                    graph[i,j]=1\n",
    "                    \n",
    "        graph = csr_matrix(graph)\n",
    "        n_components, labels = connected_components(csgraph=graph, directed=False, return_labels=True)\n",
    "        \n",
    "        components=[]\n",
    "        \n",
    "        np_clusters=np.array(self.clusters)\n",
    "        \n",
    "        for label in np.unique(labels):\n",
    "            components.append(np_clusters[labels==label])\n",
    "        \n",
    "        new_clusters=[]\n",
    " \n",
    "        for component in components:\n",
    "            if(len(component)==1):\n",
    "                new_clusters.append(component[0])\n",
    "            else:\n",
    "                new_clusters.append(self.collide_clusters(component))\n",
    "        \n",
    "        self.clusters=new_clusters\n",
    "        \n",
    "        \n",
    "    def check_collision(self,a:Cluster, b: Cluster):        \n",
    "        for point in b.rotated_cube:\n",
    "            if(Delaunay(a.rotated_cube).find_simplex(point) >= 0):\n",
    "                return True   \n",
    "        return False\n",
    "    \n",
    "    def rotation_matrix_from_vectors(self, vec2):\n",
    "        vec1=[1,0,0]\n",
    "        a, b = (vec1 / np.linalg.norm(vec1)).reshape(3), (vec2 / np.linalg.norm(vec2)).reshape(3)\n",
    "        v = np.cross(a, b)\n",
    "        c = np.dot(a, b)\n",
    "        s = np.linalg.norm(v)\n",
    "        kmat = np.array([[0, -v[2], v[1]], [v[2], 0, -v[0]], [-v[1], v[0], 0]])\n",
    "        rotation_matrix = np.eye(3) + kmat + kmat.dot(kmat) * ((1 - c) / (s ** 2))\n",
    "        return rotation_matrix\n",
    "    \n",
    "    def collide_clusters(self, clusters:[Cluster]):\n",
    "        \n",
    "        galaxies=[]\n",
    "        vertex_points=[]\n",
    "        for cluster in clusters:\n",
    "            galaxies.append(cluster.galaxies)\n",
    "            vertex_points.append(cluster.rotated_cube)\n",
    "        galaxies=np.concatenate( galaxies, axis=0 )\n",
    "        vertex_points=np.concatenate( vertex_points, axis=0 )\n",
    "        \n",
    "        center = galaxies.mean(axis=0)\n",
    "\n",
    "        projections = center * np.dot(galaxies, np.transpose([center])) / np.dot(center, center)\n",
    "        \n",
    "        distances_on_line=np.linalg.norm(projections-center,axis=1)\n",
    "        vectors_from_line=galaxies-projections\n",
    "    \n",
    "        length = distances_on_line.max()\n",
    "        width=np.linalg.norm(vectors_from_line,axis=1).max()\n",
    "    \n",
    "        cube=self.unit_cube.copy()*[width*2+0.05,width*2+0.05,length*2+0.05]\n",
    "    \n",
    "        return Cluster(center,cube,galaxies)\n",
    "            "
   ]
  },
  {
   "cell_type": "code",
   "execution_count": 23,
   "metadata": {},
   "outputs": [
    {
     "name": "stderr",
     "output_type": "stream",
     "text": [
      "100%|████████████████████████████████████████████████████████████████████████████████| 341/341 [00:33<00:00, 10.20it/s]\n"
     ]
    }
   ],
   "source": [
    "clusterer=Clusterer(tmp_coor)\n",
    "clusterer.merge()\n"
   ]
  },
  {
   "cell_type": "code",
   "execution_count": 24,
   "metadata": {},
   "outputs": [
    {
     "data": {
      "application/vnd.plotly.v1+json": {
       "config": {
        "plotlyServerURL": "https://plot.ly"
       },
       "data": [
        {
         "marker": {
          "color": "green",
          "opacity": 1,
          "size": 1
         },
         "mode": "markers",
         "type": "scatter3d",
         "x": [
          26.25519274826423
         ],
         "y": [
          -8.896680091766376
         ],
         "z": [
          -3.1303635950131232
         ]
        },
        {
         "marker": {
          "color": "green",
          "opacity": 1,
          "size": 1
         },
         "mode": "markers",
         "type": "scatter3d",
         "x": [
          23.50356918470079,
          23.339844151260813
         ],
         "y": [
          5.425536476688037,
          5.387943826902889
         ],
         "z": [
          0.2048942805328489,
          0.20455782757339466
         ]
        },
        {
         "color": "blue",
         "i": [
          7,
          0,
          0,
          0,
          4,
          4,
          6,
          6,
          4,
          0,
          3,
          2
         ],
         "j": [
          3,
          4,
          1,
          2,
          5,
          6,
          5,
          2,
          0,
          1,
          6,
          3
         ],
         "k": [
          0,
          7,
          2,
          3,
          6,
          7,
          1,
          1,
          5,
          5,
          7,
          6
         ],
         "opacity": 0.5,
         "type": "mesh3d",
         "x": [
          23.31956600366958,
          23.30845952774499,
          23.31145867914548,
          23.32256515507007,
          23.53195465681612,
          23.52084818089153,
          23.52384733229202,
          23.53495380821661
         ],
         "y": [
          5.363505182555167,
          5.4120531348148875,
          5.400946658890298,
          5.352398706630578,
          5.412533644700627,
          5.461081596960347,
          5.449975121035758,
          5.401427168776038
         ],
         "z": [
          0.2344459904035463,
          0.22294993749398495,
          0.17314965645071725,
          0.18464570936027863,
          0.2363024516555263,
          0.22480639874596492,
          0.17500611770269725,
          0.1865021706122586
         ]
        },
        {
         "marker": {
          "color": "red",
          "opacity": 1,
          "size": 1
         },
         "mode": "markers",
         "type": "scatter3d",
         "x": [
          23.4217066679808
         ],
         "y": [
          5.4067401517954625
         ],
         "z": [
          0.20472605405312178
         ]
        },
        {
         "marker": {
          "color": "green",
          "opacity": 1,
          "size": 1
         },
         "mode": "markers",
         "type": "scatter3d",
         "x": [
          29.850014841469488,
          30.282196271424088,
          30.092247994507343,
          29.76911660651801
         ],
         "y": [
          -7.992312941693963,
          -8.105416013283005,
          -8.056435372113876,
          -7.654915905149628
         ],
         "z": [
          -8.854478685640323,
          -8.977222293419088,
          -8.930966508017024,
          -8.82973533882085
         ]
        },
        {
         "color": "blue",
         "i": [
          7,
          0,
          0,
          0,
          4,
          4,
          6,
          6,
          4,
          0,
          3,
          2
         ],
         "j": [
          3,
          4,
          1,
          2,
          5,
          6,
          5,
          2,
          0,
          1,
          6,
          3
         ],
         "k": [
          0,
          7,
          2,
          3,
          6,
          7,
          1,
          1,
          5,
          5,
          7,
          6
         ],
         "opacity": 0.5,
         "type": "mesh3d",
         "x": [
          29.64327407011408,
          29.80394135213398,
          29.706377978845868,
          29.545710696825967,
          30.290409878113596,
          30.451077160133497,
          30.353513786845383,
          30.192846504825486
         ],
         "y": [
          -8.179794862768352,
          -7.713863394383693,
          -7.553196112363793,
          -8.019127580748453,
          -8.351344003756445,
          -7.885412535371786,
          -7.724745253351886,
          -8.190676721736544
         ],
         "z": [
          -8.628499180080112,
          -8.50324238775174,
          -8.975749303519247,
          -9.10100609584762,
          -8.820452109429393,
          -8.695195317101021,
          -9.167702232868528,
          -9.2929590251969
         ]
        },
        {
         "marker": {
          "color": "red",
          "opacity": 1,
          "size": 1
         },
         "mode": "markers",
         "type": "scatter3d",
         "x": [
          29.998393928479732
         ],
         "y": [
          -7.952270058060119
         ],
         "z": [
          -8.89810070647432
         ]
        },
        {
         "marker": {
          "color": "green",
          "opacity": 1,
          "size": 1
         },
         "mode": "markers",
         "type": "scatter3d",
         "x": [
          32.676127298888396
         ],
         "y": [
          -3.8313094250047177
         ],
         "z": [
          1.5630919183455103
         ]
        },
        {
         "marker": {
          "color": "green",
          "opacity": 1,
          "size": 1
         },
         "mode": "markers",
         "type": "scatter3d",
         "x": [
          23.21142988856905,
          22.907677469311643,
          23.04051184338749
         ],
         "y": [
          4.911350842812152,
          4.8465278583075975,
          4.699734181643889
         ],
         "z": [
          4.813485438447637,
          4.757664604259007,
          4.788389329389826
         ]
        },
        {
         "color": "blue",
         "i": [
          7,
          0,
          0,
          0,
          4,
          4,
          6,
          6,
          4,
          0,
          3,
          2
         ],
         "j": [
          3,
          4,
          1,
          2,
          5,
          6,
          5,
          2,
          0,
          1,
          6,
          3
         ],
         "k": [
          0,
          7,
          2,
          3,
          6,
          7,
          1,
          1,
          5,
          5,
          7,
          6
         ],
         "opacity": 0.5,
         "type": "mesh3d",
         "x": [
          22.850662976544363,
          22.805842399387743,
          22.870863507767094,
          22.915684084923715,
          23.23554929307836,
          23.19072871592174,
          23.25574982430109,
          23.300570401457712
         ],
         "y": [
          4.666357023606577,
          4.9364128012966075,
          4.891592224139989,
          4.621536446449959,
          4.746816364369103,
          5.016872142059134,
          4.972051564902515,
          4.701995787212485
         ],
         "z": [
          4.908588861396061,
          4.852557270046631,
          4.5845238434781574,
          4.640555434827587,
          4.988502404586157,
          4.932470813236727,
          4.664437386668253,
          4.720468978017683
         ]
        },
        {
         "marker": {
          "color": "red",
          "opacity": 1,
          "size": 1
         },
         "mode": "markers",
         "type": "scatter3d",
         "x": [
          23.053206400422727
         ],
         "y": [
          4.819204294254546
         ],
         "z": [
          4.786513124032157
         ]
        },
        {
         "marker": {
          "color": "green",
          "opacity": 1,
          "size": 1
         },
         "mode": "markers",
         "type": "scatter3d",
         "x": [
          23.744064982601536
         ],
         "y": [
          -1.5481663369776997
         ],
         "z": [
          -2.9528195999658946
         ]
        },
        {
         "marker": {
          "color": "green",
          "opacity": 1,
          "size": 1
         },
         "mode": "markers",
         "type": "scatter3d",
         "x": [
          30.786244680534033
         ],
         "y": [
          -2.1641558247496797
         ],
         "z": [
          1.7394543539739271
         ]
        },
        {
         "marker": {
          "color": "green",
          "opacity": 1,
          "size": 1
         },
         "mode": "markers",
         "type": "scatter3d",
         "x": [
          25.85541576975459
         ],
         "y": [
          -2.592588210235049
         ],
         "z": [
          4.39414160017387
         ]
        },
        {
         "marker": {
          "color": "green",
          "opacity": 1,
          "size": 1
         },
         "mode": "markers",
         "type": "scatter3d",
         "x": [
          27.66438340664748,
          27.562470432640193
         ],
         "y": [
          -7.269421362683826,
          -7.162989832275027
         ],
         "z": [
          -8.4121667479354,
          -8.20228234874868
         ]
        },
        {
         "color": "blue",
         "i": [
          7,
          0,
          0,
          0,
          4,
          4,
          6,
          6,
          4,
          0,
          3,
          2
         ],
         "j": [
          3,
          4,
          1,
          2,
          5,
          6,
          5,
          2,
          0,
          1,
          6,
          3
         ],
         "k": [
          0,
          7,
          2,
          3,
          6,
          7,
          1,
          1,
          5,
          5,
          7,
          6
         ],
         "opacity": 0.5,
         "type": "mesh3d",
         "x": [
          27.493522215833323,
          27.566598459823577,
          27.52044544687434,
          27.447369202884087,
          27.70640839241333,
          27.779484636403584,
          27.733331623454347,
          27.660255379464093
         ],
         "y": [
          -7.332118235467633,
          -7.1177357457605925,
          -7.044659501770338,
          -7.259041991477379,
          -7.387751693188514,
          -7.1733692034814736,
          -7.100292959491219,
          -7.31467544919826
         ],
         "z": [
          -8.195096109297703,
          -8.138415638218419,
          -8.355308300820147,
          -8.41198877189943,
          -8.259140795863933,
          -8.20246032478465,
          -8.419352987386377,
          -8.476033458465661
         ]
        },
        {
         "marker": {
          "color": "red",
          "opacity": 1,
          "size": 1
         },
         "mode": "markers",
         "type": "scatter3d",
         "x": [
          27.613426919643835
         ],
         "y": [
          -7.216205597479426
         ],
         "z": [
          -8.30722454834204
         ]
        },
        {
         "marker": {
          "color": "green",
          "opacity": 1,
          "size": 1
         },
         "mode": "markers",
         "type": "scatter3d",
         "x": [
          25.488613271361533
         ],
         "y": [
          -2.0928896495307203
         ],
         "z": [
          -2.6537988638108065
         ]
        },
        {
         "marker": {
          "color": "green",
          "opacity": 1,
          "size": 1
         },
         "mode": "markers",
         "type": "scatter3d",
         "x": [
          22.970950416810158,
          23.13960411332907
         ],
         "y": [
          9.91471537060934,
          9.978894848901176
         ],
         "z": [
          -1.3504364568480576,
          -1.3517512581539182
         ]
        },
        {
         "color": "blue",
         "i": [
          7,
          0,
          0,
          0,
          4,
          4,
          6,
          6,
          4,
          0,
          3,
          2
         ],
         "j": [
          3,
          4,
          1,
          2,
          5,
          6,
          5,
          2,
          0,
          1,
          6,
          3
         ],
         "k": [
          0,
          7,
          2,
          3,
          6,
          7,
          1,
          1,
          5,
          5,
          7,
          6
         ],
         "opacity": 0.5,
         "type": "mesh3d",
         "x": [
          22.958149382291985,
          22.934578401157673,
          22.941443323990665,
          22.96501430512498,
          23.16911120614856,
          23.145540225014244,
          23.15240514784724,
          23.175976128981553
         ],
         "y": [
          9.88741776341272,
          9.938747565968697,
          9.91517658483438,
          9.863846782278406,
          9.978433634676133,
          10.029763437232107,
          10.006192456097793,
          9.954862653541817
         ],
         "z": [
          -1.3045557852681875,
          -1.3288827133586432,
          -1.3852690671621175,
          -1.3609421390716618,
          -1.3169186478398582,
          -1.341245575930314,
          -1.3976319297337882,
          -1.3733050016433326
         ]
        },
        {
         "marker": {
          "color": "red",
          "opacity": 1,
          "size": 1
         },
         "mode": "markers",
         "type": "scatter3d",
         "x": [
          23.055277265069613
         ],
         "y": [
          9.946805109755257
         ],
         "z": [
          -1.3510938575009879
         ]
        },
        {
         "marker": {
          "color": "green",
          "opacity": 1,
          "size": 1
         },
         "mode": "markers",
         "type": "scatter3d",
         "x": [
          25.99140131677393
         ],
         "y": [
          2.37264215544927
         ],
         "z": [
          -5.956432924109957
         ]
        },
        {
         "marker": {
          "color": "green",
          "opacity": 1,
          "size": 1
         },
         "mode": "markers",
         "type": "scatter3d",
         "x": [
          22.850440384163882,
          22.649257953447517
         ],
         "y": [
          -9.75694990943984,
          -9.673196325532462
         ],
         "z": [
          4.231442079875814,
          4.195405496716515
         ]
        },
        {
         "color": "blue",
         "i": [
          7,
          0,
          0,
          0,
          4,
          4,
          6,
          6,
          4,
          0,
          3,
          2
         ],
         "j": [
          3,
          4,
          1,
          2,
          5,
          6,
          5,
          2,
          0,
          1,
          6,
          3
         ],
         "k": [
          0,
          7,
          2,
          3,
          6,
          7,
          1,
          1,
          5,
          5,
          7,
          6
         ],
         "opacity": 0.5,
         "type": "mesh3d",
         "x": [
          22.611473457220615,
          22.627177003161968,
          22.642656688301958,
          22.626953142360605,
          22.85704164930944,
          22.872745195250793,
          22.888224880390784,
          22.87252133444943
         ],
         "y": [
          -9.693264667797996,
          -9.647717914930316,
          -9.632014368988964,
          -9.677561121856643,
          -9.798131865983338,
          -9.752585113115659,
          -9.736881567174306,
          -9.782428320041985
         ],
         "z": [
          4.20425458314131,
          4.224484386046295,
          4.177112126544232,
          4.156882323639247,
          4.249735450048098,
          4.2699652529530825,
          4.22259299345102,
          4.202363190546035
         ]
        },
        {
         "marker": {
          "color": "red",
          "opacity": 1,
          "size": 1
         },
         "mode": "markers",
         "type": "scatter3d",
         "x": [
          22.7498491688057
         ],
         "y": [
          -9.71507311748615
         ],
         "z": [
          4.213423788296165
         ]
        },
        {
         "marker": {
          "color": "green",
          "opacity": 1,
          "size": 1
         },
         "mode": "markers",
         "type": "scatter3d",
         "x": [
          37.35707491328683
         ],
         "y": [
          9.588499360544565
         ],
         "z": [
          0.9365151183681214
         ]
        },
        {
         "marker": {
          "color": "green",
          "opacity": 1,
          "size": 1
         },
         "mode": "markers",
         "type": "scatter3d",
         "x": [
          28.51365048655693
         ],
         "y": [
          9.662179177056203
         ],
         "z": [
          0.575614715632612
         ]
        },
        {
         "marker": {
          "color": "green",
          "opacity": 1,
          "size": 1
         },
         "mode": "markers",
         "type": "scatter3d",
         "x": [
          36.15949805544972
         ],
         "y": [
          -4.747575139102111
         ],
         "z": [
          0.3571928570914761
         ]
        },
        {
         "marker": {
          "color": "green",
          "opacity": 1,
          "size": 1
         },
         "mode": "markers",
         "type": "scatter3d",
         "x": [
          26.938558630792667
         ],
         "y": [
          9.1805195281544
         ],
         "z": [
          0.8079793961139444
         ]
        },
        {
         "marker": {
          "color": "green",
          "opacity": 1,
          "size": 1
         },
         "mode": "markers",
         "type": "scatter3d",
         "x": [
          20.63610303553266
         ],
         "y": [
          -2.2682939862417193
         ],
         "z": [
          -6.773919643601656
         ]
        },
        {
         "marker": {
          "color": "green",
          "opacity": 1,
          "size": 1
         },
         "mode": "markers",
         "type": "scatter3d",
         "x": [
          23.96720479017631
         ],
         "y": [
          -1.6484370033925366
         ],
         "z": [
          -4.5684875642718445
         ]
        },
        {
         "marker": {
          "color": "green",
          "opacity": 1,
          "size": 1
         },
         "mode": "markers",
         "type": "scatter3d",
         "x": [
          36.24798221769972
         ],
         "y": [
          -4.453903536871124
         ],
         "z": [
          -0.3426043426986965
         ]
        },
        {
         "marker": {
          "color": "green",
          "opacity": 1,
          "size": 1
         },
         "mode": "markers",
         "type": "scatter3d",
         "x": [
          21.523965808513886
         ],
         "y": [
          4.0130525176591325
         ],
         "z": [
          7.1824638619954335
         ]
        },
        {
         "marker": {
          "color": "green",
          "opacity": 1,
          "size": 1
         },
         "mode": "markers",
         "type": "scatter3d",
         "x": [
          29.562604262984628
         ],
         "y": [
          -1.7580867360460088
         ],
         "z": [
          0.1284819146395446
         ]
        },
        {
         "marker": {
          "color": "green",
          "opacity": 1,
          "size": 1
         },
         "mode": "markers",
         "type": "scatter3d",
         "x": [
          30.06760930493032
         ],
         "y": [
          4.150208223598189
         ],
         "z": [
          -3.3009746394047847
         ]
        },
        {
         "marker": {
          "color": "green",
          "opacity": 1,
          "size": 1
         },
         "mode": "markers",
         "type": "scatter3d",
         "x": [
          27.924326850747036
         ],
         "y": [
          -3.577918821420705
         ],
         "z": [
          -0.13534029521602342
         ]
        },
        {
         "marker": {
          "color": "green",
          "opacity": 1,
          "size": 1
         },
         "mode": "markers",
         "type": "scatter3d",
         "x": [
          38.05575171187765
         ],
         "y": [
          -0.5327219938374367
         ],
         "z": [
          -0.9003996246776116
         ]
        },
        {
         "marker": {
          "color": "green",
          "opacity": 1,
          "size": 1
         },
         "mode": "markers",
         "type": "scatter3d",
         "x": [
          27.67435993301867
         ],
         "y": [
          9.48115642765819
         ],
         "z": [
          -0.4950769578788122
         ]
        },
        {
         "marker": {
          "color": "green",
          "opacity": 1,
          "size": 1
         },
         "mode": "markers",
         "type": "scatter3d",
         "x": [
          22.146191572417287
         ],
         "y": [
          8.599021345226285
         ],
         "z": [
          -4.062240384312765
         ]
        },
        {
         "marker": {
          "color": "green",
          "opacity": 1,
          "size": 1
         },
         "mode": "markers",
         "type": "scatter3d",
         "x": [
          21.340533705985393,
          21.270144966589502
         ],
         "y": [
          -8.719690191641515,
          -8.749031121838119
         ],
         "z": [
          0.07864742176074249,
          0.05075746646538053
         ]
        },
        {
         "color": "blue",
         "i": [
          7,
          0,
          0,
          0,
          4,
          4,
          6,
          6,
          4,
          0,
          3,
          2
         ],
         "j": [
          3,
          4,
          1,
          2,
          5,
          6,
          5,
          2,
          0,
          1,
          6,
          3
         ],
         "k": [
          0,
          7,
          2,
          3,
          6,
          7,
          1,
          1,
          5,
          5,
          7,
          6
         ],
         "opacity": 0.5,
         "type": "mesh3d",
         "x": [
          21.22975291361186,
          21.268451894359973,
          21.284627673254736,
          21.245928692506624,
          21.326050999320156,
          21.364749980068268,
          21.38092575896303,
          21.34222677821492
         ],
         "y": [
          -8.781324618051947,
          -8.686617205645302,
          -8.64791822489719,
          -8.742625637303835,
          -8.820803088582444,
          -8.726095676175799,
          -8.687396695427687,
          -8.782104107834332
         ],
         "z": [
          0.0947391866160097,
          0.13668165195005266,
          0.034373252782596925,
          -0.0075692125514460196,
          0.09503163544352608,
          0.13697410077756902,
          0.0346657016101133,
          -0.007276763723929644
         ]
        },
        {
         "marker": {
          "color": "red",
          "opacity": 1,
          "size": 1
         },
         "mode": "markers",
         "type": "scatter3d",
         "x": [
          21.305339336287446
         ],
         "y": [
          -8.734360656739817
         ],
         "z": [
          0.0647024441130615
         ]
        },
        {
         "marker": {
          "color": "green",
          "opacity": 1,
          "size": 1
         },
         "mode": "markers",
         "type": "scatter3d",
         "x": [
          30.870799254599387
         ],
         "y": [
          -4.87253419941901
         ],
         "z": [
          4.658983999134653
         ]
        },
        {
         "marker": {
          "color": "green",
          "opacity": 1,
          "size": 1
         },
         "mode": "markers",
         "type": "scatter3d",
         "x": [
          32.310552964291695
         ],
         "y": [
          -7.9146492253118
         ],
         "z": [
          -7.266990373877912
         ]
        },
        {
         "marker": {
          "color": "green",
          "opacity": 1,
          "size": 1
         },
         "mode": "markers",
         "type": "scatter3d",
         "x": [
          25.90678510710281
         ],
         "y": [
          -7.348910068557661
         ],
         "z": [
          4.445161772180871
         ]
        },
        {
         "marker": {
          "color": "green",
          "opacity": 1,
          "size": 1
         },
         "mode": "markers",
         "type": "scatter3d",
         "x": [
          21.783229740415788,
          21.536028001853566
         ],
         "y": [
          -5.311578097077575,
          -5.145467215935431
         ],
         "z": [
          -5.616418655752948,
          -5.7913595030695815
         ]
        },
        {
         "color": "blue",
         "i": [
          7,
          0,
          0,
          0,
          4,
          4,
          6,
          6,
          4,
          0,
          3,
          2
         ],
         "j": [
          3,
          4,
          1,
          2,
          5,
          6,
          5,
          2,
          0,
          1,
          6,
          3
         ],
         "k": [
          0,
          7,
          2,
          3,
          6,
          7,
          1,
          1,
          5,
          5,
          7,
          6
         ],
         "opacity": 0.5,
         "type": "mesh3d",
         "x": [
          21.512775006664416,
          21.601077424019063,
          21.54546803089313,
          21.45716561353848,
          21.773789711376228,
          21.86209212873088,
          21.80648273560494,
          21.718180318250294
         ],
         "y": [
          -5.385607875711613,
          -5.096732251645549,
          -5.0084298342909,
          -5.297305458356964,
          -5.448615478722107,
          -5.159739854656043,
          -5.071437437301394,
          -5.360313061367457
         ],
         "z": [
          -5.558722477778923,
          -5.488208336044352,
          -5.780319557602658,
          -5.850833699337229,
          -5.627458601219873,
          -5.556944459485302,
          -5.849055681043608,
          -5.919569822778179
         ]
        },
        {
         "marker": {
          "color": "red",
          "opacity": 1,
          "size": 1
         },
         "mode": "markers",
         "type": "scatter3d",
         "x": [
          21.65962887113468
         ],
         "y": [
          -5.228522656506503
         ],
         "z": [
          -5.703889079411265
         ]
        },
        {
         "marker": {
          "color": "green",
          "opacity": 1,
          "size": 1
         },
         "mode": "markers",
         "type": "scatter3d",
         "x": [
          28.534115253780627
         ],
         "y": [
          -5.4853405581238475
         ],
         "z": [
          -9.757414234659322
         ]
        },
        {
         "marker": {
          "color": "green",
          "opacity": 1,
          "size": 1
         },
         "mode": "markers",
         "type": "scatter3d",
         "x": [
          27.563164841149376
         ],
         "y": [
          -4.035159526222102
         ],
         "z": [
          0.437586682484
         ]
        },
        {
         "marker": {
          "color": "green",
          "opacity": 1,
          "size": 1
         },
         "mode": "markers",
         "type": "scatter3d",
         "x": [
          25.465378670279065
         ],
         "y": [
          7.201325621813908
         ],
         "z": [
          1.4095390670547665
         ]
        },
        {
         "marker": {
          "color": "green",
          "opacity": 1,
          "size": 1
         },
         "mode": "markers",
         "type": "scatter3d",
         "x": [
          25.056433069182845
         ],
         "y": [
          -1.515226577987534
         ],
         "z": [
          8.819484114613608
         ]
        },
        {
         "marker": {
          "color": "green",
          "opacity": 1,
          "size": 1
         },
         "mode": "markers",
         "type": "scatter3d",
         "x": [
          39.48173994603695,
          39.3022377172159,
          39.273691701265285
         ],
         "y": [
          -6.185397785703374,
          -6.162999754248864,
          -6.160841353310972
         ],
         "z": [
          0.0753250572694559,
          0.07573963598396474,
          0.07421906012852257
         ]
        },
        {
         "color": "blue",
         "i": [
          7,
          0,
          0,
          0,
          4,
          4,
          6,
          6,
          4,
          0,
          3,
          2
         ],
         "j": [
          3,
          4,
          1,
          2,
          5,
          6,
          5,
          2,
          0,
          1,
          6,
          3
         ],
         "k": [
          0,
          7,
          2,
          3,
          6,
          7,
          1,
          1,
          5,
          5,
          7,
          6
         ],
         "opacity": 0.5,
         "type": "mesh3d",
         "x": [
          39.194103048690366,
          39.20312843262492,
          39.20465484783836,
          39.19562946390381,
          39.5004580618404,
          39.50948344577495,
          39.511009860988395,
          39.50198447705384
         ],
         "y": [
          -6.1790826673658374,
          -6.121404564434734,
          -6.112379180500183,
          -6.170057283431286,
          -6.227113415008624,
          -6.16943531207752,
          -6.160409928142969,
          -6.218088031074073
         ],
         "z": [
          0.09941577939340838,
          0.10856865259445787,
          0.05018878703995622,
          0.04103591383890673,
          0.10000038188133928,
          0.10915325508238877,
          0.05077338952788711,
          0.04162051632683762
         ]
        },
        {
         "marker": {
          "color": "red",
          "opacity": 1,
          "size": 1
         },
         "mode": "markers",
         "type": "scatter3d",
         "x": [
          39.35255645483938
         ],
         "y": [
          -6.169746297754403
         ],
         "z": [
          0.07509458446064775
         ]
        },
        {
         "marker": {
          "color": "green",
          "opacity": 1,
          "size": 1
         },
         "mode": "markers",
         "type": "scatter3d",
         "x": [
          26.030967633967748
         ],
         "y": [
          7.268114127967986
         ],
         "z": [
          2.1308380753058422
         ]
        },
        {
         "marker": {
          "color": "green",
          "opacity": 1,
          "size": 1
         },
         "mode": "markers",
         "type": "scatter3d",
         "x": [
          30.58206598978776
         ],
         "y": [
          4.684515404949693
         ],
         "z": [
          -3.8816792120633483
         ]
        },
        {
         "marker": {
          "color": "green",
          "opacity": 1,
          "size": 1
         },
         "mode": "markers",
         "type": "scatter3d",
         "x": [
          20.97114490358891
         ],
         "y": [
          -0.5542278438119231
         ],
         "z": [
          -0.02107550580452737
         ]
        },
        {
         "marker": {
          "color": "green",
          "opacity": 1,
          "size": 1
         },
         "mode": "markers",
         "type": "scatter3d",
         "x": [
          21.526863975425787
         ],
         "y": [
          -2.77342798969482
         ],
         "z": [
          3.3792510571781724
         ]
        },
        {
         "marker": {
          "color": "green",
          "opacity": 1,
          "size": 1
         },
         "mode": "markers",
         "type": "scatter3d",
         "x": [
          26.035328009528588
         ],
         "y": [
          -0.3704536676436582
         ],
         "z": [
          -7.862361036328045
         ]
        },
        {
         "marker": {
          "color": "green",
          "opacity": 1,
          "size": 1
         },
         "mode": "markers",
         "type": "scatter3d",
         "x": [
          29.88402134951427,
          29.98435124412618
         ],
         "y": [
          3.5219792074907637,
          3.520717110135988
         ],
         "z": [
          -6.162109360209072,
          -6.175229383156626
         ]
        },
        {
         "color": "blue",
         "i": [
          7,
          0,
          0,
          0,
          4,
          4,
          6,
          6,
          4,
          0,
          3,
          2
         ],
         "j": [
          3,
          4,
          1,
          2,
          5,
          6,
          5,
          2,
          0,
          1,
          6,
          3
         ],
         "k": [
          0,
          7,
          2,
          3,
          6,
          7,
          1,
          1,
          5,
          5,
          7,
          6
         ],
         "opacity": 0.5,
         "type": "mesh3d",
         "x": [
          29.8716380885372,
          29.862613310825537,
          29.85068437665214,
          29.859709154363802,
          30.01768821698831,
          30.00866343927665,
          29.99673450510325,
          30.005759282814914
         ],
         "y": [
          3.4854066345981485,
          3.5491336579679382,
          3.540108880256276,
          3.4763818568864857,
          3.502587437370476,
          3.566314460740266,
          3.5572896830286034,
          3.4935626596588136
         ],
         "z": [
          -6.1183938379655025,
          -6.125809430882253,
          -6.188847713341148,
          -6.181432120424398,
          -6.148491030024551,
          -6.155906622941301,
          -6.218944905400196,
          -6.211529312483446
         ]
        },
        {
         "marker": {
          "color": "red",
          "opacity": 1,
          "size": 1
         },
         "mode": "markers",
         "type": "scatter3d",
         "x": [
          29.934186296820226
         ],
         "y": [
          3.521348158813376
         ],
         "z": [
          -6.168669371682849
         ]
        },
        {
         "marker": {
          "color": "green",
          "opacity": 1,
          "size": 1
         },
         "mode": "markers",
         "type": "scatter3d",
         "x": [
          34.77084850748718
         ],
         "y": [
          -6.80023473628858
         ],
         "z": [
          -4.291377908238843
         ]
        },
        {
         "marker": {
          "color": "green",
          "opacity": 1,
          "size": 1
         },
         "mode": "markers",
         "type": "scatter3d",
         "x": [
          20.59431485062141,
          20.649417161642393
         ],
         "y": [
          3.2412850406030964,
          3.251931208402586
         ],
         "z": [
          9.887727789876486,
          9.905774941000086
         ]
        },
        {
         "color": "blue",
         "i": [
          7,
          0,
          0,
          0,
          4,
          4,
          6,
          6,
          4,
          0,
          3,
          2
         ],
         "j": [
          3,
          4,
          1,
          2,
          5,
          6,
          5,
          2,
          0,
          1,
          6,
          3
         ],
         "k": [
          0,
          7,
          2,
          3,
          6,
          7,
          1,
          1,
          5,
          5,
          7,
          6
         ],
         "opacity": 0.5,
         "type": "mesh3d",
         "x": [
          20.563211296057126,
          20.55812133107264,
          20.58375171366152,
          20.588841678646006,
          20.659980298602285,
          20.6548903336178,
          20.68052071620668,
          20.685610681191164
         ],
         "y": [
          3.212955893489598,
          3.270115470765356,
          3.2650255057808697,
          3.2078659285051114,
          3.2281907432248125,
          3.2853503205005707,
          3.2802603555160843,
          3.223100778240326
         ],
         "z": [
          9.903471599422355,
          9.895326485019243,
          9.843590195518248,
          9.85173530992136,
          9.949912535358324,
          9.941767420955212,
          9.890031131454217,
          9.898176245857329
         ]
        },
        {
         "marker": {
          "color": "red",
          "opacity": 1,
          "size": 1
         },
         "mode": "markers",
         "type": "scatter3d",
         "x": [
          20.621866006131903
         ],
         "y": [
          3.246608124502841
         ],
         "z": [
          9.896751365438286
         ]
        },
        {
         "marker": {
          "color": "green",
          "opacity": 1,
          "size": 1
         },
         "mode": "markers",
         "type": "scatter3d",
         "x": [
          24.395368414820155
         ],
         "y": [
          -2.4390237489262234
         ],
         "z": [
          0.0157296874642134
         ]
        },
        {
         "marker": {
          "color": "green",
          "opacity": 1,
          "size": 1
         },
         "mode": "markers",
         "type": "scatter3d",
         "x": [
          37.960304330962074
         ],
         "y": [
          -7.707588423636955
         ],
         "z": [
          -9.069339375094783
         ]
        },
        {
         "marker": {
          "color": "green",
          "opacity": 1,
          "size": 1
         },
         "mode": "markers",
         "type": "scatter3d",
         "x": [
          38.032641952748
         ],
         "y": [
          9.517736339347644
         ],
         "z": [
          -8.594083175063188
         ]
        },
        {
         "marker": {
          "color": "green",
          "opacity": 1,
          "size": 1
         },
         "mode": "markers",
         "type": "scatter3d",
         "x": [
          26.9088747334724
         ],
         "y": [
          -9.115574035888939
         ],
         "z": [
          -3.2019475208997266
         ]
        },
        {
         "marker": {
          "color": "green",
          "opacity": 1,
          "size": 1
         },
         "mode": "markers",
         "type": "scatter3d",
         "x": [
          21.69741420339085
         ],
         "y": [
          -1.896676629569665
         ],
         "z": [
          8.840145171454429
         ]
        },
        {
         "marker": {
          "color": "green",
          "opacity": 1,
          "size": 1
         },
         "mode": "markers",
         "type": "scatter3d",
         "x": [
          33.55466475841816
         ],
         "y": [
          7.762756982554518
         ],
         "z": [
          -7.303176325846922
         ]
        },
        {
         "marker": {
          "color": "green",
          "opacity": 1,
          "size": 1
         },
         "mode": "markers",
         "type": "scatter3d",
         "x": [
          28.199491842390284
         ],
         "y": [
          6.488400630019131
         ],
         "z": [
          -1.5697280519083443
         ]
        },
        {
         "marker": {
          "color": "green",
          "opacity": 1,
          "size": 1
         },
         "mode": "markers",
         "type": "scatter3d",
         "x": [
          22.007366723576244,
          22.094068976511718
         ],
         "y": [
          -5.364415821008965,
          -5.406648102177316
         ],
         "z": [
          -7.740993039315972,
          -7.700559992837643
         ]
        },
        {
         "color": "blue",
         "i": [
          7,
          0,
          0,
          0,
          4,
          4,
          6,
          6,
          4,
          0,
          3,
          2
         ],
         "j": [
          3,
          4,
          1,
          2,
          5,
          6,
          5,
          2,
          0,
          1,
          6,
          3
         ],
         "k": [
          0,
          7,
          2,
          3,
          6,
          7,
          1,
          1,
          5,
          5,
          7,
          6
         ],
         "opacity": 0.5,
         "type": "mesh3d",
         "x": [
          21.989209686878628,
          22.026265739457415,
          21.996154367547522,
          21.959098314968735,
          22.10528133254044,
          22.142337385119227,
          22.112226013209334,
          22.075169960630546
         ],
         "y": [
          -5.446166641842763,
          -5.333604707732563,
          -5.296548655153774,
          -5.409110589263975,
          -5.474515268032507,
          -5.361953333922306,
          -5.324897281343518,
          -5.4374592154537185
         ],
         "z": [
          -7.658191014742456,
          -7.630874246046605,
          -7.742721016873107,
          -7.770037785568957,
          -7.698832015280509,
          -7.671515246584659,
          -7.78336201741116,
          -7.810678786107011
         ]
        },
        {
         "marker": {
          "color": "red",
          "opacity": 1,
          "size": 1
         },
         "mode": "markers",
         "type": "scatter3d",
         "x": [
          22.05071785004398
         ],
         "y": [
          -5.3855319615931405
         ],
         "z": [
          -7.720776516076808
         ]
        },
        {
         "marker": {
          "color": "green",
          "opacity": 1,
          "size": 1
         },
         "mode": "markers",
         "type": "scatter3d",
         "x": [
          24.719801543475022,
          24.82708874203804
         ],
         "y": [
          -6.4050405113249145,
          -6.436093050449388
         ],
         "z": [
          -7.30971670886703,
          -7.345570210898378
         ]
        },
        {
         "color": "blue",
         "i": [
          7,
          0,
          0,
          0,
          4,
          4,
          6,
          6,
          4,
          0,
          3,
          2
         ],
         "j": [
          3,
          4,
          1,
          2,
          5,
          6,
          5,
          2,
          0,
          1,
          6,
          3
         ],
         "k": [
          0,
          7,
          2,
          3,
          6,
          7,
          1,
          1,
          5,
          5,
          7,
          6
         ],
         "opacity": 0.5,
         "type": "mesh3d",
         "x": [
          24.692496175351803,
          24.709493700405154,
          24.69879181239025,
          24.681794287336903,
          24.848098473122807,
          24.865095998176155,
          24.854394110161255,
          24.837396585107903
         ],
         "y": [
          -6.434140198907901,
          -6.383663233112712,
          -6.3666657080593625,
          -6.417142673854551,
          -6.47446785371494,
          -6.423990887919752,
          -6.406993362866402,
          -6.457470328661591
         ],
         "z": [
          -7.285712192900006,
          -7.272475123545002,
          -7.323549712862141,
          -7.336786782217145,
          -7.331737206903268,
          -7.318500137548264,
          -7.369574726865403,
          -7.382811796220407
         ]
        },
        {
         "marker": {
          "color": "red",
          "opacity": 1,
          "size": 1
         },
         "mode": "markers",
         "type": "scatter3d",
         "x": [
          24.77344514275653
         ],
         "y": [
          -6.420566780887151
         ],
         "z": [
          -7.3276434598827045
         ]
        },
        {
         "marker": {
          "color": "green",
          "opacity": 1,
          "size": 1
         },
         "mode": "markers",
         "type": "scatter3d",
         "x": [
          36.836904852035715
         ],
         "y": [
          -3.369178160825463
         ],
         "z": [
          -0.3851842116902963
         ]
        },
        {
         "marker": {
          "color": "green",
          "opacity": 1,
          "size": 1
         },
         "mode": "markers",
         "type": "scatter3d",
         "x": [
          20.951852840329547
         ],
         "y": [
          -9.486006194869402
         ],
         "z": [
          0.05232417319669597
         ]
        },
        {
         "marker": {
          "color": "green",
          "opacity": 1,
          "size": 1
         },
         "mode": "markers",
         "type": "scatter3d",
         "x": [
          24.383940083652988,
          24.571137338314262
         ],
         "y": [
          -8.69176217124843,
          -8.753671970813368
         ],
         "z": [
          -0.1786999399785596,
          -0.18247991201589414
         ]
        },
        {
         "color": "blue",
         "i": [
          7,
          0,
          0,
          0,
          4,
          4,
          6,
          6,
          4,
          0,
          3,
          2
         ],
         "j": [
          3,
          4,
          1,
          2,
          5,
          6,
          5,
          2,
          0,
          1,
          6,
          3
         ],
         "k": [
          0,
          7,
          2,
          3,
          6,
          7,
          1,
          1,
          5,
          5,
          7,
          6
         ],
         "opacity": 0.5,
         "type": "mesh3d",
         "x": [
          24.34943087191771,
          24.366981950282668,
          24.372853303775447,
          24.35530222541049,
          24.5822241181918,
          24.599775196556756,
          24.605646550049535,
          24.58809547168458
         ],
         "y": [
          -8.714448206746916,
          -8.66557975039975,
          -8.648028672034792,
          -8.696897128381957,
          -8.797405470027007,
          -8.748537013679842,
          -8.730985935314884,
          -8.779854391662049
         ],
         "z": [
          -0.16302114546310068,
          -0.1445179999251975,
          -0.19644120888529978,
          -0.21494435442320295,
          -0.16473864310915395,
          -0.1462354975712508,
          -0.19815870653135306,
          -0.21666185206925623
         ]
        },
        {
         "marker": {
          "color": "red",
          "opacity": 1,
          "size": 1
         },
         "mode": "markers",
         "type": "scatter3d",
         "x": [
          24.477538710983623
         ],
         "y": [
          -8.7227170710309
         ],
         "z": [
          -0.18058992599722687
         ]
        },
        {
         "marker": {
          "color": "green",
          "opacity": 1,
          "size": 1
         },
         "mode": "markers",
         "type": "scatter3d",
         "x": [
          20.485931490178093
         ],
         "y": [
          -4.222735603066867
         ],
         "z": [
          -8.732080829584898
         ]
        },
        {
         "marker": {
          "color": "green",
          "opacity": 1,
          "size": 1
         },
         "mode": "markers",
         "type": "scatter3d",
         "x": [
          22.498371464567786
         ],
         "y": [
          8.334658072240353
         ],
         "z": [
          -2.8000280423903936
         ]
        },
        {
         "marker": {
          "color": "green",
          "opacity": 1,
          "size": 1
         },
         "mode": "markers",
         "type": "scatter3d",
         "x": [
          30.473402328898
         ],
         "y": [
          2.0433444295924
         ],
         "z": [
          -0.5740937797524033
         ]
        },
        {
         "marker": {
          "color": "green",
          "opacity": 1,
          "size": 1
         },
         "mode": "markers",
         "type": "scatter3d",
         "x": [
          35.818430612755634
         ],
         "y": [
          -9.729468852977133
         ],
         "z": [
          -8.983186653375009
         ]
        },
        {
         "marker": {
          "color": "green",
          "opacity": 1,
          "size": 1
         },
         "mode": "markers",
         "type": "scatter3d",
         "x": [
          21.645144511278087
         ],
         "y": [
          4.8645323109651395
         ],
         "z": [
          8.361255407268771
         ]
        },
        {
         "marker": {
          "color": "green",
          "opacity": 1,
          "size": 1
         },
         "mode": "markers",
         "type": "scatter3d",
         "x": [
          31.30921652242813
         ],
         "y": [
          -7.746823205020197
         ],
         "z": [
          -7.692641825417549
         ]
        },
        {
         "marker": {
          "color": "green",
          "opacity": 1,
          "size": 1
         },
         "mode": "markers",
         "type": "scatter3d",
         "x": [
          28.87007008983061,
          28.84026355998573
         ],
         "y": [
          2.3609046299029366,
          2.3710799971113223
         ],
         "z": [
          9.883944843304196,
          9.968167372519725
         ]
        },
        {
         "color": "blue",
         "i": [
          7,
          0,
          0,
          0,
          4,
          4,
          6,
          6,
          4,
          0,
          3,
          2
         ],
         "j": [
          3,
          4,
          1,
          2,
          5,
          6,
          5,
          2,
          0,
          1,
          6,
          3
         ],
         "k": [
          0,
          7,
          2,
          3,
          6,
          7,
          1,
          1,
          5,
          5,
          7,
          6
         ],
         "opacity": 0.5,
         "type": "mesh3d",
         "x": [
          28.81244274925734,
          28.80474257274261,
          28.850751629287277,
          28.858451805802005,
          28.859582020529057,
          28.85188184401433,
          28.897890900558995,
          28.905591077073723
         ],
         "y": [
          2.2982660576455487,
          2.4375535402455735,
          2.4298533637308437,
          2.290565881130819,
          2.302131263283415,
          2.44141874588344,
          2.4337185693687102,
          2.2944310867686855
         ],
         "z": [
          9.989313135988008,
          9.978496832501664,
          9.846583368647398,
          9.857399672133743,
          10.005528847176524,
          9.994712543690179,
          9.862799079835915,
          9.873615383322258
         ]
        },
        {
         "marker": {
          "color": "red",
          "opacity": 1,
          "size": 1
         },
         "mode": "markers",
         "type": "scatter3d",
         "x": [
          28.855166824908167
         ],
         "y": [
          2.3659923135071295
         ],
         "z": [
          9.926056107911961
         ]
        },
        {
         "marker": {
          "color": "green",
          "opacity": 1,
          "size": 1
         },
         "mode": "markers",
         "type": "scatter3d",
         "x": [
          21.778313849613014
         ],
         "y": [
          -4.920393542195511
         ],
         "z": [
          0.5417008562282218
         ]
        },
        {
         "marker": {
          "color": "green",
          "opacity": 1,
          "size": 1
         },
         "mode": "markers",
         "type": "scatter3d",
         "x": [
          21.718677560521236
         ],
         "y": [
          -3.6055291691307136
         ],
         "z": [
          9.596683429933254
         ]
        },
        {
         "marker": {
          "color": "green",
          "opacity": 1,
          "size": 1
         },
         "mode": "markers",
         "type": "scatter3d",
         "x": [
          33.690163562699645,
          33.366284800917995
         ],
         "y": [
          9.34058620482666,
          9.467592260887264
         ],
         "z": [
          3.913231441364032,
          3.853135135936604
         ]
        },
        {
         "color": "blue",
         "i": [
          7,
          0,
          0,
          0,
          4,
          4,
          6,
          6,
          4,
          0,
          3,
          2
         ],
         "j": [
          3,
          4,
          1,
          2,
          5,
          6,
          5,
          2,
          0,
          1,
          6,
          3
         ],
         "k": [
          0,
          7,
          2,
          3,
          6,
          7,
          1,
          1,
          5,
          5,
          7,
          6
         ],
         "opacity": 0.5,
         "type": "mesh3d",
         "x": [
          33.376407060650216,
          33.31588958203299,
          33.36187229959513,
          33.42238977821236,
          33.69457606402252,
          33.634058585405285,
          33.68004130296743,
          33.74055878158466
         ],
         "y": [
          9.267342286888093,
          9.512112733658444,
          9.451595255041214,
          9.206824808270863,
          9.356583210672708,
          9.60135365744306,
          9.54083617882583,
          9.296065732055478
         ],
         "z": [
          4.025117366188171,
          3.954865845021081,
          3.704399405105376,
          3.774650926272466,
          4.061967172195261,
          3.99171565102817,
          3.741249211112465,
          3.8115007322795553
         ]
        },
        {
         "marker": {
          "color": "red",
          "opacity": 1,
          "size": 1
         },
         "mode": "markers",
         "type": "scatter3d",
         "x": [
          33.528224181808824
         ],
         "y": [
          9.404089232856961
         ],
         "z": [
          3.883183288650318
         ]
        },
        {
         "marker": {
          "color": "green",
          "opacity": 1,
          "size": 1
         },
         "mode": "markers",
         "type": "scatter3d",
         "x": [
          26.737716601184786
         ],
         "y": [
          -2.442792944722849
         ],
         "z": [
          5.816773112333995
         ]
        },
        {
         "marker": {
          "color": "green",
          "opacity": 1,
          "size": 1
         },
         "mode": "markers",
         "type": "scatter3d",
         "x": [
          32.574967785040066
         ],
         "y": [
          -3.6145333193333817
         ],
         "z": [
          2.5929403187924804
         ]
        },
        {
         "marker": {
          "color": "green",
          "opacity": 1,
          "size": 1
         },
         "mode": "markers",
         "type": "scatter3d",
         "x": [
          22.819256111240396
         ],
         "y": [
          5.819815346012399
         ],
         "z": [
          -9.936985277677085
         ]
        },
        {
         "marker": {
          "color": "green",
          "opacity": 1,
          "size": 1
         },
         "mode": "markers",
         "type": "scatter3d",
         "x": [
          36.8582654377316
         ],
         "y": [
          -0.504917165932927
         ],
         "z": [
          -3.554752387517244
         ]
        },
        {
         "marker": {
          "color": "green",
          "opacity": 1,
          "size": 1
         },
         "mode": "markers",
         "type": "scatter3d",
         "x": [
          28.541352419605623
         ],
         "y": [
          5.509660836271074
         ],
         "z": [
          0.06552819385732953
         ]
        },
        {
         "marker": {
          "color": "green",
          "opacity": 1,
          "size": 1
         },
         "mode": "markers",
         "type": "scatter3d",
         "x": [
          39.172136229283275
         ],
         "y": [
          -8.257757604347342
         ],
         "z": [
          -8.217615085835375
         ]
        },
        {
         "marker": {
          "color": "green",
          "opacity": 1,
          "size": 1
         },
         "mode": "markers",
         "type": "scatter3d",
         "x": [
          24.55666538050703,
          24.767852867267905,
          24.371821135657513,
          24.8143523137046
         ],
         "y": [
          -0.4389089343533277,
          -0.4576847360687648,
          -0.4778648141624943,
          -0.4868883610781336
         ],
         "z": [
          -8.191638103905122,
          -8.252511100337392,
          -7.883141759673093,
          -8.025691307568719
         ]
        },
        {
         "color": "blue",
         "i": [
          7,
          0,
          0,
          0,
          4,
          4,
          6,
          6,
          4,
          0,
          3,
          2
         ],
         "j": [
          3,
          4,
          1,
          2,
          5,
          6,
          5,
          2,
          0,
          1,
          6,
          3
         ],
         "k": [
          0,
          7,
          2,
          3,
          6,
          7,
          1,
          1,
          5,
          5,
          7,
          6
         ],
         "opacity": 0.5,
         "type": "mesh3d",
         "x": [
          24.354957247536703,
          24.362298216347597,
          24.270018684040473,
          24.26267771522958,
          24.98532716452805,
          24.992668133338945,
          24.90038860103182,
          24.893047632220927
         ],
         "y": [
          -0.6111009346123871,
          -0.31500269854895313,
          -0.3076617297380577,
          -0.6037599658014917,
          -0.6230116930933025,
          -0.3269134570298685,
          -0.3195724882189731,
          -0.6156707242824071
         ],
         "z": [
          -7.846689868822632,
          -7.84137281965103,
          -8.12277453309455,
          -8.128091582266151,
          -8.053716602647615,
          -8.048399553476013,
          -8.329801266919533,
          -8.335118316091135
         ]
        },
        {
         "marker": {
          "color": "red",
          "opacity": 1,
          "size": 1
         },
         "mode": "markers",
         "type": "scatter3d",
         "x": [
          24.627672924284262
         ],
         "y": [
          -0.4653367114156801
         ],
         "z": [
          -8.088245567871082
         ]
        },
        {
         "marker": {
          "color": "green",
          "opacity": 1,
          "size": 1
         },
         "mode": "markers",
         "type": "scatter3d",
         "x": [
          27.804424615423983
         ],
         "y": [
          6.6343319897844255
         ],
         "z": [
          7.267148062917575
         ]
        },
        {
         "marker": {
          "color": "green",
          "opacity": 1,
          "size": 1
         },
         "mode": "markers",
         "type": "scatter3d",
         "x": [
          33.54492896888118
         ],
         "y": [
          -5.997388962840117
         ],
         "z": [
          -9.822098035321424
         ]
        },
        {
         "marker": {
          "color": "green",
          "opacity": 1,
          "size": 1
         },
         "mode": "markers",
         "type": "scatter3d",
         "x": [
          39.05148019700688
         ],
         "y": [
          9.761034670060994
         ],
         "z": [
          2.5910060180472665
         ]
        },
        {
         "marker": {
          "color": "green",
          "opacity": 1,
          "size": 1
         },
         "mode": "markers",
         "type": "scatter3d",
         "x": [
          25.60877519681578
         ],
         "y": [
          1.8513471194401192
         ],
         "z": [
          -7.688844493436925
         ]
        },
        {
         "marker": {
          "color": "green",
          "opacity": 1,
          "size": 1
         },
         "mode": "markers",
         "type": "scatter3d",
         "x": [
          37.903226028233405
         ],
         "y": [
          9.937757638517699
         ],
         "z": [
          -8.863141734307526
         ]
        },
        {
         "marker": {
          "color": "green",
          "opacity": 1,
          "size": 1
         },
         "mode": "markers",
         "type": "scatter3d",
         "x": [
          24.292862511088416
         ],
         "y": [
          8.855505087391311
         ],
         "z": [
          0.09270494332082384
         ]
        },
        {
         "marker": {
          "color": "green",
          "opacity": 1,
          "size": 1
         },
         "mode": "markers",
         "type": "scatter3d",
         "x": [
          36.986339280201605
         ],
         "y": [
          -3.802324196531713
         ],
         "z": [
          0.3214655324671025
         ]
        },
        {
         "marker": {
          "color": "green",
          "opacity": 1,
          "size": 1
         },
         "mode": "markers",
         "type": "scatter3d",
         "x": [
          25.812407570105186
         ],
         "y": [
          9.2978907407467
         ],
         "z": [
          4.638565576380282
         ]
        },
        {
         "marker": {
          "color": "green",
          "opacity": 1,
          "size": 1
         },
         "mode": "markers",
         "type": "scatter3d",
         "x": [
          28.912108112501677
         ],
         "y": [
          4.748762178223922
         ],
         "z": [
          0.4726310495424995
         ]
        },
        {
         "marker": {
          "color": "green",
          "opacity": 1,
          "size": 1
         },
         "mode": "markers",
         "type": "scatter3d",
         "x": [
          24.929994509873662
         ],
         "y": [
          -9.721743855765544
         ],
         "z": [
          -7.647027319485832
         ]
        },
        {
         "marker": {
          "color": "green",
          "opacity": 1,
          "size": 1
         },
         "mode": "markers",
         "type": "scatter3d",
         "x": [
          24.31432358703153
         ],
         "y": [
          5.954074214767402
         ],
         "z": [
          3.2214113636519968
         ]
        },
        {
         "marker": {
          "color": "green",
          "opacity": 1,
          "size": 1
         },
         "mode": "markers",
         "type": "scatter3d",
         "x": [
          28.17373122758729
         ],
         "y": [
          9.063042941776573
         ],
         "z": [
          -3.2702006519669378
         ]
        },
        {
         "marker": {
          "color": "green",
          "opacity": 1,
          "size": 1
         },
         "mode": "markers",
         "type": "scatter3d",
         "x": [
          26.389296693203924
         ],
         "y": [
          -3.1964934460488754
         ],
         "z": [
          -0.29770729215974073
         ]
        },
        {
         "marker": {
          "color": "green",
          "opacity": 1,
          "size": 1
         },
         "mode": "markers",
         "type": "scatter3d",
         "x": [
          20.408280290354732
         ],
         "y": [
          9.638072148319269
         ],
         "z": [
          2.2002946230686544
         ]
        },
        {
         "marker": {
          "color": "green",
          "opacity": 1,
          "size": 1
         },
         "mode": "markers",
         "type": "scatter3d",
         "x": [
          32.58827682046757
         ],
         "y": [
          -3.525257896963576
         ],
         "z": [
          2.1442602086673657
         ]
        },
        {
         "marker": {
          "color": "green",
          "opacity": 1,
          "size": 1
         },
         "mode": "markers",
         "type": "scatter3d",
         "x": [
          26.673017752968978,
          26.8605866854552
         ],
         "y": [
          8.377520247420176,
          8.429354572088565
         ],
         "z": [
          1.090241901705009,
          1.114508997848885
         ]
        },
        {
         "color": "blue",
         "i": [
          7,
          0,
          0,
          0,
          4,
          4,
          6,
          6,
          4,
          0,
          3,
          2
         ],
         "j": [
          3,
          4,
          1,
          2,
          5,
          6,
          5,
          2,
          0,
          1,
          6,
          3
         ],
         "k": [
          0,
          7,
          2,
          3,
          6,
          7,
          1,
          1,
          5,
          5,
          7,
          6
         ],
         "opacity": 0.5,
         "type": "mesh3d",
         "x": [
          26.65494434552813,
          26.636295182314687,
          26.644816977944984,
          26.663466141158423,
          26.888787460479193,
          26.870138297265754,
          26.878660092896048,
          26.89730925610949
         ],
         "y": [
          8.345020173842057,
          8.407088764225191,
          8.388439601011749,
          8.326371010628614,
          8.418435218496993,
          8.480503808880128,
          8.461854645666685,
          8.39978605528355
         ],
         "z": [
          1.1401024110147755,
          1.1197726303462456,
          1.0550177935121121,
          1.075347574180642,
          1.1497331060417817,
          1.1294033253732518,
          1.0646484885391183,
          1.0849782692076482
         ]
        },
        {
         "marker": {
          "color": "red",
          "opacity": 1,
          "size": 1
         },
         "mode": "markers",
         "type": "scatter3d",
         "x": [
          26.76680221921209
         ],
         "y": [
          8.403437409754371
         ],
         "z": [
          1.102375449776947
         ]
        },
        {
         "marker": {
          "color": "green",
          "opacity": 1,
          "size": 1
         },
         "mode": "markers",
         "type": "scatter3d",
         "x": [
          31.497072191523642
         ],
         "y": [
          -5.684316647399671
         ],
         "z": [
          4.7748018015436084
         ]
        },
        {
         "marker": {
          "color": "green",
          "opacity": 1,
          "size": 1
         },
         "mode": "markers",
         "type": "scatter3d",
         "x": [
          37.84891644887865
         ],
         "y": [
          -7.574802056378268
         ],
         "z": [
          -3.060884046658197
         ]
        },
        {
         "marker": {
          "color": "green",
          "opacity": 1,
          "size": 1
         },
         "mode": "markers",
         "type": "scatter3d",
         "x": [
          23.741394844834204
         ],
         "y": [
          4.873732773753064
         ],
         "z": [
          5.79287681388275
         ]
        },
        {
         "marker": {
          "color": "green",
          "opacity": 1,
          "size": 1
         },
         "mode": "markers",
         "type": "scatter3d",
         "x": [
          31.166828640812746
         ],
         "y": [
          4.617903308206588
         ],
         "z": [
          -2.7560027449979483
         ]
        },
        {
         "marker": {
          "color": "green",
          "opacity": 1,
          "size": 1
         },
         "mode": "markers",
         "type": "scatter3d",
         "x": [
          36.2914284896531
         ],
         "y": [
          -3.8513123405293483
         ],
         "z": [
          1.836559707422721
         ]
        },
        {
         "marker": {
          "color": "green",
          "opacity": 1,
          "size": 1
         },
         "mode": "markers",
         "type": "scatter3d",
         "x": [
          31.07185707073609,
          31.205658147475482,
          31.32950335922557
         ],
         "y": [
          -9.250439596586824,
          -9.28866066681509,
          -9.32413580763472
         ],
         "z": [
          -6.462553201780303,
          -6.490649477335197,
          -6.516115758636652
         ]
        },
        {
         "color": "blue",
         "i": [
          7,
          0,
          0,
          0,
          4,
          4,
          6,
          6,
          4,
          0,
          3,
          2
         ],
         "j": [
          3,
          4,
          1,
          2,
          5,
          6,
          5,
          2,
          0,
          1,
          6,
          3
         ],
         "k": [
          0,
          7,
          2,
          3,
          6,
          7,
          1,
          1,
          5,
          5,
          7,
          6
         ],
         "opacity": 0.5,
         "type": "mesh3d",
         "x": [
          31.04269130590453,
          31.060003017330278,
          31.054802668057896,
          31.037490956632148,
          31.349876383566865,
          31.367188094992613,
          31.36198774572023,
          31.344676034294483
         ],
         "y": [
          -9.274585380161124,
          -9.226779774168985,
          -9.209468062743241,
          -9.257273668735378,
          -9.366022651281181,
          -9.318217045289044,
          -9.300905333863298,
          -9.348710939855437
         ],
         "z": [
          -6.440346510513547,
          -6.42552941207831,
          -6.475307707928613,
          -6.49012480636385,
          -6.504237917239487,
          -6.48942081880425,
          -6.539199114654553,
          -6.55401621308979
         ]
        },
        {
         "marker": {
          "color": "red",
          "opacity": 1,
          "size": 1
         },
         "mode": "markers",
         "type": "scatter3d",
         "x": [
          31.20233952581238
         ],
         "y": [
          -9.287745357012211
         ],
         "z": [
          -6.48977281258405
         ]
        },
        {
         "marker": {
          "color": "green",
          "opacity": 1,
          "size": 1
         },
         "mode": "markers",
         "type": "scatter3d",
         "x": [
          24.547571085594303,
          24.431953782239862
         ],
         "y": [
          -5.432930396379629,
          -5.416935886220882
         ],
         "z": [
          -8.382091060016904,
          -8.352006885136861
         ]
        },
        {
         "color": "blue",
         "i": [
          7,
          0,
          0,
          0,
          4,
          4,
          6,
          6,
          4,
          0,
          3,
          2
         ],
         "j": [
          3,
          4,
          1,
          2,
          5,
          6,
          5,
          2,
          0,
          1,
          6,
          3
         ],
         "k": [
          0,
          7,
          2,
          3,
          6,
          7,
          1,
          1,
          5,
          5,
          7,
          6
         ],
         "opacity": 0.5,
         "type": "mesh3d",
         "x": [
          24.410370551095735,
          24.42774812831057,
          24.41181592477143,
          24.3944383475566,
          24.567708943062733,
          24.585086520277564,
          24.56915431673843,
          24.551776739523596
         ],
         "y": [
          -5.4455282038226125,
          -5.386862306178342,
          -5.369484728963509,
          -5.428150626607779,
          -5.480381553637003,
          -5.421715655992734,
          -5.4043380787779,
          -5.46300397642217
         ],
         "z": [
          -8.317634397820555,
          -8.30480858962635,
          -8.362708104241156,
          -8.37553391243536,
          -8.371389840912608,
          -8.358564032718403,
          -8.416463547333208,
          -8.429289355527413
         ]
        },
        {
         "marker": {
          "color": "red",
          "opacity": 1,
          "size": 1
         },
         "mode": "markers",
         "type": "scatter3d",
         "x": [
          24.489762433917083
         ],
         "y": [
          -5.424933141300256
         ],
         "z": [
          -8.367048972576882
         ]
        },
        {
         "marker": {
          "color": "green",
          "opacity": 1,
          "size": 1
         },
         "mode": "markers",
         "type": "scatter3d",
         "x": [
          26.75529286295061
         ],
         "y": [
          9.410050694657444
         ],
         "z": [
          4.642799340259384
         ]
        },
        {
         "marker": {
          "color": "green",
          "opacity": 1,
          "size": 1
         },
         "mode": "markers",
         "type": "scatter3d",
         "x": [
          26.582629724843358
         ],
         "y": [
          8.587995984123001
         ],
         "z": [
          -0.13296243880302652
         ]
        },
        {
         "marker": {
          "color": "green",
          "opacity": 1,
          "size": 1
         },
         "mode": "markers",
         "type": "scatter3d",
         "x": [
          20.383962156169922,
          20.14652525809839
         ],
         "y": [
          2.491131491414392,
          2.4611162568726965
         ],
         "z": [
          -1.247551216562616,
          -1.2377004635128996
         ]
        },
        {
         "color": "blue",
         "i": [
          7,
          0,
          0,
          0,
          4,
          4,
          6,
          6,
          4,
          0,
          3,
          2
         ],
         "j": [
          3,
          4,
          1,
          2,
          5,
          6,
          5,
          2,
          0,
          1,
          6,
          3
         ],
         "k": [
          0,
          7,
          2,
          3,
          6,
          7,
          1,
          1,
          5,
          5,
          7,
          6
         ],
         "opacity": 0.5,
         "type": "mesh3d",
         "x": [
          20.126574286487013,
          20.11957473669375,
          20.11710002352252,
          20.124099573315785,
          20.413387390745786,
          20.406387840952522,
          20.403913127781294,
          20.410912677574558
         ],
         "y": [
          2.4351233212927346,
          2.4890795043334175,
          2.4820799545401515,
          2.4281237714994686,
          2.4701677937469375,
          2.5241239767876205,
          2.5171244269943545,
          2.4631682439536715
         ],
         "z": [
          -1.203361544931642,
          -1.2099970011972312,
          -1.2643033061985143,
          -1.2576678499329248,
          -1.2209483738770015,
          -1.227583830142591,
          -1.2818901351438738,
          -1.2752546788782846
         ]
        },
        {
         "marker": {
          "color": "red",
          "opacity": 1,
          "size": 1
         },
         "mode": "markers",
         "type": "scatter3d",
         "x": [
          20.265243707134154
         ],
         "y": [
          2.4761238741435445
         ],
         "z": [
          -1.242625840037758
         ]
        },
        {
         "marker": {
          "color": "green",
          "opacity": 1,
          "size": 1
         },
         "mode": "markers",
         "type": "scatter3d",
         "x": [
          30.806104576532753
         ],
         "y": [
          3.652727842126926
         ],
         "z": [
          -6.358743965622463
         ]
        },
        {
         "marker": {
          "color": "green",
          "opacity": 1,
          "size": 1
         },
         "mode": "markers",
         "type": "scatter3d",
         "x": [
          29.0862500842835
         ],
         "y": [
          -8.043419238199753
         ],
         "z": [
          -7.6970210960399825
         ]
        },
        {
         "marker": {
          "color": "green",
          "opacity": 1,
          "size": 1
         },
         "mode": "markers",
         "type": "scatter3d",
         "x": [
          32.74970976387168
         ],
         "y": [
          -5.567541630929265
         ],
         "z": [
          -8.174902709273152
         ]
        },
        {
         "marker": {
          "color": "green",
          "opacity": 1,
          "size": 1
         },
         "mode": "markers",
         "type": "scatter3d",
         "x": [
          21.555987123013935
         ],
         "y": [
          -8.355391297717901
         ],
         "z": [
          -2.0252055188115943
         ]
        },
        {
         "marker": {
          "color": "green",
          "opacity": 1,
          "size": 1
         },
         "mode": "markers",
         "type": "scatter3d",
         "x": [
          25.048221064762586
         ],
         "y": [
          -0.35286273649079697
         ],
         "z": [
          -7.573134616655705
         ]
        },
        {
         "marker": {
          "color": "green",
          "opacity": 1,
          "size": 1
         },
         "mode": "markers",
         "type": "scatter3d",
         "x": [
          25.638069437592524
         ],
         "y": [
          6.0227348136527965
         ],
         "z": [
          -0.5581153273810613
         ]
        },
        {
         "marker": {
          "color": "green",
          "opacity": 1,
          "size": 1
         },
         "mode": "markers",
         "type": "scatter3d",
         "x": [
          25.40986184153397
         ],
         "y": [
          -0.3608189775934297
         ],
         "z": [
          -7.677351946874099
         ]
        },
        {
         "marker": {
          "color": "green",
          "opacity": 1,
          "size": 1
         },
         "mode": "markers",
         "type": "scatter3d",
         "x": [
          22.115650720279643
         ],
         "y": [
          -9.422567766968072
         ],
         "z": [
          4.1207276737812535
         ]
        },
        {
         "marker": {
          "color": "green",
          "opacity": 1,
          "size": 1
         },
         "mode": "markers",
         "type": "scatter3d",
         "x": [
          27.24944838088628
         ],
         "y": [
          -9.341095383260024
         ],
         "z": [
          -2.70380860570872
         ]
        },
        {
         "marker": {
          "color": "green",
          "opacity": 1,
          "size": 1
         },
         "mode": "markers",
         "type": "scatter3d",
         "x": [
          36.557522139466336
         ],
         "y": [
          -0.5119635689879064
         ],
         "z": [
          -0.8643113349330375
         ]
        },
        {
         "marker": {
          "color": "green",
          "opacity": 1,
          "size": 1
         },
         "mode": "markers",
         "type": "scatter3d",
         "x": [
          25.533269229532053
         ],
         "y": [
          -2.2454182695852616
         ],
         "z": [
          5.585255546854556
         ]
        },
        {
         "marker": {
          "color": "green",
          "opacity": 1,
          "size": 1
         },
         "mode": "markers",
         "type": "scatter3d",
         "x": [
          31.37496476064545
         ],
         "y": [
          4.351176635242891
         ],
         "z": [
          -5.112930179580375
         ]
        },
        {
         "marker": {
          "color": "green",
          "opacity": 1,
          "size": 1
         },
         "mode": "markers",
         "type": "scatter3d",
         "x": [
          20.881652392271462
         ],
         "y": [
          9.838804560527912
         ],
         "z": [
          0.3859888184000818
         ]
        },
        {
         "marker": {
          "color": "green",
          "opacity": 1,
          "size": 1
         },
         "mode": "markers",
         "type": "scatter3d",
         "x": [
          24.3565224674004
         ],
         "y": [
          3.7248685840451152
         ],
         "z": [
          3.636934539797567
         ]
        },
        {
         "marker": {
          "color": "green",
          "opacity": 1,
          "size": 1
         },
         "mode": "markers",
         "type": "scatter3d",
         "x": [
          27.085361565171734
         ],
         "y": [
          -7.002754612471048
         ],
         "z": [
          -8.003417958600991
         ]
        },
        {
         "marker": {
          "color": "green",
          "opacity": 1,
          "size": 1
         },
         "mode": "markers",
         "type": "scatter3d",
         "x": [
          27.87075340008072
         ],
         "y": [
          -2.3819165309337538
         ],
         "z": [
          -0.6073940252585476
         ]
        },
        {
         "marker": {
          "color": "green",
          "opacity": 1,
          "size": 1
         },
         "mode": "markers",
         "type": "scatter3d",
         "x": [
          37.96509672610664
         ],
         "y": [
          -5.3975548093785815
         ],
         "z": [
          -0.059744463286756436
         ]
        },
        {
         "marker": {
          "color": "green",
          "opacity": 1,
          "size": 1
         },
         "mode": "markers",
         "type": "scatter3d",
         "x": [
          35.91358202565472
         ],
         "y": [
          6.968017593428723
         ],
         "z": [
          0.004317453349332381
         ]
        },
        {
         "marker": {
          "color": "green",
          "opacity": 1,
          "size": 1
         },
         "mode": "markers",
         "type": "scatter3d",
         "x": [
          28.645965469458147
         ],
         "y": [
          -9.989092971718533
         ],
         "z": [
          0.27565156272578584
         ]
        },
        {
         "marker": {
          "color": "green",
          "opacity": 1,
          "size": 1
         },
         "mode": "markers",
         "type": "scatter3d",
         "x": [
          34.08754383060173
         ],
         "y": [
          -4.328011438970935
         ],
         "z": [
          1.3383273368692838
         ]
        },
        {
         "marker": {
          "color": "green",
          "opacity": 1,
          "size": 1
         },
         "mode": "markers",
         "type": "scatter3d",
         "x": [
          20.339302289667227
         ],
         "y": [
          8.378998997046697
         ],
         "z": [
          8.313910901676545
         ]
        },
        {
         "marker": {
          "color": "green",
          "opacity": 1,
          "size": 1
         },
         "mode": "markers",
         "type": "scatter3d",
         "x": [
          39.28183378483215,
          39.07451596734309
         ],
         "y": [
          -3.886158573387192,
          -3.9723233004629335
         ],
         "z": [
          -0.26970428655303946,
          -0.4273642168317549
         ]
        },
        {
         "color": "blue",
         "i": [
          7,
          0,
          0,
          0,
          4,
          4,
          6,
          6,
          4,
          0,
          3,
          2
         ],
         "j": [
          3,
          4,
          1,
          2,
          5,
          6,
          5,
          2,
          0,
          1,
          6,
          3
         ],
         "k": [
          0,
          7,
          2,
          3,
          6,
          7,
          1,
          1,
          5,
          5,
          7,
          6
         ],
         "opacity": 0.5,
         "type": "mesh3d",
         "x": [
          39.043405330958635,
          39.06761330176313,
          39.06790209111795,
          39.04369412031345,
          39.2884476610573,
          39.3126556318618,
          39.31294442121661,
          39.28873645041212
         ],
         "y": [
          -4.048675504247685,
          -3.809438658723237,
          -3.7852306879187383,
          -4.024467533443186,
          -4.073251185931388,
          -3.8340143404069402,
          -3.809806369602441,
          -4.049043215126889
         ],
         "z": [
          -0.23927729470206716,
          -0.21516228598316048,
          -0.45561127954044267,
          -0.4797262882593494,
          -0.24145722384435162,
          -0.2173422151254449,
          -0.45779120868272716,
          -0.48190621740163386
         ]
        },
        {
         "marker": {
          "color": "red",
          "opacity": 1,
          "size": 1
         },
         "mode": "markers",
         "type": "scatter3d",
         "x": [
          39.178174876087624
         ],
         "y": [
          -3.929240936925063
         ],
         "z": [
          -0.34853425169239716
         ]
        },
        {
         "marker": {
          "color": "green",
          "opacity": 1,
          "size": 1
         },
         "mode": "markers",
         "type": "scatter3d",
         "x": [
          21.26585444783312
         ],
         "y": [
          0.23658178611638714
         ],
         "z": [
          1.0135525214273693
         ]
        },
        {
         "marker": {
          "color": "green",
          "opacity": 1,
          "size": 1
         },
         "mode": "markers",
         "type": "scatter3d",
         "x": [
          23.95991730173821
         ],
         "y": [
          -7.329415270772658
         ],
         "z": [
          -2.41242436764741
         ]
        },
        {
         "marker": {
          "color": "green",
          "opacity": 1,
          "size": 1
         },
         "mode": "markers",
         "type": "scatter3d",
         "x": [
          23.43151285784155
         ],
         "y": [
          -9.358125232036977
         ],
         "z": [
          1.0245562178242391
         ]
        },
        {
         "marker": {
          "color": "green",
          "opacity": 1,
          "size": 1
         },
         "mode": "markers",
         "type": "scatter3d",
         "x": [
          24.85936482930436
         ],
         "y": [
          -7.50892843448396
         ],
         "z": [
          0.4617465710473502
         ]
        },
        {
         "marker": {
          "color": "green",
          "opacity": 1,
          "size": 1
         },
         "mode": "markers",
         "type": "scatter3d",
         "x": [
          24.955451729407702,
          25.17206532361993,
          25.450599397469464
         ],
         "y": [
          -2.6889135832881026,
          -2.60747801526376,
          -2.7358586276632404
         ],
         "z": [
          7.5255572307876655,
          7.867629100115111,
          7.682006449371376
         ]
        },
        {
         "color": "blue",
         "i": [
          7,
          0,
          0,
          0,
          4,
          4,
          6,
          6,
          4,
          0,
          3,
          2
         ],
         "j": [
          3,
          4,
          1,
          2,
          5,
          6,
          5,
          2,
          0,
          1,
          6,
          3
         ],
         "k": [
          0,
          7,
          2,
          3,
          6,
          7,
          1,
          1,
          5,
          5,
          7,
          6
         ],
         "opacity": 0.5,
         "type": "mesh3d",
         "x": [
          24.82952139492774,
          24.861410295654498,
          24.98904897158772,
          24.95716007086096,
          25.396361995410338,
          25.428250896137097,
          25.55588957207032,
          25.52400067134356
         ],
         "y": [
          -2.8753914468263653,
          -2.4510885589625913,
          -2.4191996582358324,
          -2.8435025460996064,
          -2.9356338259075696,
          -2.5113309380437956,
          -2.4794420373170367,
          -2.9037449251808107
         ],
         "z": [
          7.787050389380015,
          7.830300468541882,
          7.423346075024549,
          7.380095995862682,
          7.960115778491552,
          8.003365857653419,
          7.596411464136086,
          7.553161384974219
         ]
        },
        {
         "marker": {
          "color": "red",
          "opacity": 1,
          "size": 1
         },
         "mode": "markers",
         "type": "scatter3d",
         "x": [
          25.19270548349903
         ],
         "y": [
          -2.677416742071701
         ],
         "z": [
          7.6917309267580505
         ]
        },
        {
         "marker": {
          "color": "green",
          "opacity": 1,
          "size": 1
         },
         "mode": "markers",
         "type": "scatter3d",
         "x": [
          34.8163972832554
         ],
         "y": [
          -4.4980384913894085
         ],
         "z": [
          -0.22700457539877816
         ]
        },
        {
         "marker": {
          "color": "green",
          "opacity": 1,
          "size": 1
         },
         "mode": "markers",
         "type": "scatter3d",
         "x": [
          23.4398510392909
         ],
         "y": [
          -8.929319475210926
         ],
         "z": [
          1.2736120186634463
         ]
        },
        {
         "marker": {
          "color": "green",
          "opacity": 1,
          "size": 1
         },
         "mode": "markers",
         "type": "scatter3d",
         "x": [
          33.862590044176486
         ],
         "y": [
          -7.921316519165182
         ],
         "z": [
          -8.092731172369362
         ]
        },
        {
         "marker": {
          "color": "green",
          "opacity": 1,
          "size": 1
         },
         "mode": "markers",
         "type": "scatter3d",
         "x": [
          22.976334099503145,
          22.767878029333783,
          23.009468390368646
         ],
         "y": [
          4.176456025758345,
          4.0743728643722354,
          4.1831465569964905
         ],
         "z": [
          5.626457137921111,
          5.71230165750934,
          5.640160629920317
         ]
        },
        {
         "color": "blue",
         "i": [
          7,
          0,
          0,
          0,
          4,
          4,
          6,
          6,
          4,
          0,
          3,
          2
         ],
         "j": [
          3,
          4,
          1,
          2,
          5,
          6,
          5,
          2,
          0,
          1,
          6,
          3
         ],
         "k": [
          0,
          7,
          2,
          3,
          6,
          7,
          1,
          1,
          5,
          5,
          7,
          6
         ],
         "opacity": 0.5,
         "type": "mesh3d",
         "x": [
          22.74144981137478,
          22.708382625367246,
          22.772735742851395,
          22.805802928858927,
          23.063051269952318,
          23.029984083944786,
          23.094337201428935,
          23.127404387436467
         ],
         "y": [
          4.011502552763977,
          4.252720571421292,
          4.219653385413759,
          3.9784353667564445,
          4.069663579337622,
          4.310881597994936,
          4.2778144119874035,
          4.036596393330089
         ],
         "z": [
          5.759489878794772,
          5.716742271554528,
          5.480369331648545,
          5.523116938888789,
          5.838910285251966,
          5.796162678011722,
          5.559789738105739,
          5.602537345345983
         ]
        },
        {
         "marker": {
          "color": "red",
          "opacity": 1,
          "size": 1
         },
         "mode": "markers",
         "type": "scatter3d",
         "x": [
          22.917893506401857
         ],
         "y": [
          4.14465848237569
         ],
         "z": [
          5.6596398084502555
         ]
        },
        {
         "marker": {
          "color": "green",
          "opacity": 1,
          "size": 1
         },
         "mode": "markers",
         "type": "scatter3d",
         "x": [
          30.01982449715828
         ],
         "y": [
          4.404468560548575
         ],
         "z": [
          0.5976393464808706
         ]
        },
        {
         "marker": {
          "color": "green",
          "opacity": 1,
          "size": 1
         },
         "mode": "markers",
         "type": "scatter3d",
         "x": [
          21.113189605654494
         ],
         "y": [
          1.1454722468664045
         ],
         "z": [
          0.1139313267961634
         ]
        },
        {
         "marker": {
          "color": "green",
          "opacity": 1,
          "size": 1
         },
         "mode": "markers",
         "type": "scatter3d",
         "x": [
          28.787536576934862
         ],
         "y": [
          -8.829098944378703
         ],
         "z": [
          -0.14607623494775632
         ]
        },
        {
         "marker": {
          "color": "green",
          "opacity": 1,
          "size": 1
         },
         "mode": "markers",
         "type": "scatter3d",
         "x": [
          23.425449908131853
         ],
         "y": [
          -9.810630263434923
         ],
         "z": [
          -0.16669729059534755
         ]
        },
        {
         "marker": {
          "color": "green",
          "opacity": 1,
          "size": 1
         },
         "mode": "markers",
         "type": "scatter3d",
         "x": [
          22.869687156988462
         ],
         "y": [
          -7.786003066439335
         ],
         "z": [
          0.4549481100797004
         ]
        },
        {
         "marker": {
          "color": "green",
          "opacity": 1,
          "size": 1
         },
         "mode": "markers",
         "type": "scatter3d",
         "x": [
          36.52463179409988
         ],
         "y": [
          -0.37728458539791054
         ],
         "z": [
          -0.3449415785962261
         ]
        },
        {
         "marker": {
          "color": "green",
          "opacity": 1,
          "size": 1
         },
         "mode": "markers",
         "type": "scatter3d",
         "x": [
          25.294790854173108
         ],
         "y": [
          9.993151279058123
         ],
         "z": [
          2.9075967370647
         ]
        },
        {
         "marker": {
          "color": "green",
          "opacity": 1,
          "size": 1
         },
         "mode": "markers",
         "type": "scatter3d",
         "x": [
          35.961733376000616
         ],
         "y": [
          -2.9471523968724718
         ],
         "z": [
          -6.0916146286229065
         ]
        },
        {
         "marker": {
          "color": "green",
          "opacity": 1,
          "size": 1
         },
         "mode": "markers",
         "type": "scatter3d",
         "x": [
          37.64578231582888
         ],
         "y": [
          -4.783467585799653
         ],
         "z": [
          0.08743954234722587
         ]
        },
        {
         "marker": {
          "color": "green",
          "opacity": 1,
          "size": 1
         },
         "mode": "markers",
         "type": "scatter3d",
         "x": [
          22.5395263654666,
          22.817403049975816
         ],
         "y": [
          -3.92339895780844,
          -3.829556094639908
         ],
         "z": [
          -7.0932679735415265,
          -7.2667165212107285
         ]
        },
        {
         "color": "blue",
         "i": [
          7,
          0,
          0,
          0,
          4,
          4,
          6,
          6,
          4,
          0,
          3,
          2
         ],
         "j": [
          3,
          4,
          1,
          2,
          5,
          6,
          5,
          2,
          0,
          1,
          6,
          3
         ],
         "k": [
          0,
          7,
          2,
          3,
          6,
          7,
          1,
          1,
          5,
          5,
          7,
          6
         ],
         "opacity": 0.5,
         "type": "mesh3d",
         "x": [
          22.5196134743189,
          22.56599080143496,
          22.509823336549577,
          22.46344600943351,
          22.84710607889284,
          22.893483406008905,
          22.837315941123517,
          22.790938614007455
         ],
         "y": [
          -3.9752893611414692,
          -3.768064020814552,
          -3.721686693698488,
          -3.928912034025405,
          -4.03126835874986,
          -3.824043018422943,
          -3.7776656913068787,
          -3.9848910316337958
         ],
         "z": [
          -7.044228814835785,
          -7.00962401401731,
          -7.212071661081043,
          -7.2466764618995185,
          -7.147912833671211,
          -7.113308032852736,
          -7.315755679916469,
          -7.3503604807349445
         ]
        },
        {
         "marker": {
          "color": "red",
          "opacity": 1,
          "size": 1
         },
         "mode": "markers",
         "type": "scatter3d",
         "x": [
          22.678464707721208
         ],
         "y": [
          -3.876477526224174
         ],
         "z": [
          -7.179992247376127
         ]
        },
        {
         "marker": {
          "color": "green",
          "opacity": 1,
          "size": 1
         },
         "mode": "markers",
         "type": "scatter3d",
         "x": [
          38.648896866089004,
          38.70268049254201
         ],
         "y": [
          -4.1200737302376265,
          -4.12471591882254
         ],
         "z": [
          -0.8322684128564273,
          -0.8140713551568234
         ]
        },
        {
         "color": "blue",
         "i": [
          7,
          0,
          0,
          0,
          4,
          4,
          6,
          6,
          4,
          0,
          3,
          2
         ],
         "j": [
          3,
          4,
          1,
          2,
          5,
          6,
          5,
          2,
          0,
          1,
          6,
          3
         ],
         "k": [
          0,
          7,
          2,
          3,
          6,
          7,
          1,
          1,
          5,
          5,
          7,
          6
         ],
         "opacity": 0.5,
         "type": "mesh3d",
         "x": [
          38.62090753393822,
          38.62837271681852,
          38.62770070110852,
          38.62023551822823,
          38.72387665752248,
          38.73134184040278,
          38.73066982469278,
          38.72320464181249
         ],
         "y": [
          -4.154924596287159,
          -4.086354909832028,
          -4.0788897269517355,
          -4.1474594134068665,
          -4.165899922108431,
          -4.0973302356533,
          -4.089865052773008,
          -4.158434739228138
         ],
         "z": [
          -0.7912696058914908,
          -0.7839193431013887,
          -0.8528785822106189,
          -0.8602288450007209,
          -0.7934611858026317,
          -0.7861109230125296,
          -0.8550701621217598,
          -0.8624204249118619
         ]
        },
        {
         "marker": {
          "color": "red",
          "opacity": 1,
          "size": 1
         },
         "mode": "markers",
         "type": "scatter3d",
         "x": [
          38.6757886793155
         ],
         "y": [
          -4.122394824530083
         ],
         "z": [
          -0.8231698840066253
         ]
        },
        {
         "marker": {
          "color": "green",
          "opacity": 1,
          "size": 1
         },
         "mode": "markers",
         "type": "scatter3d",
         "x": [
          29.05276630684753
         ],
         "y": [
          -6.226946672826097
         ],
         "z": [
          8.226352314892138
         ]
        },
        {
         "marker": {
          "color": "green",
          "opacity": 1,
          "size": 1
         },
         "mode": "markers",
         "type": "scatter3d",
         "x": [
          29.154386155132197,
          29.233787824809514
         ],
         "y": [
          4.273863728929645,
          4.286672457540587
         ],
         "z": [
          0.5697068242642042,
          0.5783033811955984
         ]
        },
        {
         "color": "blue",
         "i": [
          7,
          0,
          0,
          0,
          4,
          4,
          6,
          6,
          4,
          0,
          3,
          2
         ],
         "j": [
          3,
          4,
          1,
          2,
          5,
          6,
          5,
          2,
          0,
          1,
          6,
          3
         ],
         "k": [
          0,
          7,
          2,
          3,
          6,
          7,
          1,
          1,
          5,
          5,
          7,
          6
         ],
         "opacity": 0.5,
         "type": "mesh3d",
         "x": [
          29.13237875876148,
          29.124339140568903,
          29.126628946092048,
          29.134668564284624,
          29.261545033849664,
          29.253505415657088,
          29.255795221180232,
          29.26383483937281
         ],
         "y": [
          4.246845959970105,
          4.302792232902619,
          4.2947526147100445,
          4.238806341777529,
          4.2657835717601875,
          4.321729844692703,
          4.313690226500127,
          4.257743953567613
         ],
         "z": [
          0.6051329056684012,
          0.5968477282968881,
          0.5403376724680089,
          0.5486228498395219,
          0.6076725329917938,
          0.5993873556202808,
          0.5428772997914015,
          0.5511624771629146
         ]
        },
        {
         "marker": {
          "color": "red",
          "opacity": 1,
          "size": 1
         },
         "mode": "markers",
         "type": "scatter3d",
         "x": [
          29.194086989970856
         ],
         "y": [
          4.280268093235116
         ],
         "z": [
          0.5740051027299014
         ]
        },
        {
         "marker": {
          "color": "green",
          "opacity": 1,
          "size": 1
         },
         "mode": "markers",
         "type": "scatter3d",
         "x": [
          20.713666824477574,
          20.49177056324244
         ],
         "y": [
          4.814990645356732,
          4.75794902541571
         ],
         "z": [
          1.4665958560532404,
          1.4589591549775092
         ]
        },
        {
         "color": "blue",
         "i": [
          7,
          0,
          0,
          0,
          4,
          4,
          6,
          6,
          4,
          0,
          3,
          2
         ],
         "j": [
          3,
          4,
          1,
          2,
          5,
          6,
          5,
          2,
          0,
          1,
          6,
          3
         ],
         "k": [
          0,
          7,
          2,
          3,
          6,
          7,
          1,
          1,
          5,
          5,
          7,
          6
         ],
         "opacity": 0.5,
         "type": "mesh3d",
         "x": [
          20.469793580484787,
          20.457526416408086,
          20.464500485743294,
          20.47676764981999,
          20.740936901976717,
          20.72866973790002,
          20.735643807235224,
          20.747910971311924
         ],
         "y": [
          4.732643855029867,
          4.789570354978244,
          4.777303190901546,
          4.720376690953169,
          4.795636479870896,
          4.852562979819273,
          4.840295815742575,
          4.783369315794198
         ],
         "z": [
          1.4889429796242146,
          1.475448074131775,
          1.4173610598555173,
          1.430855965347957,
          1.5081939511752325,
          1.4946990456827929,
          1.4366120314065352,
          1.4501069368989747
         ]
        },
        {
         "marker": {
          "color": "red",
          "opacity": 1,
          "size": 1
         },
         "mode": "markers",
         "type": "scatter3d",
         "x": [
          20.602718693860005
         ],
         "y": [
          4.786469835386221
         ],
         "z": [
          1.4627775055153749
         ]
        },
        {
         "marker": {
          "color": "green",
          "opacity": 1,
          "size": 1
         },
         "mode": "markers",
         "type": "scatter3d",
         "x": [
          29.770102185210906
         ],
         "y": [
          -1.9764462934177611
         ],
         "z": [
          1.1016480930660495
         ]
        },
        {
         "marker": {
          "color": "green",
          "opacity": 1,
          "size": 1
         },
         "mode": "markers",
         "type": "scatter3d",
         "x": [
          22.20357140484932
         ],
         "y": [
          -1.8894164488265281
         ],
         "z": [
          8.528940302403512
         ]
        },
        {
         "marker": {
          "color": "green",
          "opacity": 1,
          "size": 1
         },
         "mode": "markers",
         "type": "scatter3d",
         "x": [
          29.26946038040433
         ],
         "y": [
          9.041859582898141
         ],
         "z": [
          -0.8741597427445496
         ]
        },
        {
         "marker": {
          "color": "green",
          "opacity": 1,
          "size": 1
         },
         "mode": "markers",
         "type": "scatter3d",
         "x": [
          37.65099947471792,
          37.509731989567754
         ],
         "y": [
          -4.403196237697417,
          -4.399279335328656
         ],
         "z": [
          0.07215930412444536,
          -0.043808962738998286
         ]
        },
        {
         "color": "blue",
         "i": [
          7,
          0,
          0,
          0,
          4,
          4,
          6,
          6,
          4,
          0,
          3,
          2
         ],
         "j": [
          3,
          4,
          1,
          2,
          5,
          6,
          5,
          2,
          0,
          1,
          6,
          3
         ],
         "k": [
          0,
          7,
          2,
          3,
          6,
          7,
          1,
          1,
          5,
          5,
          7,
          6
         ],
         "opacity": 0.5,
         "type": "mesh3d",
         "x": [
          37.47483211465589,
          37.49407140749684,
          37.496387035391166,
          37.477147742550216,
          37.66434442889451,
          37.68358372173546,
          37.685899349629786,
          37.666660056788835
         ],
         "y": [
          -4.481929456273532,
          -4.317590608074486,
          -4.298351315233536,
          -4.4626901634325815,
          -4.504124257792536,
          -4.339785409593491,
          -4.32054611675254,
          -4.484884964951586
         ],
         "z": [
          0.08718099871956192,
          0.10655904367747634,
          -0.05890214065659901,
          -0.07828018561451344,
          0.08725248204204608,
          0.10663052699996053,
          -0.058830657334114835,
          -0.07820870229202928
         ]
        },
        {
         "marker": {
          "color": "red",
          "opacity": 1,
          "size": 1
         },
         "mode": "markers",
         "type": "scatter3d",
         "x": [
          37.58036573214284
         ],
         "y": [
          -4.401237786513036
         ],
         "z": [
          0.014175170692723539
         ]
        },
        {
         "marker": {
          "color": "green",
          "opacity": 1,
          "size": 1
         },
         "mode": "markers",
         "type": "scatter3d",
         "x": [
          37.420282187642705
         ],
         "y": [
          -3.8465192297290565
         ],
         "z": [
          -0.19517747455729
         ]
        },
        {
         "marker": {
          "color": "green",
          "opacity": 1,
          "size": 1
         },
         "mode": "markers",
         "type": "scatter3d",
         "x": [
          29.74162567813204
         ],
         "y": [
          4.889013889800916
         ],
         "z": [
          0.3570625981503179
         ]
        },
        {
         "marker": {
          "color": "green",
          "opacity": 1,
          "size": 1
         },
         "mode": "markers",
         "type": "scatter3d",
         "x": [
          28.81558113121933
         ],
         "y": [
          6.9300632848271215
         ],
         "z": [
          -3.4675828406930096
         ]
        },
        {
         "marker": {
          "color": "green",
          "opacity": 1,
          "size": 1
         },
         "mode": "markers",
         "type": "scatter3d",
         "x": [
          31.739296437733646
         ],
         "y": [
          3.7729778285866566
         ],
         "z": [
          -6.010866584390107
         ]
        },
        {
         "marker": {
          "color": "green",
          "opacity": 1,
          "size": 1
         },
         "mode": "markers",
         "type": "scatter3d",
         "x": [
          20.148174526201366
         ],
         "y": [
          -5.695332122427598
         ],
         "z": [
          -2.417742249447893
         ]
        },
        {
         "marker": {
          "color": "green",
          "opacity": 1,
          "size": 1
         },
         "mode": "markers",
         "type": "scatter3d",
         "x": [
          31.39004623473154
         ],
         "y": [
          -7.330390765958871
         ],
         "z": [
          -2.9402734134144826
         ]
        },
        {
         "marker": {
          "color": "green",
          "opacity": 1,
          "size": 1
         },
         "mode": "markers",
         "type": "scatter3d",
         "x": [
          37.28158632256293
         ],
         "y": [
          -4.383740078551969
         ],
         "z": [
          0.8466370935957908
         ]
        },
        {
         "marker": {
          "color": "green",
          "opacity": 1,
          "size": 1
         },
         "mode": "markers",
         "type": "scatter3d",
         "x": [
          27.419328798423262
         ],
         "y": [
          -2.357218181474822
         ],
         "z": [
          -0.5984805437717251
         ]
        },
        {
         "marker": {
          "color": "green",
          "opacity": 1,
          "size": 1
         },
         "mode": "markers",
         "type": "scatter3d",
         "x": [
          25.24193986251653
         ],
         "y": [
          7.394392759287752
         ],
         "z": [
          2.02769304544247
         ]
        },
        {
         "marker": {
          "color": "green",
          "opacity": 1,
          "size": 1
         },
         "mode": "markers",
         "type": "scatter3d",
         "x": [
          30.869866698294416
         ],
         "y": [
          -2.13490428921896
         ],
         "z": [
          3.344950290066313
         ]
        },
        {
         "marker": {
          "color": "green",
          "opacity": 1,
          "size": 1
         },
         "mode": "markers",
         "type": "scatter3d",
         "x": [
          30.85580835839025
         ],
         "y": [
          -4.4879314875516005
         ],
         "z": [
          0.2907951014826019
         ]
        },
        {
         "marker": {
          "color": "green",
          "opacity": 1,
          "size": 1
         },
         "mode": "markers",
         "type": "scatter3d",
         "x": [
          28.28140547240446
         ],
         "y": [
          6.982535751206008
         ],
         "z": [
          -0.6238963467034291
         ]
        },
        {
         "marker": {
          "color": "green",
          "opacity": 1,
          "size": 1
         },
         "mode": "markers",
         "type": "scatter3d",
         "x": [
          24.05136935054271,
          23.84618849075895,
          23.685081049142926
         ],
         "y": [
          1.4685971555322384,
          1.4598144066247,
          1.6864351613726214
         ],
         "z": [
          -5.553278028491524,
          -5.499713069757124,
          -5.227283800145672
         ]
        },
        {
         "color": "blue",
         "i": [
          7,
          0,
          0,
          0,
          4,
          4,
          6,
          6,
          4,
          0,
          3,
          2
         ],
         "j": [
          3,
          4,
          1,
          2,
          5,
          6,
          5,
          2,
          0,
          1,
          6,
          3
         ],
         "k": [
          0,
          7,
          2,
          3,
          6,
          7,
          1,
          1,
          5,
          5,
          7,
          6
         ],
         "opacity": 0.5,
         "type": "mesh3d",
         "x": [
          23.706560705773136,
          23.667491308160603,
          23.55972908520123,
          23.598798482813763,
          24.162030175095158,
          24.122960777482625,
          24.015198554523252,
          24.054267952135785
         ],
         "y": [
          1.2952655185825575,
          1.7910047919372802,
          1.7519353943247484,
          1.2561961209700256,
          1.3246290880282916,
          1.8203683613830144,
          1.7812989637704826,
          1.2855596904157598
         ],
         "z": [
          -5.11688670543598,
          -5.148147223011718,
          -5.633040974681324,
          -5.601780457105586,
          -5.220475624248222,
          -5.251736141823961,
          -5.736629893493567,
          -5.705369375917829
         ]
        },
        {
         "marker": {
          "color": "red",
          "opacity": 1,
          "size": 1
         },
         "mode": "markers",
         "type": "scatter3d",
         "x": [
          23.860879630148194
         ],
         "y": [
          1.53828224117652
         ],
         "z": [
          -5.426758299464773
         ]
        },
        {
         "marker": {
          "color": "green",
          "opacity": 1,
          "size": 1
         },
         "mode": "markers",
         "type": "scatter3d",
         "x": [
          23.417849036956508
         ],
         "y": [
          -1.6281260540990412
         ],
         "z": [
          -4.1633669850502875
         ]
        },
        {
         "marker": {
          "color": "green",
          "opacity": 1,
          "size": 1
         },
         "mode": "markers",
         "type": "scatter3d",
         "x": [
          38.27639104008001
         ],
         "y": [
          -7.687388086015053
         ],
         "z": [
          -3.071435888750204
         ]
        },
        {
         "marker": {
          "color": "green",
          "opacity": 1,
          "size": 1
         },
         "mode": "markers",
         "type": "scatter3d",
         "x": [
          24.00659968354401
         ],
         "y": [
          8.332066425897242
         ],
         "z": [
          0.755865419949652
         ]
        },
        {
         "marker": {
          "color": "green",
          "opacity": 1,
          "size": 1
         },
         "mode": "markers",
         "type": "scatter3d",
         "x": [
          28.20293369764772
         ],
         "y": [
          -8.191957836106353
         ],
         "z": [
          -5.727870757348169
         ]
        },
        {
         "marker": {
          "color": "green",
          "opacity": 1,
          "size": 1
         },
         "mode": "markers",
         "type": "scatter3d",
         "x": [
          21.451923884529915
         ],
         "y": [
          8.62269632807702
         ],
         "z": [
          2.5633656951360297
         ]
        },
        {
         "marker": {
          "color": "green",
          "opacity": 1,
          "size": 1
         },
         "mode": "markers",
         "type": "scatter3d",
         "x": [
          26.964609778142805
         ],
         "y": [
          5.433464749544102
         ],
         "z": [
          -0.5088431776763986
         ]
        },
        {
         "marker": {
          "color": "green",
          "opacity": 1,
          "size": 1
         },
         "mode": "markers",
         "type": "scatter3d",
         "x": [
          28.753796779176437
         ],
         "y": [
          -2.2253586887961494
         ],
         "z": [
          4.017992579413083
         ]
        },
        {
         "marker": {
          "color": "green",
          "opacity": 1,
          "size": 1
         },
         "mode": "markers",
         "type": "scatter3d",
         "x": [
          21.688851614929074
         ],
         "y": [
          4.9629892733875876
         ],
         "z": [
          0.4769251722623003
         ]
        },
        {
         "marker": {
          "color": "green",
          "opacity": 1,
          "size": 1
         },
         "mode": "markers",
         "type": "scatter3d",
         "x": [
          20.338917682403988
         ],
         "y": [
          3.718954559263808
         ],
         "z": [
          7.956725788625766
         ]
        },
        {
         "marker": {
          "color": "green",
          "opacity": 1,
          "size": 1
         },
         "mode": "markers",
         "type": "scatter3d",
         "x": [
          27.719724259748425,
          28.00812614002035
         ],
         "y": [
          1.7311015280127986,
          1.6694929499378508
         ],
         "z": [
          -7.886283065049289,
          -7.873338425678981
         ]
        },
        {
         "color": "blue",
         "i": [
          7,
          0,
          0,
          0,
          4,
          4,
          6,
          6,
          4,
          0,
          3,
          2
         ],
         "j": [
          3,
          4,
          1,
          2,
          5,
          6,
          5,
          2,
          0,
          1,
          6,
          3
         ],
         "k": [
          0,
          7,
          2,
          3,
          6,
          7,
          1,
          1,
          5,
          5,
          7,
          6
         ],
         "opacity": 0.5,
         "type": "mesh3d",
         "x": [
          27.739448703210645,
          27.72634282386891,
          27.681090662162138,
          27.69419654150387,
          28.04675973760664,
          28.033653858264906,
          27.98840169655813,
          28.001507575899865
         ],
         "y": [
          1.613112375056192,
          1.781835415986395,
          1.768729536644663,
          1.60000649571446,
          1.6318649413059867,
          1.8005879822361897,
          1.7874821028944576,
          1.6187590619642547
         ],
         "z": [
          -7.749966607562643,
          -7.759903638227708,
          -7.922748506062213,
          -7.912811475397148,
          -7.8368729846660585,
          -7.8468100153311235,
          -8.009654883165627,
          -7.999717852500564
         ]
        },
        {
         "marker": {
          "color": "red",
          "opacity": 1,
          "size": 1
         },
         "mode": "markers",
         "type": "scatter3d",
         "x": [
          27.863925199884388
         ],
         "y": [
          1.7002972389753248
         ],
         "z": [
          -7.879810745364136
         ]
        },
        {
         "marker": {
          "color": "green",
          "opacity": 1,
          "size": 1
         },
         "mode": "markers",
         "type": "scatter3d",
         "x": [
          38.66881260665229
         ],
         "y": [
          -7.577357624377445
         ],
         "z": [
          -3.5728257191362065
         ]
        },
        {
         "marker": {
          "color": "green",
          "opacity": 1,
          "size": 1
         },
         "mode": "markers",
         "type": "scatter3d",
         "x": [
          21.939355453052297
         ],
         "y": [
          0.5005556180932194
         ],
         "z": [
          -0.8127583564548904
         ]
        },
        {
         "marker": {
          "color": "green",
          "opacity": 1,
          "size": 1
         },
         "mode": "markers",
         "type": "scatter3d",
         "x": [
          37.92964858309158
         ],
         "y": [
          9.438336843051149
         ],
         "z": [
          4.123466871605537
         ]
        },
        {
         "marker": {
          "color": "green",
          "opacity": 1,
          "size": 1
         },
         "mode": "markers",
         "type": "scatter3d",
         "x": [
          23.20772937906395
         ],
         "y": [
          6.6566582796979015
         ],
         "z": [
          -1.2449999544342392
         ]
        },
        {
         "marker": {
          "color": "green",
          "opacity": 1,
          "size": 1
         },
         "mode": "markers",
         "type": "scatter3d",
         "x": [
          34.939217922704465
         ],
         "y": [
          4.9900814668259965
         ],
         "z": [
          -1.5886176586987066
         ]
        },
        {
         "marker": {
          "color": "green",
          "opacity": 1,
          "size": 1
         },
         "mode": "markers",
         "type": "scatter3d",
         "x": [
          26.658067404639745
         ],
         "y": [
          7.1649746009363975
         ],
         "z": [
          3.741863405129378
         ]
        },
        {
         "marker": {
          "color": "green",
          "opacity": 1,
          "size": 1
         },
         "mode": "markers",
         "type": "scatter3d",
         "x": [
          20.421009000200023
         ],
         "y": [
          -9.978538268862023
         ],
         "z": [
          -7.929322050066442
         ]
        },
        {
         "marker": {
          "color": "green",
          "opacity": 1,
          "size": 1
         },
         "mode": "markers",
         "type": "scatter3d",
         "x": [
          21.8392958498437
         ],
         "y": [
          -8.959732914221744
         ],
         "z": [
          -0.5749662246196197
         ]
        },
        {
         "marker": {
          "color": "green",
          "opacity": 1,
          "size": 1
         },
         "mode": "markers",
         "type": "scatter3d",
         "x": [
          33.74492368742819,
          33.76166865002982
         ],
         "y": [
          -3.954427356126722,
          -3.940771579240296
         ],
         "z": [
          1.6040365791654376,
          1.5972090052955192
         ]
        },
        {
         "color": "blue",
         "i": [
          7,
          0,
          0,
          0,
          4,
          4,
          6,
          6,
          4,
          0,
          3,
          2
         ],
         "j": [
          3,
          4,
          1,
          2,
          5,
          6,
          5,
          2,
          0,
          1,
          6,
          3
         ],
         "k": [
          0,
          7,
          2,
          3,
          6,
          7,
          1,
          1,
          5,
          5,
          7,
          6
         ],
         "opacity": 0.5,
         "type": "mesh3d",
         "x": [
          33.71548663130418,
          33.722879426145575,
          33.72690750746473,
          33.71951471262334,
          33.779684829993286,
          33.78707762483468,
          33.791105706153836,
          33.78371291131244
         ],
         "y": [
          -3.9807288963953154,
          -3.914354566362579,
          -3.9069617715211846,
          -3.9733361015539215,
          -3.9882371638458336,
          -3.9218628338130967,
          -3.914470038971703,
          -3.9808443690044393
         ],
         "z": [
          1.6285545089078592,
          1.6363565195811252,
          1.5696467180619584,
          1.5618447073886923,
          1.6315988663989986,
          1.6394008770722648,
          1.5726910755530978,
          1.564889064879832
         ]
        },
        {
         "marker": {
          "color": "red",
          "opacity": 1,
          "size": 1
         },
         "mode": "markers",
         "type": "scatter3d",
         "x": [
          33.75329616872901
         ],
         "y": [
          -3.947599467683509
         ],
         "z": [
          1.6006227922304785
         ]
        },
        {
         "marker": {
          "color": "green",
          "opacity": 1,
          "size": 1
         },
         "mode": "markers",
         "type": "scatter3d",
         "x": [
          38.91258008765238,
          39.08940308201715
         ],
         "y": [
          -4.833636925981674,
          -4.604883921827432
         ],
         "z": [
          -0.04360593798369456,
          -0.23186765708885926
         ]
        },
        {
         "color": "blue",
         "i": [
          7,
          0,
          0,
          0,
          4,
          4,
          6,
          6,
          4,
          0,
          3,
          2
         ],
         "j": [
          3,
          4,
          1,
          2,
          5,
          6,
          5,
          2,
          0,
          1,
          6,
          3
         ],
         "k": [
          0,
          7,
          2,
          3,
          6,
          7,
          1,
          1,
          5,
          5,
          7,
          6
         ],
         "opacity": 0.5,
         "type": "mesh3d",
         "x": [
          38.87874744121242,
          38.92198830144878,
          38.92595381278736,
          38.882712952551,
          39.07602935688217,
          39.119270217118526,
          39.12323572845711,
          39.07999486822075
         ],
         "y": [
          -4.906987471897676,
          -4.550902413941753,
          -4.507661553705392,
          -4.863746611661315,
          -4.930859294103713,
          -4.57477423614779,
          -4.53153337591143,
          -4.8876184338673525
         ],
         "z": [
          0.020258984692625964,
          0.06366281541244592,
          -0.2950358544212339,
          -0.3384396851410538,
          0.019562259348680083,
          0.06296609006850004,
          -0.29573257976517975,
          -0.33913641048499976
         ]
        },
        {
         "marker": {
          "color": "red",
          "opacity": 1,
          "size": 1
         },
         "mode": "markers",
         "type": "scatter3d",
         "x": [
          39.000991584834765
         ],
         "y": [
          -4.719260423904553
         ],
         "z": [
          -0.1377367975362769
         ]
        },
        {
         "marker": {
          "color": "green",
          "opacity": 1,
          "size": 1
         },
         "mode": "markers",
         "type": "scatter3d",
         "x": [
          24.051541849545888
         ],
         "y": [
          -8.08818779722272
         ],
         "z": [
          -6.025925671773336
         ]
        },
        {
         "marker": {
          "color": "green",
          "opacity": 1,
          "size": 1
         },
         "mode": "markers",
         "type": "scatter3d",
         "x": [
          20.43606681568081
         ],
         "y": [
          6.9640595882593015
         ],
         "z": [
          0.029361964985601893
         ]
        },
        {
         "marker": {
          "color": "green",
          "opacity": 1,
          "size": 1
         },
         "mode": "markers",
         "type": "scatter3d",
         "x": [
          24.99469350260274
         ],
         "y": [
          5.665230971599273
         ],
         "z": [
          3.175761402775043
         ]
        },
        {
         "marker": {
          "color": "green",
          "opacity": 1,
          "size": 1
         },
         "mode": "markers",
         "type": "scatter3d",
         "x": [
          35.82569849760078
         ],
         "y": [
          -4.41599618749003
         ],
         "z": [
          1.3589965553052277
         ]
        },
        {
         "marker": {
          "color": "green",
          "opacity": 1,
          "size": 1
         },
         "mode": "markers",
         "type": "scatter3d",
         "x": [
          26.8872074639191
         ],
         "y": [
          1.4379593884591502
         ],
         "z": [
          -7.344540665956659
         ]
        },
        {
         "marker": {
          "color": "green",
          "opacity": 1,
          "size": 1
         },
         "mode": "markers",
         "type": "scatter3d",
         "x": [
          23.512497109259854,
          23.4446856684002
         ],
         "y": [
          8.046995816301342,
          8.112610554624736
         ],
         "z": [
          0.3742314519330482,
          0.3946600291672164
         ]
        },
        {
         "color": "blue",
         "i": [
          7,
          0,
          0,
          0,
          4,
          4,
          6,
          6,
          4,
          0,
          3,
          2
         ],
         "j": [
          3,
          4,
          1,
          2,
          5,
          6,
          5,
          2,
          0,
          1,
          6,
          3
         ],
         "k": [
          0,
          7,
          2,
          3,
          6,
          7,
          1,
          1,
          5,
          5,
          7,
          6
         ],
         "opacity": 0.5,
         "type": "mesh3d",
         "x": [
          23.447411367469513,
          23.40599664056512,
          23.42236538920878,
          23.463780116113174,
          23.53481738845127,
          23.493402661546877,
          23.509771410190538,
          23.55118613709493
         ],
         "y": [
          8.024240345660894,
          8.146701288071359,
          8.105286561166965,
          7.982825618756501,
          8.054319809759113,
          8.176780752169577,
          8.135366025265183,
          8.012905082854719
         ],
         "z": [
          0.47059958470936375,
          0.4261177233934724,
          0.2968606830822157,
          0.34134254439810696,
          0.4720307980180488,
          0.42754893670215754,
          0.29829189639090076,
          0.3427737577067921
         ]
        },
        {
         "marker": {
          "color": "red",
          "opacity": 1,
          "size": 1
         },
         "mode": "markers",
         "type": "scatter3d",
         "x": [
          23.478591388830026
         ],
         "y": [
          8.079803185463039
         ],
         "z": [
          0.38444574055013225
         ]
        },
        {
         "marker": {
          "color": "green",
          "opacity": 1,
          "size": 1
         },
         "mode": "markers",
         "type": "scatter3d",
         "x": [
          22.390885957402727
         ],
         "y": [
          -1.865851406618402
         ],
         "z": [
          7.773997050933946
         ]
        },
        {
         "marker": {
          "color": "green",
          "opacity": 1,
          "size": 1
         },
         "mode": "markers",
         "type": "scatter3d",
         "x": [
          28.71228353757369
         ],
         "y": [
          6.0000386330829025
         ],
         "z": [
          5.198966566832785
         ]
        },
        {
         "marker": {
          "color": "green",
          "opacity": 1,
          "size": 1
         },
         "mode": "markers",
         "type": "scatter3d",
         "x": [
          32.681641184768715
         ],
         "y": [
          8.44337060856838
         ],
         "z": [
          -0.5120949472654299
         ]
        },
        {
         "marker": {
          "color": "green",
          "opacity": 1,
          "size": 1
         },
         "mode": "markers",
         "type": "scatter3d",
         "x": [
          20.833667419280502
         ],
         "y": [
          3.7857535665020654
         ],
         "z": [
          8.184042476539101
         ]
        },
        {
         "marker": {
          "color": "green",
          "opacity": 1,
          "size": 1
         },
         "mode": "markers",
         "type": "scatter3d",
         "x": [
          32.44226772430841
         ],
         "y": [
          -7.797994593361909
         ],
         "z": [
          5.9128610108264805
         ]
        },
        {
         "marker": {
          "color": "green",
          "opacity": 1,
          "size": 1
         },
         "mode": "markers",
         "type": "scatter3d",
         "x": [
          37.62173770085808
         ],
         "y": [
          -4.408536170812207
         ],
         "z": [
          0.8421776958725025
         ]
        },
        {
         "marker": {
          "color": "green",
          "opacity": 1,
          "size": 1
         },
         "mode": "markers",
         "type": "scatter3d",
         "x": [
          24.058748081751414
         ],
         "y": [
          -1.6983866874911044
         ],
         "z": [
          2.9104757170363618
         ]
        },
        {
         "marker": {
          "color": "green",
          "opacity": 1,
          "size": 1
         },
         "mode": "markers",
         "type": "scatter3d",
         "x": [
          27.165172646284734
         ],
         "y": [
          8.385218583827303
         ],
         "z": [
          -0.8145341155354296
         ]
        },
        {
         "marker": {
          "color": "green",
          "opacity": 1,
          "size": 1
         },
         "mode": "markers",
         "type": "scatter3d",
         "x": [
          31.652268071468395
         ],
         "y": [
          -6.911127841095379
         ],
         "z": [
          -4.305680771209634
         ]
        },
        {
         "marker": {
          "color": "green",
          "opacity": 1,
          "size": 1
         },
         "mode": "markers",
         "type": "scatter3d",
         "x": [
          28.19943182999736,
          28.28393352613934
         ],
         "y": [
          -2.3448708214506047,
          -2.3665317784793136
         ],
         "z": [
          6.718274588661082,
          6.739900523203769
         ]
        },
        {
         "color": "blue",
         "i": [
          7,
          0,
          0,
          0,
          4,
          4,
          6,
          6,
          4,
          0,
          3,
          2
         ],
         "j": [
          3,
          4,
          1,
          2,
          5,
          6,
          5,
          2,
          0,
          1,
          6,
          3
         ],
         "k": [
          0,
          7,
          2,
          3,
          6,
          7,
          1,
          1,
          5,
          5,
          7,
          6
         ],
         "opacity": 0.5,
         "type": "mesh3d",
         "x": [
          28.164759888172988,
          28.168875418555647,
          28.184144672279313,
          28.180029141896654,
          28.29922068385739,
          28.303336214240048,
          28.318605467963714,
          28.314489937581055
         ],
         "y": [
          -2.384284043291631,
          -2.3200184142581457,
          -2.3159028838754874,
          -2.3801685129089725,
          -2.3954997160544313,
          -2.3312340870209463,
          -2.327118556638288,
          -2.391384185671773
         ],
         "z": [
          6.7417778996863005,
          6.747003143442753,
          6.68435951537009,
          6.679134271613638,
          6.77381559649476,
          6.779040840251213,
          6.71639721217855,
          6.711171968422097
         ]
        },
        {
         "marker": {
          "color": "red",
          "opacity": 1,
          "size": 1
         },
         "mode": "markers",
         "type": "scatter3d",
         "x": [
          28.24168267806835
         ],
         "y": [
          -2.3557012999649594
         ],
         "z": [
          6.729087555932425
         ]
        },
        {
         "marker": {
          "color": "green",
          "opacity": 1,
          "size": 1
         },
         "mode": "markers",
         "type": "scatter3d",
         "x": [
          30.806720972912427
         ],
         "y": [
          -8.065957718106784
         ],
         "z": [
          -8.140663873561488
         ]
        },
        {
         "marker": {
          "color": "green",
          "opacity": 1,
          "size": 1
         },
         "mode": "markers",
         "type": "scatter3d",
         "x": [
          29.5439879407178
         ],
         "y": [
          -7.183548568404229
         ],
         "z": [
          -9.218250101712126
         ]
        },
        {
         "marker": {
          "color": "green",
          "opacity": 1,
          "size": 1
         },
         "mode": "markers",
         "type": "scatter3d",
         "x": [
          25.03035700292084
         ],
         "y": [
          6.116638832453681
         ],
         "z": [
          3.3217683266447846
         ]
        },
        {
         "marker": {
          "color": "green",
          "opacity": 1,
          "size": 1
         },
         "mode": "markers",
         "type": "scatter3d",
         "x": [
          30.073073350178213
         ],
         "y": [
          3.986250087934213
         ],
         "z": [
          2.1227500242024466
         ]
        },
        {
         "marker": {
          "color": "green",
          "opacity": 1,
          "size": 1
         },
         "mode": "markers",
         "type": "scatter3d",
         "x": [
          36.66625615531182,
          36.639084101467276
         ],
         "y": [
          -9.902848036517332,
          -9.844794780439962
         ],
         "z": [
          -9.242750111014061,
          -9.273787513045841
         ]
        },
        {
         "color": "blue",
         "i": [
          7,
          0,
          0,
          0,
          4,
          4,
          6,
          6,
          4,
          0,
          3,
          2
         ],
         "j": [
          3,
          4,
          1,
          2,
          5,
          6,
          5,
          2,
          0,
          1,
          6,
          3
         ],
         "k": [
          0,
          7,
          2,
          3,
          6,
          7,
          1,
          1,
          5,
          5,
          7,
          6
         ],
         "opacity": 0.5,
         "type": "mesh3d",
         "x": [
          36.604920513373095,
          36.64009237684353,
          36.62274155659172,
          36.58756969312128,
          36.68259870018737,
          36.71777056365781,
          36.700419743405995,
          36.665247879935556
         ],
         "y": [
          -9.932812496216789,
          -9.82907654519878,
          -9.793904681728344,
          -9.897640632746352,
          -9.953738135228951,
          -9.850002184210943,
          -9.814830320740507,
          -9.918566271758516
         ],
         "z": [
          -9.209662559219284,
          -9.181053273728681,
          -9.287253969519634,
          -9.315863255010239,
          -9.229283654540266,
          -9.200674369049661,
          -9.306875064840616,
          -9.33548435033122
         ]
        },
        {
         "marker": {
          "color": "red",
          "opacity": 1,
          "size": 1
         },
         "mode": "markers",
         "type": "scatter3d",
         "x": [
          36.652670128389545
         ],
         "y": [
          -9.873821408478648
         ],
         "z": [
          -9.25826881202995
         ]
        },
        {
         "marker": {
          "color": "green",
          "opacity": 1,
          "size": 1
         },
         "mode": "markers",
         "type": "scatter3d",
         "x": [
          25.51377589137881
         ],
         "y": [
          7.5483613222387795
         ],
         "z": [
          1.3292284596796045
         ]
        },
        {
         "marker": {
          "color": "green",
          "opacity": 1,
          "size": 1
         },
         "mode": "markers",
         "type": "scatter3d",
         "x": [
          34.34943244505892
         ],
         "y": [
          0.6118494364534076
         ],
         "z": [
          7.187257189056781
         ]
        },
        {
         "marker": {
          "color": "green",
          "opacity": 1,
          "size": 1
         },
         "mode": "markers",
         "type": "scatter3d",
         "x": [
          24.489146824897986
         ],
         "y": [
          1.4869526844626566
         ],
         "z": [
          -5.576785589789612
         ]
        },
        {
         "marker": {
          "color": "green",
          "opacity": 1,
          "size": 1
         },
         "mode": "markers",
         "type": "scatter3d",
         "x": [
          26.405066647585212
         ],
         "y": [
          9.265554707456538
         ],
         "z": [
          0.4630833586979377
         ]
        },
        {
         "marker": {
          "color": "green",
          "opacity": 1,
          "size": 1
         },
         "mode": "markers",
         "type": "scatter3d",
         "x": [
          36.7527454743555
         ],
         "y": [
          -6.718992541481758
         ],
         "z": [
          -8.927216908907528
         ]
        },
        {
         "marker": {
          "color": "green",
          "opacity": 1,
          "size": 1
         },
         "mode": "markers",
         "type": "scatter3d",
         "x": [
          34.04584427729338
         ],
         "y": [
          7.573055731344937
         ],
         "z": [
          6.702315734812727
         ]
        },
        {
         "marker": {
          "color": "green",
          "opacity": 1,
          "size": 1
         },
         "mode": "markers",
         "type": "scatter3d",
         "x": [
          30.714269048545265
         ],
         "y": [
          -1.2442975315893925
         ],
         "z": [
          -0.0659386387857005
         ]
        },
        {
         "marker": {
          "color": "green",
          "opacity": 1,
          "size": 1
         },
         "mode": "markers",
         "type": "scatter3d",
         "x": [
          21.14431296880886
         ],
         "y": [
          9.279099679429956
         ],
         "z": [
          0.3627370907363701
         ]
        },
        {
         "marker": {
          "color": "green",
          "opacity": 1,
          "size": 1
         },
         "mode": "markers",
         "type": "scatter3d",
         "x": [
          27.177977044811133
         ],
         "y": [
          5.802467615282126
         ],
         "z": [
          2.2834739803522948
         ]
        },
        {
         "marker": {
          "color": "green",
          "opacity": 1,
          "size": 1
         },
         "mode": "markers",
         "type": "scatter3d",
         "x": [
          29.94260102622514
         ],
         "y": [
          9.310857996271269
         ],
         "z": [
          0.11782366647605096
         ]
        },
        {
         "marker": {
          "color": "green",
          "opacity": 1,
          "size": 1
         },
         "mode": "markers",
         "type": "scatter3d",
         "x": [
          24.04431027436421
         ],
         "y": [
          -3.055062514476538
         ],
         "z": [
          1.7127703588340046
         ]
        },
        {
         "marker": {
          "color": "green",
          "opacity": 1,
          "size": 1
         },
         "mode": "markers",
         "type": "scatter3d",
         "x": [
          23.045946331819373
         ],
         "y": [
          -5.558571211376295
         ],
         "z": [
          -8.156206287876218
         ]
        },
        {
         "marker": {
          "color": "green",
          "opacity": 1,
          "size": 1
         },
         "mode": "markers",
         "type": "scatter3d",
         "x": [
          25.01087599739868
         ],
         "y": [
          6.620453844885987
         ],
         "z": [
          9.71396988347022
         ]
        },
        {
         "marker": {
          "color": "green",
          "opacity": 1,
          "size": 1
         },
         "mode": "markers",
         "type": "scatter3d",
         "x": [
          30.233934259783386
         ],
         "y": [
          -2.794868335806806
         ],
         "z": [
          3.060718040855524
         ]
        },
        {
         "marker": {
          "color": "green",
          "opacity": 1,
          "size": 1
         },
         "mode": "markers",
         "type": "scatter3d",
         "x": [
          34.383134865056235
         ],
         "y": [
          1.653798140680911
         ],
         "z": [
          -2.7969699029118265
         ]
        },
        {
         "marker": {
          "color": "green",
          "opacity": 1,
          "size": 1
         },
         "mode": "markers",
         "type": "scatter3d",
         "x": [
          28.003304131239968
         ],
         "y": [
          -3.7472943938471497
         ],
         "z": [
          4.729404929994954
         ]
        },
        {
         "marker": {
          "color": "green",
          "opacity": 1,
          "size": 1
         },
         "mode": "markers",
         "type": "scatter3d",
         "x": [
          20.83035851736481
         ],
         "y": [
          1.921965267483167
         ],
         "z": [
          -6.490796619393919
         ]
        },
        {
         "marker": {
          "color": "green",
          "opacity": 1,
          "size": 1
         },
         "mode": "markers",
         "type": "scatter3d",
         "x": [
          23.938175012418558
         ],
         "y": [
          5.420110782094948
         ],
         "z": [
          3.0384368237206343
         ]
        },
        {
         "marker": {
          "color": "green",
          "opacity": 1,
          "size": 1
         },
         "mode": "markers",
         "type": "scatter3d",
         "x": [
          38.98381885089732
         ],
         "y": [
          1.6636506522023644
         ],
         "z": [
          -0.5434354041005875
         ]
        },
        {
         "marker": {
          "color": "green",
          "opacity": 1,
          "size": 1
         },
         "mode": "markers",
         "type": "scatter3d",
         "x": [
          33.62742724243159
         ],
         "y": [
          9.806332878164898
         ],
         "z": [
          3.8564146463500713
         ]
        },
        {
         "marker": {
          "color": "green",
          "opacity": 1,
          "size": 1
         },
         "mode": "markers",
         "type": "scatter3d",
         "x": [
          25.80441936260459
         ],
         "y": [
          -1.1736672960768055
         ],
         "z": [
          -6.172418846317559
         ]
        },
        {
         "marker": {
          "color": "green",
          "opacity": 1,
          "size": 1
         },
         "mode": "markers",
         "type": "scatter3d",
         "x": [
          25.23282643091947
         ],
         "y": [
          -1.2978514394207787
         ],
         "z": [
          7.302595756489612
         ]
        },
        {
         "marker": {
          "color": "green",
          "opacity": 1,
          "size": 1
         },
         "mode": "markers",
         "type": "scatter3d",
         "x": [
          39.969617905719005
         ],
         "y": [
          -4.136294712661953
         ],
         "z": [
          -1.5133272090149683
         ]
        },
        {
         "marker": {
          "color": "green",
          "opacity": 1,
          "size": 1
         },
         "mode": "markers",
         "type": "scatter3d",
         "x": [
          37.62350001491814
         ],
         "y": [
          -8.14995531679036
         ],
         "z": [
          -7.7385446825490405
         ]
        },
        {
         "marker": {
          "color": "green",
          "opacity": 1,
          "size": 1
         },
         "mode": "markers",
         "type": "scatter3d",
         "x": [
          24.625289045525193
         ],
         "y": [
          0.1138702178231966
         ],
         "z": [
          -6.405390453706428
         ]
        },
        {
         "marker": {
          "color": "green",
          "opacity": 1,
          "size": 1
         },
         "mode": "markers",
         "type": "scatter3d",
         "x": [
          25.94313440407104
         ],
         "y": [
          -2.389375519426513
         ],
         "z": [
          5.996157544315782
         ]
        },
        {
         "marker": {
          "color": "green",
          "opacity": 1,
          "size": 1
         },
         "mode": "markers",
         "type": "scatter3d",
         "x": [
          34.48256041328209
         ],
         "y": [
          -0.8093270001568802
         ],
         "z": [
          0.050434207747805035
         ]
        },
        {
         "marker": {
          "color": "green",
          "opacity": 1,
          "size": 1
         },
         "mode": "markers",
         "type": "scatter3d",
         "x": [
          21.91594482918545
         ],
         "y": [
          -1.4952027165368655
         ],
         "z": [
          -3.921196343747285
         ]
        },
        {
         "marker": {
          "color": "green",
          "opacity": 1,
          "size": 1
         },
         "mode": "markers",
         "type": "scatter3d",
         "x": [
          28.2799564671358
         ],
         "y": [
          -8.583063080534256
         ],
         "z": [
          -0.5119868663705699
         ]
        },
        {
         "marker": {
          "color": "green",
          "opacity": 1,
          "size": 1
         },
         "mode": "markers",
         "type": "scatter3d",
         "x": [
          24.68145607926729
         ],
         "y": [
          5.125517609485159
         ],
         "z": [
          -0.1955261498985374
         ]
        },
        {
         "marker": {
          "color": "green",
          "opacity": 1,
          "size": 1
         },
         "mode": "markers",
         "type": "scatter3d",
         "x": [
          26.55754781038702
         ],
         "y": [
          8.445655038685675
         ],
         "z": [
          -1.0159033551007832
         ]
        },
        {
         "marker": {
          "color": "green",
          "opacity": 1,
          "size": 1
         },
         "mode": "markers",
         "type": "scatter3d",
         "x": [
          37.64491748587074
         ],
         "y": [
          -5.025277497766972
         ],
         "z": [
          -0.4977497081605721
         ]
        },
        {
         "marker": {
          "color": "green",
          "opacity": 1,
          "size": 1
         },
         "mode": "markers",
         "type": "scatter3d",
         "x": [
          38.28275984249513
         ],
         "y": [
          -5.345398649574394
         ],
         "z": [
          0.7170611790463294
         ]
        },
        {
         "marker": {
          "color": "green",
          "opacity": 1,
          "size": 1
         },
         "mode": "markers",
         "type": "scatter3d",
         "x": [
          28.573313197367234
         ],
         "y": [
          -4.0132762826767125
         ],
         "z": [
          1.0905524340044799
         ]
        },
        {
         "marker": {
          "color": "green",
          "opacity": 1,
          "size": 1
         },
         "mode": "markers",
         "type": "scatter3d",
         "x": [
          21.501058893601197
         ],
         "y": [
          5.509914805165884
         ],
         "z": [
          -5.167932008749696
         ]
        },
        {
         "marker": {
          "color": "green",
          "opacity": 1,
          "size": 1
         },
         "mode": "markers",
         "type": "scatter3d",
         "x": [
          29.038687651303896
         ],
         "y": [
          1.591048817043722
         ],
         "z": [
          -2.337307895590868
         ]
        },
        {
         "marker": {
          "color": "green",
          "opacity": 1,
          "size": 1
         },
         "mode": "markers",
         "type": "scatter3d",
         "x": [
          23.765691304533693
         ],
         "y": [
          -8.732241604582754
         ],
         "z": [
          0.7515658534352789
         ]
        },
        {
         "marker": {
          "color": "green",
          "opacity": 1,
          "size": 1
         },
         "mode": "markers",
         "type": "scatter3d",
         "x": [
          23.693371558155928
         ],
         "y": [
          5.9121205951285765
         ],
         "z": [
          -9.499949962961932
         ]
        },
        {
         "marker": {
          "color": "green",
          "opacity": 1,
          "size": 1
         },
         "mode": "markers",
         "type": "scatter3d",
         "x": [
          24.57790370689343
         ],
         "y": [
          5.671946692828778
         ],
         "z": [
          0.7361332376271741
         ]
        },
        {
         "marker": {
          "color": "green",
          "opacity": 1,
          "size": 1
         },
         "mode": "markers",
         "type": "scatter3d",
         "x": [
          23.898189912737013
         ],
         "y": [
          6.969258933326747
         ],
         "z": [
          2.939739756363562
         ]
        },
        {
         "marker": {
          "color": "green",
          "opacity": 1,
          "size": 1
         },
         "mode": "markers",
         "type": "scatter3d",
         "x": [
          28.746199432919003
         ],
         "y": [
          -7.302292586810749
         ],
         "z": [
          -8.844527407111611
         ]
        },
        {
         "marker": {
          "color": "green",
          "opacity": 1,
          "size": 1
         },
         "mode": "markers",
         "type": "scatter3d",
         "x": [
          21.468470169245386
         ],
         "y": [
          -2.9361958482731865
         ],
         "z": [
          -0.0898506404209345
         ]
        },
        {
         "marker": {
          "color": "green",
          "opacity": 1,
          "size": 1
         },
         "mode": "markers",
         "type": "scatter3d",
         "x": [
          26.235108077968178
         ],
         "y": [
          1.464133281417233
         ],
         "z": [
          -6.807507262143733
         ]
        },
        {
         "marker": {
          "color": "green",
          "opacity": 1,
          "size": 1
         },
         "mode": "markers",
         "type": "scatter3d",
         "x": [
          39.076167769018994
         ],
         "y": [
          -7.851586160720262
         ],
         "z": [
          -3.135051326669592
         ]
        },
        {
         "marker": {
          "color": "green",
          "opacity": 1,
          "size": 1
         },
         "mode": "markers",
         "type": "scatter3d",
         "x": [
          31.26658409585616
         ],
         "y": [
          2.5891537390545563
         ],
         "z": [
          -9.296143787070084
         ]
        },
        {
         "marker": {
          "color": "green",
          "opacity": 1,
          "size": 1
         },
         "mode": "markers",
         "type": "scatter3d",
         "x": [
          23.422815280608248
         ],
         "y": [
          -8.382189702315994
         ],
         "z": [
          0.2689214473155382
         ]
        },
        {
         "marker": {
          "color": "green",
          "opacity": 1,
          "size": 1
         },
         "mode": "markers",
         "type": "scatter3d",
         "x": [
          28.276462496208254
         ],
         "y": [
          -2.62203627361689
         ],
         "z": [
          3.244550117427877
         ]
        },
        {
         "marker": {
          "color": "green",
          "opacity": 1,
          "size": 1
         },
         "mode": "markers",
         "type": "scatter3d",
         "x": [
          31.196232670657015
         ],
         "y": [
          0.7085317046295297
         ],
         "z": [
          6.342847787178112
         ]
        },
        {
         "marker": {
          "color": "green",
          "opacity": 1,
          "size": 1
         },
         "mode": "markers",
         "type": "scatter3d",
         "x": [
          23.443955927895942
         ],
         "y": [
          2.5372995199355257
         ],
         "z": [
          7.02965660939696
         ]
        },
        {
         "marker": {
          "color": "green",
          "opacity": 1,
          "size": 1
         },
         "mode": "markers",
         "type": "scatter3d",
         "x": [
          20.96830716440489
         ],
         "y": [
          3.08257927356783
         ],
         "z": [
          -0.4620907229067749
         ]
        },
        {
         "marker": {
          "color": "green",
          "opacity": 1,
          "size": 1
         },
         "mode": "markers",
         "type": "scatter3d",
         "x": [
          36.997044947619074
         ],
         "y": [
          9.47843725133852
         ],
         "z": [
          2.7774415255274363
         ]
        },
        {
         "marker": {
          "color": "green",
          "opacity": 1,
          "size": 1
         },
         "mode": "markers",
         "type": "scatter3d",
         "x": [
          34.54161497660498
         ],
         "y": [
          3.292442814455415
         ],
         "z": [
          -0.2485696016439461
         ]
        },
        {
         "marker": {
          "color": "green",
          "opacity": 1,
          "size": 1
         },
         "mode": "markers",
         "type": "scatter3d",
         "x": [
          24.73401635400728
         ],
         "y": [
          6.892927925599942
         ],
         "z": [
          2.0274253588399063
         ]
        },
        {
         "marker": {
          "color": "green",
          "opacity": 1,
          "size": 1
         },
         "mode": "markers",
         "type": "scatter3d",
         "x": [
          21.04818724109225
         ],
         "y": [
          -3.0948764964031708
         ],
         "z": [
          -7.022220439703382
         ]
        },
        {
         "marker": {
          "color": "green",
          "opacity": 1,
          "size": 1
         },
         "mode": "markers",
         "type": "scatter3d",
         "x": [
          28.49586462739915,
          28.33464887361756
         ],
         "y": [
          6.1084638415831,
          6.0785269468946215
         ],
         "z": [
          -2.0848513852693817,
          -2.074881502978577
         ]
        },
        {
         "color": "blue",
         "i": [
          7,
          0,
          0,
          0,
          4,
          4,
          6,
          6,
          4,
          0,
          3,
          2
         ],
         "j": [
          3,
          4,
          1,
          2,
          5,
          6,
          5,
          2,
          0,
          1,
          6,
          3
         ],
         "k": [
          0,
          7,
          2,
          3,
          6,
          7,
          1,
          1,
          5,
          5,
          7,
          6
         ],
         "opacity": 0.5,
         "type": "mesh3d",
         "x": [
          28.317494546407804,
          28.305444377113776,
          28.304112224328012,
          28.316162393622037,
          28.5264012766887,
          28.514351107394674,
          28.513018954608906,
          28.525069123902934
         ],
         "y": [
          6.050982909360625,
          6.103259150059824,
          6.091208980765796,
          6.038932740066598,
          6.095781807711926,
          6.148058048411124,
          6.136007879117097,
          6.083731638417898
         ],
         "z": [
          -2.0397321352455826,
          -2.0512057673701976,
          -2.1047097386688485,
          -2.0932361065442335,
          -2.0550231495791103,
          -2.066496781703725,
          -2.120000753002376,
          -2.108527120877761
         ]
        },
        {
         "marker": {
          "color": "red",
          "opacity": 1,
          "size": 1
         },
         "mode": "markers",
         "type": "scatter3d",
         "x": [
          28.415256750508355
         ],
         "y": [
          6.093495394238861
         ],
         "z": [
          -2.0798664441239794
         ]
        },
        {
         "marker": {
          "color": "green",
          "opacity": 1,
          "size": 1
         },
         "mode": "markers",
         "type": "scatter3d",
         "x": [
          23.75088260140459
         ],
         "y": [
          -5.462578383355969
         ],
         "z": [
          -7.966861444204296
         ]
        },
        {
         "marker": {
          "color": "green",
          "opacity": 1,
          "size": 1
         },
         "mode": "markers",
         "type": "scatter3d",
         "x": [
          23.055651824174713
         ],
         "y": [
          6.160063769567907
         ],
         "z": [
          3.1750065696571235
         ]
        },
        {
         "marker": {
          "color": "green",
          "opacity": 1,
          "size": 1
         },
         "mode": "markers",
         "type": "scatter3d",
         "x": [
          20.4660801494298
         ],
         "y": [
          8.527136004812704
         ],
         "z": [
          9.259599375861098
         ]
        },
        {
         "marker": {
          "color": "green",
          "opacity": 1,
          "size": 1
         },
         "mode": "markers",
         "type": "scatter3d",
         "x": [
          39.53108981077457
         ],
         "y": [
          -1.4969281735954563
         ],
         "z": [
          -0.048269751524888216
         ]
        },
        {
         "marker": {
          "color": "green",
          "opacity": 1,
          "size": 1
         },
         "mode": "markers",
         "type": "scatter3d",
         "x": [
          22.317516864723586
         ],
         "y": [
          -2.542992777617524
         ],
         "z": [
          0.304579686543009
         ]
        },
        {
         "marker": {
          "color": "green",
          "opacity": 1,
          "size": 1
         },
         "mode": "markers",
         "type": "scatter3d",
         "x": [
          21.597881487924358
         ],
         "y": [
          4.348784052705135
         ],
         "z": [
          4.379099204836006
         ]
        },
        {
         "marker": {
          "color": "green",
          "opacity": 1,
          "size": 1
         },
         "mode": "markers",
         "type": "scatter3d",
         "x": [
          22.48142300932154
         ],
         "y": [
          3.2315443341931913
         ],
         "z": [
          -0.4912259223496779
         ]
        },
        {
         "marker": {
          "color": "green",
          "opacity": 1,
          "size": 1
         },
         "mode": "markers",
         "type": "scatter3d",
         "x": [
          26.050612499806032
         ],
         "y": [
          8.943636021078003
         ],
         "z": [
          0.3730844005125327
         ]
        },
        {
         "marker": {
          "color": "green",
          "opacity": 1,
          "size": 1
         },
         "mode": "markers",
         "type": "scatter3d",
         "x": [
          31.795566915998112
         ],
         "y": [
          -8.427496476659101
         ],
         "z": [
          -7.462498917827852
         ]
        },
        {
         "marker": {
          "color": "green",
          "opacity": 1,
          "size": 1
         },
         "mode": "markers",
         "type": "scatter3d",
         "x": [
          25.688300421378752
         ],
         "y": [
          -4.316493889950298
         ],
         "z": [
          2.2317394197030183
         ]
        },
        {
         "marker": {
          "color": "green",
          "opacity": 1,
          "size": 1
         },
         "mode": "markers",
         "type": "scatter3d",
         "x": [
          22.324015912680007
         ],
         "y": [
          9.9850991376452
         ],
         "z": [
          -1.605209921701534
         ]
        },
        {
         "marker": {
          "color": "green",
          "opacity": 1,
          "size": 1
         },
         "mode": "markers",
         "type": "scatter3d",
         "x": [
          26.474414498112086
         ],
         "y": [
          3.232864154744062
         ],
         "z": [
          0.5586791128406101
         ]
        },
        {
         "marker": {
          "color": "green",
          "opacity": 1,
          "size": 1
         },
         "mode": "markers",
         "type": "scatter3d",
         "x": [
          20.80189239193664
         ],
         "y": [
          -1.872571799315692
         ],
         "z": [
          8.144185098967624
         ]
        },
        {
         "marker": {
          "color": "green",
          "opacity": 1,
          "size": 1
         },
         "mode": "markers",
         "type": "scatter3d",
         "x": [
          24.45181878763368
         ],
         "y": [
          -9.913548561002687
         ],
         "z": [
          0.5153173500021792
         ]
        },
        {
         "marker": {
          "color": "green",
          "opacity": 1,
          "size": 1
         },
         "mode": "markers",
         "type": "scatter3d",
         "x": [
          24.183126960737
         ],
         "y": [
          -1.653710904912292
         ],
         "z": [
          -4.24532394800486
         ]
        },
        {
         "marker": {
          "color": "green",
          "opacity": 1,
          "size": 1
         },
         "mode": "markers",
         "type": "scatter3d",
         "x": [
          29.208481581963746
         ],
         "y": [
          5.329818777695528
         ],
         "z": [
          0.4709423536556948
         ]
        },
        {
         "marker": {
          "color": "green",
          "opacity": 1,
          "size": 1
         },
         "mode": "markers",
         "type": "scatter3d",
         "x": [
          21.747810706501394
         ],
         "y": [
          0.9778758451124712
         ],
         "z": [
          7.184925472121273
         ]
        },
        {
         "marker": {
          "color": "green",
          "opacity": 1,
          "size": 1
         },
         "mode": "markers",
         "type": "scatter3d",
         "x": [
          21.6953795132514
         ],
         "y": [
          -8.918578878574428
         ],
         "z": [
          0.04515383653264871
         ]
        },
        {
         "marker": {
          "color": "green",
          "opacity": 1,
          "size": 1
         },
         "mode": "markers",
         "type": "scatter3d",
         "x": [
          23.015997479077114
         ],
         "y": [
          -7.894352335749447
         ],
         "z": [
          -5.619539106491555
         ]
        },
        {
         "marker": {
          "color": "green",
          "opacity": 1,
          "size": 1
         },
         "mode": "markers",
         "type": "scatter3d",
         "x": [
          21.656717194313984
         ],
         "y": [
          -5.300321717785547
         ],
         "z": [
          -7.542866465145393
         ]
        },
        {
         "marker": {
          "color": "green",
          "opacity": 1,
          "size": 1
         },
         "mode": "markers",
         "type": "scatter3d",
         "x": [
          38.93098108818453
         ],
         "y": [
          6.207824891108116
         ],
         "z": [
          -0.5510930947116459
         ]
        },
        {
         "marker": {
          "color": "green",
          "opacity": 1,
          "size": 1
         },
         "mode": "markers",
         "type": "scatter3d",
         "x": [
          26.24280166600987
         ],
         "y": [
          9.129638211238218
         ],
         "z": [
          -8.177707604568946
         ]
        },
        {
         "marker": {
          "color": "green",
          "opacity": 1,
          "size": 1
         },
         "mode": "markers",
         "type": "scatter3d",
         "x": [
          28.672323439427103
         ],
         "y": [
          1.6345044876177297
         ],
         "z": [
          -7.378838654912301
         ]
        },
        {
         "marker": {
          "color": "green",
          "opacity": 1,
          "size": 1
         },
         "mode": "markers",
         "type": "scatter3d",
         "x": [
          26.826410179436326
         ],
         "y": [
          7.058614492418594
         ],
         "z": [
          9.412322011513794
         ]
        },
        {
         "marker": {
          "color": "green",
          "opacity": 1,
          "size": 1
         },
         "mode": "markers",
         "type": "scatter3d",
         "x": [
          21.173385969302963
         ],
         "y": [
          -6.414500646586663
         ],
         "z": [
          0.4837242303631888
         ]
        },
        {
         "marker": {
          "color": "green",
          "opacity": 1,
          "size": 1
         },
         "mode": "markers",
         "type": "scatter3d",
         "x": [
          22.64294369558711
         ],
         "y": [
          -8.92837809298624
         ],
         "z": [
          7.268705217071859
         ]
        },
        {
         "marker": {
          "color": "green",
          "opacity": 1,
          "size": 1
         },
         "mode": "markers",
         "type": "scatter3d",
         "x": [
          23.017014911630426
         ],
         "y": [
          -5.689295732844975
         ],
         "z": [
          -0.07469647834212144
         ]
        },
        {
         "marker": {
          "color": "green",
          "opacity": 1,
          "size": 1
         },
         "mode": "markers",
         "type": "scatter3d",
         "x": [
          35.960810796604136
         ],
         "y": [
          -9.109720581531324
         ],
         "z": [
          0.3468473058136597
         ]
        },
        {
         "marker": {
          "color": "green",
          "opacity": 1,
          "size": 1
         },
         "mode": "markers",
         "type": "scatter3d",
         "x": [
          24.51418745032732
         ],
         "y": [
          -5.750763009241991
         ],
         "z": [
          6.0762387623603615
         ]
        },
        {
         "marker": {
          "color": "green",
          "opacity": 1,
          "size": 1
         },
         "mode": "markers",
         "type": "scatter3d",
         "x": [
          20.11655800550282
         ],
         "y": [
          9.335086680510363
         ],
         "z": [
          -9.450512751303238
         ]
        },
        {
         "marker": {
          "color": "green",
          "opacity": 1,
          "size": 1
         },
         "mode": "markers",
         "type": "scatter3d",
         "x": [
          25.532506868330845
         ],
         "y": [
          -9.95478228435562
         ],
         "z": [
          -7.831331795028638
         ]
        },
        {
         "marker": {
          "color": "green",
          "opacity": 1,
          "size": 1
         },
         "mode": "markers",
         "type": "scatter3d",
         "x": [
          32.23123855309238
         ],
         "y": [
          7.6346897209415365
         ],
         "z": [
          -8.851826566304057
         ]
        },
        {
         "marker": {
          "color": "green",
          "opacity": 1,
          "size": 1
         },
         "mode": "markers",
         "type": "scatter3d",
         "x": [
          20.964459135238414
         ],
         "y": [
          3.6154850152424234
         ],
         "z": [
          5.372434312787187
         ]
        },
        {
         "marker": {
          "color": "green",
          "opacity": 1,
          "size": 1
         },
         "mode": "markers",
         "type": "scatter3d",
         "x": [
          24.901891521470148
         ],
         "y": [
          8.52382965724622
         ],
         "z": [
          0.3894987642841907
         ]
        },
        {
         "marker": {
          "color": "green",
          "opacity": 1,
          "size": 1
         },
         "mode": "markers",
         "type": "scatter3d",
         "x": [
          31.40906756346085
         ],
         "y": [
          8.62476630098617
         ],
         "z": [
          -4.360967264796137
         ]
        },
        {
         "marker": {
          "color": "green",
          "opacity": 1,
          "size": 1
         },
         "mode": "markers",
         "type": "scatter3d",
         "x": [
          23.27491218529466
         ],
         "y": [
          -5.26058498933926
         ],
         "z": [
          -7.834931968139379
         ]
        }
       ],
       "layout": {
        "autosize": true,
        "margin": {
         "b": 0,
         "l": 0,
         "r": 0,
         "t": 0
        },
        "scene": {
         "aspectmode": "auto",
         "aspectratio": {
          "x": 0.9957383739062304,
          "y": 1.0040539659024434,
          "z": 1.0002249872860924
         },
         "camera": {
          "center": {
           "x": 0,
           "y": 0,
           "z": 0
          },
          "eye": {
           "x": -0.15932822027223356,
           "y": 0.40448344663145336,
           "z": 0.04923422062190759
          },
          "projection": {
           "type": "perspective"
          },
          "up": {
           "x": 0,
           "y": 0,
           "z": 1
          }
         }
        },
        "template": {
         "data": {
          "bar": [
           {
            "error_x": {
             "color": "#2a3f5f"
            },
            "error_y": {
             "color": "#2a3f5f"
            },
            "marker": {
             "line": {
              "color": "#E5ECF6",
              "width": 0.5
             }
            },
            "type": "bar"
           }
          ],
          "barpolar": [
           {
            "marker": {
             "line": {
              "color": "#E5ECF6",
              "width": 0.5
             }
            },
            "type": "barpolar"
           }
          ],
          "carpet": [
           {
            "aaxis": {
             "endlinecolor": "#2a3f5f",
             "gridcolor": "white",
             "linecolor": "white",
             "minorgridcolor": "white",
             "startlinecolor": "#2a3f5f"
            },
            "baxis": {
             "endlinecolor": "#2a3f5f",
             "gridcolor": "white",
             "linecolor": "white",
             "minorgridcolor": "white",
             "startlinecolor": "#2a3f5f"
            },
            "type": "carpet"
           }
          ],
          "choropleth": [
           {
            "colorbar": {
             "outlinewidth": 0,
             "ticks": ""
            },
            "type": "choropleth"
           }
          ],
          "contour": [
           {
            "colorbar": {
             "outlinewidth": 0,
             "ticks": ""
            },
            "colorscale": [
             [
              0,
              "#0d0887"
             ],
             [
              0.1111111111111111,
              "#46039f"
             ],
             [
              0.2222222222222222,
              "#7201a8"
             ],
             [
              0.3333333333333333,
              "#9c179e"
             ],
             [
              0.4444444444444444,
              "#bd3786"
             ],
             [
              0.5555555555555556,
              "#d8576b"
             ],
             [
              0.6666666666666666,
              "#ed7953"
             ],
             [
              0.7777777777777778,
              "#fb9f3a"
             ],
             [
              0.8888888888888888,
              "#fdca26"
             ],
             [
              1,
              "#f0f921"
             ]
            ],
            "type": "contour"
           }
          ],
          "contourcarpet": [
           {
            "colorbar": {
             "outlinewidth": 0,
             "ticks": ""
            },
            "type": "contourcarpet"
           }
          ],
          "heatmap": [
           {
            "colorbar": {
             "outlinewidth": 0,
             "ticks": ""
            },
            "colorscale": [
             [
              0,
              "#0d0887"
             ],
             [
              0.1111111111111111,
              "#46039f"
             ],
             [
              0.2222222222222222,
              "#7201a8"
             ],
             [
              0.3333333333333333,
              "#9c179e"
             ],
             [
              0.4444444444444444,
              "#bd3786"
             ],
             [
              0.5555555555555556,
              "#d8576b"
             ],
             [
              0.6666666666666666,
              "#ed7953"
             ],
             [
              0.7777777777777778,
              "#fb9f3a"
             ],
             [
              0.8888888888888888,
              "#fdca26"
             ],
             [
              1,
              "#f0f921"
             ]
            ],
            "type": "heatmap"
           }
          ],
          "heatmapgl": [
           {
            "colorbar": {
             "outlinewidth": 0,
             "ticks": ""
            },
            "colorscale": [
             [
              0,
              "#0d0887"
             ],
             [
              0.1111111111111111,
              "#46039f"
             ],
             [
              0.2222222222222222,
              "#7201a8"
             ],
             [
              0.3333333333333333,
              "#9c179e"
             ],
             [
              0.4444444444444444,
              "#bd3786"
             ],
             [
              0.5555555555555556,
              "#d8576b"
             ],
             [
              0.6666666666666666,
              "#ed7953"
             ],
             [
              0.7777777777777778,
              "#fb9f3a"
             ],
             [
              0.8888888888888888,
              "#fdca26"
             ],
             [
              1,
              "#f0f921"
             ]
            ],
            "type": "heatmapgl"
           }
          ],
          "histogram": [
           {
            "marker": {
             "colorbar": {
              "outlinewidth": 0,
              "ticks": ""
             }
            },
            "type": "histogram"
           }
          ],
          "histogram2d": [
           {
            "colorbar": {
             "outlinewidth": 0,
             "ticks": ""
            },
            "colorscale": [
             [
              0,
              "#0d0887"
             ],
             [
              0.1111111111111111,
              "#46039f"
             ],
             [
              0.2222222222222222,
              "#7201a8"
             ],
             [
              0.3333333333333333,
              "#9c179e"
             ],
             [
              0.4444444444444444,
              "#bd3786"
             ],
             [
              0.5555555555555556,
              "#d8576b"
             ],
             [
              0.6666666666666666,
              "#ed7953"
             ],
             [
              0.7777777777777778,
              "#fb9f3a"
             ],
             [
              0.8888888888888888,
              "#fdca26"
             ],
             [
              1,
              "#f0f921"
             ]
            ],
            "type": "histogram2d"
           }
          ],
          "histogram2dcontour": [
           {
            "colorbar": {
             "outlinewidth": 0,
             "ticks": ""
            },
            "colorscale": [
             [
              0,
              "#0d0887"
             ],
             [
              0.1111111111111111,
              "#46039f"
             ],
             [
              0.2222222222222222,
              "#7201a8"
             ],
             [
              0.3333333333333333,
              "#9c179e"
             ],
             [
              0.4444444444444444,
              "#bd3786"
             ],
             [
              0.5555555555555556,
              "#d8576b"
             ],
             [
              0.6666666666666666,
              "#ed7953"
             ],
             [
              0.7777777777777778,
              "#fb9f3a"
             ],
             [
              0.8888888888888888,
              "#fdca26"
             ],
             [
              1,
              "#f0f921"
             ]
            ],
            "type": "histogram2dcontour"
           }
          ],
          "mesh3d": [
           {
            "colorbar": {
             "outlinewidth": 0,
             "ticks": ""
            },
            "type": "mesh3d"
           }
          ],
          "parcoords": [
           {
            "line": {
             "colorbar": {
              "outlinewidth": 0,
              "ticks": ""
             }
            },
            "type": "parcoords"
           }
          ],
          "pie": [
           {
            "automargin": true,
            "type": "pie"
           }
          ],
          "scatter": [
           {
            "marker": {
             "colorbar": {
              "outlinewidth": 0,
              "ticks": ""
             }
            },
            "type": "scatter"
           }
          ],
          "scatter3d": [
           {
            "line": {
             "colorbar": {
              "outlinewidth": 0,
              "ticks": ""
             }
            },
            "marker": {
             "colorbar": {
              "outlinewidth": 0,
              "ticks": ""
             }
            },
            "type": "scatter3d"
           }
          ],
          "scattercarpet": [
           {
            "marker": {
             "colorbar": {
              "outlinewidth": 0,
              "ticks": ""
             }
            },
            "type": "scattercarpet"
           }
          ],
          "scattergeo": [
           {
            "marker": {
             "colorbar": {
              "outlinewidth": 0,
              "ticks": ""
             }
            },
            "type": "scattergeo"
           }
          ],
          "scattergl": [
           {
            "marker": {
             "colorbar": {
              "outlinewidth": 0,
              "ticks": ""
             }
            },
            "type": "scattergl"
           }
          ],
          "scattermapbox": [
           {
            "marker": {
             "colorbar": {
              "outlinewidth": 0,
              "ticks": ""
             }
            },
            "type": "scattermapbox"
           }
          ],
          "scatterpolar": [
           {
            "marker": {
             "colorbar": {
              "outlinewidth": 0,
              "ticks": ""
             }
            },
            "type": "scatterpolar"
           }
          ],
          "scatterpolargl": [
           {
            "marker": {
             "colorbar": {
              "outlinewidth": 0,
              "ticks": ""
             }
            },
            "type": "scatterpolargl"
           }
          ],
          "scatterternary": [
           {
            "marker": {
             "colorbar": {
              "outlinewidth": 0,
              "ticks": ""
             }
            },
            "type": "scatterternary"
           }
          ],
          "surface": [
           {
            "colorbar": {
             "outlinewidth": 0,
             "ticks": ""
            },
            "colorscale": [
             [
              0,
              "#0d0887"
             ],
             [
              0.1111111111111111,
              "#46039f"
             ],
             [
              0.2222222222222222,
              "#7201a8"
             ],
             [
              0.3333333333333333,
              "#9c179e"
             ],
             [
              0.4444444444444444,
              "#bd3786"
             ],
             [
              0.5555555555555556,
              "#d8576b"
             ],
             [
              0.6666666666666666,
              "#ed7953"
             ],
             [
              0.7777777777777778,
              "#fb9f3a"
             ],
             [
              0.8888888888888888,
              "#fdca26"
             ],
             [
              1,
              "#f0f921"
             ]
            ],
            "type": "surface"
           }
          ],
          "table": [
           {
            "cells": {
             "fill": {
              "color": "#EBF0F8"
             },
             "line": {
              "color": "white"
             }
            },
            "header": {
             "fill": {
              "color": "#C8D4E3"
             },
             "line": {
              "color": "white"
             }
            },
            "type": "table"
           }
          ]
         },
         "layout": {
          "annotationdefaults": {
           "arrowcolor": "#2a3f5f",
           "arrowhead": 0,
           "arrowwidth": 1
          },
          "autotypenumbers": "strict",
          "coloraxis": {
           "colorbar": {
            "outlinewidth": 0,
            "ticks": ""
           }
          },
          "colorscale": {
           "diverging": [
            [
             0,
             "#8e0152"
            ],
            [
             0.1,
             "#c51b7d"
            ],
            [
             0.2,
             "#de77ae"
            ],
            [
             0.3,
             "#f1b6da"
            ],
            [
             0.4,
             "#fde0ef"
            ],
            [
             0.5,
             "#f7f7f7"
            ],
            [
             0.6,
             "#e6f5d0"
            ],
            [
             0.7,
             "#b8e186"
            ],
            [
             0.8,
             "#7fbc41"
            ],
            [
             0.9,
             "#4d9221"
            ],
            [
             1,
             "#276419"
            ]
           ],
           "sequential": [
            [
             0,
             "#0d0887"
            ],
            [
             0.1111111111111111,
             "#46039f"
            ],
            [
             0.2222222222222222,
             "#7201a8"
            ],
            [
             0.3333333333333333,
             "#9c179e"
            ],
            [
             0.4444444444444444,
             "#bd3786"
            ],
            [
             0.5555555555555556,
             "#d8576b"
            ],
            [
             0.6666666666666666,
             "#ed7953"
            ],
            [
             0.7777777777777778,
             "#fb9f3a"
            ],
            [
             0.8888888888888888,
             "#fdca26"
            ],
            [
             1,
             "#f0f921"
            ]
           ],
           "sequentialminus": [
            [
             0,
             "#0d0887"
            ],
            [
             0.1111111111111111,
             "#46039f"
            ],
            [
             0.2222222222222222,
             "#7201a8"
            ],
            [
             0.3333333333333333,
             "#9c179e"
            ],
            [
             0.4444444444444444,
             "#bd3786"
            ],
            [
             0.5555555555555556,
             "#d8576b"
            ],
            [
             0.6666666666666666,
             "#ed7953"
            ],
            [
             0.7777777777777778,
             "#fb9f3a"
            ],
            [
             0.8888888888888888,
             "#fdca26"
            ],
            [
             1,
             "#f0f921"
            ]
           ]
          },
          "colorway": [
           "#636efa",
           "#EF553B",
           "#00cc96",
           "#ab63fa",
           "#FFA15A",
           "#19d3f3",
           "#FF6692",
           "#B6E880",
           "#FF97FF",
           "#FECB52"
          ],
          "font": {
           "color": "#2a3f5f"
          },
          "geo": {
           "bgcolor": "white",
           "lakecolor": "white",
           "landcolor": "#E5ECF6",
           "showlakes": true,
           "showland": true,
           "subunitcolor": "white"
          },
          "hoverlabel": {
           "align": "left"
          },
          "hovermode": "closest",
          "mapbox": {
           "style": "light"
          },
          "paper_bgcolor": "white",
          "plot_bgcolor": "#E5ECF6",
          "polar": {
           "angularaxis": {
            "gridcolor": "white",
            "linecolor": "white",
            "ticks": ""
           },
           "bgcolor": "#E5ECF6",
           "radialaxis": {
            "gridcolor": "white",
            "linecolor": "white",
            "ticks": ""
           }
          },
          "scene": {
           "xaxis": {
            "backgroundcolor": "#E5ECF6",
            "gridcolor": "white",
            "gridwidth": 2,
            "linecolor": "white",
            "showbackground": true,
            "ticks": "",
            "zerolinecolor": "white"
           },
           "yaxis": {
            "backgroundcolor": "#E5ECF6",
            "gridcolor": "white",
            "gridwidth": 2,
            "linecolor": "white",
            "showbackground": true,
            "ticks": "",
            "zerolinecolor": "white"
           },
           "zaxis": {
            "backgroundcolor": "#E5ECF6",
            "gridcolor": "white",
            "gridwidth": 2,
            "linecolor": "white",
            "showbackground": true,
            "ticks": "",
            "zerolinecolor": "white"
           }
          },
          "shapedefaults": {
           "line": {
            "color": "#2a3f5f"
           }
          },
          "ternary": {
           "aaxis": {
            "gridcolor": "white",
            "linecolor": "white",
            "ticks": ""
           },
           "baxis": {
            "gridcolor": "white",
            "linecolor": "white",
            "ticks": ""
           },
           "bgcolor": "#E5ECF6",
           "caxis": {
            "gridcolor": "white",
            "linecolor": "white",
            "ticks": ""
           }
          },
          "title": {
           "x": 0.05
          },
          "xaxis": {
           "automargin": true,
           "gridcolor": "white",
           "linecolor": "white",
           "ticks": "",
           "title": {
            "standoff": 15
           },
           "zerolinecolor": "white",
           "zerolinewidth": 2
          },
          "yaxis": {
           "automargin": true,
           "gridcolor": "white",
           "linecolor": "white",
           "ticks": "",
           "title": {
            "standoff": 15
           },
           "zerolinecolor": "white",
           "zerolinewidth": 2
          }
         }
        }
       }
      },
      "text/html": [
       "<div>                            <div id=\"54e964db-e0a3-4eaa-a0ab-57f2674f4d52\" class=\"plotly-graph-div\" style=\"height:525px; width:100%;\"></div>            <script type=\"text/javascript\">                require([\"plotly\"], function(Plotly) {                    window.PLOTLYENV=window.PLOTLYENV || {};                                    if (document.getElementById(\"54e964db-e0a3-4eaa-a0ab-57f2674f4d52\")) {                    Plotly.newPlot(                        \"54e964db-e0a3-4eaa-a0ab-57f2674f4d52\",                        [{\"marker\": {\"color\": \"green\", \"opacity\": 1, \"size\": 1}, \"mode\": \"markers\", \"type\": \"scatter3d\", \"x\": [26.25519274826423], \"y\": [-8.896680091766376], \"z\": [-3.1303635950131232]}, {\"marker\": {\"color\": \"green\", \"opacity\": 1, \"size\": 1}, \"mode\": \"markers\", \"type\": \"scatter3d\", \"x\": [23.50356918470079, 23.339844151260813], \"y\": [5.425536476688037, 5.387943826902889], \"z\": [0.2048942805328489, 0.20455782757339466]}, {\"color\": \"blue\", \"i\": [7, 0, 0, 0, 4, 4, 6, 6, 4, 0, 3, 2], \"j\": [3, 4, 1, 2, 5, 6, 5, 2, 0, 1, 6, 3], \"k\": [0, 7, 2, 3, 6, 7, 1, 1, 5, 5, 7, 6], \"opacity\": 0.5, \"type\": \"mesh3d\", \"x\": [23.31956600366958, 23.30845952774499, 23.31145867914548, 23.32256515507007, 23.53195465681612, 23.52084818089153, 23.52384733229202, 23.53495380821661], \"y\": [5.363505182555167, 5.4120531348148875, 5.400946658890298, 5.352398706630578, 5.412533644700627, 5.461081596960347, 5.449975121035758, 5.401427168776038], \"z\": [0.2344459904035463, 0.22294993749398495, 0.17314965645071725, 0.18464570936027863, 0.2363024516555263, 0.22480639874596492, 0.17500611770269725, 0.1865021706122586]}, {\"marker\": {\"color\": \"red\", \"opacity\": 1, \"size\": 1}, \"mode\": \"markers\", \"type\": \"scatter3d\", \"x\": [23.4217066679808], \"y\": [5.4067401517954625], \"z\": [0.20472605405312178]}, {\"marker\": {\"color\": \"green\", \"opacity\": 1, \"size\": 1}, \"mode\": \"markers\", \"type\": \"scatter3d\", \"x\": [29.850014841469488, 30.282196271424088, 30.092247994507343, 29.76911660651801], \"y\": [-7.992312941693963, -8.105416013283005, -8.056435372113876, -7.654915905149628], \"z\": [-8.854478685640323, -8.977222293419088, -8.930966508017024, -8.82973533882085]}, {\"color\": \"blue\", \"i\": [7, 0, 0, 0, 4, 4, 6, 6, 4, 0, 3, 2], \"j\": [3, 4, 1, 2, 5, 6, 5, 2, 0, 1, 6, 3], \"k\": [0, 7, 2, 3, 6, 7, 1, 1, 5, 5, 7, 6], \"opacity\": 0.5, \"type\": \"mesh3d\", \"x\": [29.64327407011408, 29.80394135213398, 29.706377978845868, 29.545710696825967, 30.290409878113596, 30.451077160133497, 30.353513786845383, 30.192846504825486], \"y\": [-8.179794862768352, -7.713863394383693, -7.553196112363793, -8.019127580748453, -8.351344003756445, -7.885412535371786, -7.724745253351886, -8.190676721736544], \"z\": [-8.628499180080112, -8.50324238775174, -8.975749303519247, -9.10100609584762, -8.820452109429393, -8.695195317101021, -9.167702232868528, -9.2929590251969]}, {\"marker\": {\"color\": \"red\", \"opacity\": 1, \"size\": 1}, \"mode\": \"markers\", \"type\": \"scatter3d\", \"x\": [29.998393928479732], \"y\": [-7.952270058060119], \"z\": [-8.89810070647432]}, {\"marker\": {\"color\": \"green\", \"opacity\": 1, \"size\": 1}, \"mode\": \"markers\", \"type\": \"scatter3d\", \"x\": [32.676127298888396], \"y\": [-3.8313094250047177], \"z\": [1.5630919183455103]}, {\"marker\": {\"color\": \"green\", \"opacity\": 1, \"size\": 1}, \"mode\": \"markers\", \"type\": \"scatter3d\", \"x\": [23.21142988856905, 22.907677469311643, 23.04051184338749], \"y\": [4.911350842812152, 4.8465278583075975, 4.699734181643889], \"z\": [4.813485438447637, 4.757664604259007, 4.788389329389826]}, {\"color\": \"blue\", \"i\": [7, 0, 0, 0, 4, 4, 6, 6, 4, 0, 3, 2], \"j\": [3, 4, 1, 2, 5, 6, 5, 2, 0, 1, 6, 3], \"k\": [0, 7, 2, 3, 6, 7, 1, 1, 5, 5, 7, 6], \"opacity\": 0.5, \"type\": \"mesh3d\", \"x\": [22.850662976544363, 22.805842399387743, 22.870863507767094, 22.915684084923715, 23.23554929307836, 23.19072871592174, 23.25574982430109, 23.300570401457712], \"y\": [4.666357023606577, 4.9364128012966075, 4.891592224139989, 4.621536446449959, 4.746816364369103, 5.016872142059134, 4.972051564902515, 4.701995787212485], \"z\": [4.908588861396061, 4.852557270046631, 4.5845238434781574, 4.640555434827587, 4.988502404586157, 4.932470813236727, 4.664437386668253, 4.720468978017683]}, {\"marker\": {\"color\": \"red\", \"opacity\": 1, \"size\": 1}, \"mode\": \"markers\", \"type\": \"scatter3d\", \"x\": [23.053206400422727], \"y\": [4.819204294254546], \"z\": [4.786513124032157]}, {\"marker\": {\"color\": \"green\", \"opacity\": 1, \"size\": 1}, \"mode\": \"markers\", \"type\": \"scatter3d\", \"x\": [23.744064982601536], \"y\": [-1.5481663369776997], \"z\": [-2.9528195999658946]}, {\"marker\": {\"color\": \"green\", \"opacity\": 1, \"size\": 1}, \"mode\": \"markers\", \"type\": \"scatter3d\", \"x\": [30.786244680534033], \"y\": [-2.1641558247496797], \"z\": [1.7394543539739271]}, {\"marker\": {\"color\": \"green\", \"opacity\": 1, \"size\": 1}, \"mode\": \"markers\", \"type\": \"scatter3d\", \"x\": [25.85541576975459], \"y\": [-2.592588210235049], \"z\": [4.39414160017387]}, {\"marker\": {\"color\": \"green\", \"opacity\": 1, \"size\": 1}, \"mode\": \"markers\", \"type\": \"scatter3d\", \"x\": [27.66438340664748, 27.562470432640193], \"y\": [-7.269421362683826, -7.162989832275027], \"z\": [-8.4121667479354, -8.20228234874868]}, {\"color\": \"blue\", \"i\": [7, 0, 0, 0, 4, 4, 6, 6, 4, 0, 3, 2], \"j\": [3, 4, 1, 2, 5, 6, 5, 2, 0, 1, 6, 3], \"k\": [0, 7, 2, 3, 6, 7, 1, 1, 5, 5, 7, 6], \"opacity\": 0.5, \"type\": \"mesh3d\", \"x\": [27.493522215833323, 27.566598459823577, 27.52044544687434, 27.447369202884087, 27.70640839241333, 27.779484636403584, 27.733331623454347, 27.660255379464093], \"y\": [-7.332118235467633, -7.1177357457605925, -7.044659501770338, -7.259041991477379, -7.387751693188514, -7.1733692034814736, -7.100292959491219, -7.31467544919826], \"z\": [-8.195096109297703, -8.138415638218419, -8.355308300820147, -8.41198877189943, -8.259140795863933, -8.20246032478465, -8.419352987386377, -8.476033458465661]}, {\"marker\": {\"color\": \"red\", \"opacity\": 1, \"size\": 1}, \"mode\": \"markers\", \"type\": \"scatter3d\", \"x\": [27.613426919643835], \"y\": [-7.216205597479426], \"z\": [-8.30722454834204]}, {\"marker\": {\"color\": \"green\", \"opacity\": 1, \"size\": 1}, \"mode\": \"markers\", \"type\": \"scatter3d\", \"x\": [25.488613271361533], \"y\": [-2.0928896495307203], \"z\": [-2.6537988638108065]}, {\"marker\": {\"color\": \"green\", \"opacity\": 1, \"size\": 1}, \"mode\": \"markers\", \"type\": \"scatter3d\", \"x\": [22.970950416810158, 23.13960411332907], \"y\": [9.91471537060934, 9.978894848901176], \"z\": [-1.3504364568480576, -1.3517512581539182]}, {\"color\": \"blue\", \"i\": [7, 0, 0, 0, 4, 4, 6, 6, 4, 0, 3, 2], \"j\": [3, 4, 1, 2, 5, 6, 5, 2, 0, 1, 6, 3], \"k\": [0, 7, 2, 3, 6, 7, 1, 1, 5, 5, 7, 6], \"opacity\": 0.5, \"type\": \"mesh3d\", \"x\": [22.958149382291985, 22.934578401157673, 22.941443323990665, 22.96501430512498, 23.16911120614856, 23.145540225014244, 23.15240514784724, 23.175976128981553], \"y\": [9.88741776341272, 9.938747565968697, 9.91517658483438, 9.863846782278406, 9.978433634676133, 10.029763437232107, 10.006192456097793, 9.954862653541817], \"z\": [-1.3045557852681875, -1.3288827133586432, -1.3852690671621175, -1.3609421390716618, -1.3169186478398582, -1.341245575930314, -1.3976319297337882, -1.3733050016433326]}, {\"marker\": {\"color\": \"red\", \"opacity\": 1, \"size\": 1}, \"mode\": \"markers\", \"type\": \"scatter3d\", \"x\": [23.055277265069613], \"y\": [9.946805109755257], \"z\": [-1.3510938575009879]}, {\"marker\": {\"color\": \"green\", \"opacity\": 1, \"size\": 1}, \"mode\": \"markers\", \"type\": \"scatter3d\", \"x\": [25.99140131677393], \"y\": [2.37264215544927], \"z\": [-5.956432924109957]}, {\"marker\": {\"color\": \"green\", \"opacity\": 1, \"size\": 1}, \"mode\": \"markers\", \"type\": \"scatter3d\", \"x\": [22.850440384163882, 22.649257953447517], \"y\": [-9.75694990943984, -9.673196325532462], \"z\": [4.231442079875814, 4.195405496716515]}, {\"color\": \"blue\", \"i\": [7, 0, 0, 0, 4, 4, 6, 6, 4, 0, 3, 2], \"j\": [3, 4, 1, 2, 5, 6, 5, 2, 0, 1, 6, 3], \"k\": [0, 7, 2, 3, 6, 7, 1, 1, 5, 5, 7, 6], \"opacity\": 0.5, \"type\": \"mesh3d\", \"x\": [22.611473457220615, 22.627177003161968, 22.642656688301958, 22.626953142360605, 22.85704164930944, 22.872745195250793, 22.888224880390784, 22.87252133444943], \"y\": [-9.693264667797996, -9.647717914930316, -9.632014368988964, -9.677561121856643, -9.798131865983338, -9.752585113115659, -9.736881567174306, -9.782428320041985], \"z\": [4.20425458314131, 4.224484386046295, 4.177112126544232, 4.156882323639247, 4.249735450048098, 4.2699652529530825, 4.22259299345102, 4.202363190546035]}, {\"marker\": {\"color\": \"red\", \"opacity\": 1, \"size\": 1}, \"mode\": \"markers\", \"type\": \"scatter3d\", \"x\": [22.7498491688057], \"y\": [-9.71507311748615], \"z\": [4.213423788296165]}, {\"marker\": {\"color\": \"green\", \"opacity\": 1, \"size\": 1}, \"mode\": \"markers\", \"type\": \"scatter3d\", \"x\": [37.35707491328683], \"y\": [9.588499360544565], \"z\": [0.9365151183681214]}, {\"marker\": {\"color\": \"green\", \"opacity\": 1, \"size\": 1}, \"mode\": \"markers\", \"type\": \"scatter3d\", \"x\": [28.51365048655693], \"y\": [9.662179177056203], \"z\": [0.575614715632612]}, {\"marker\": {\"color\": \"green\", \"opacity\": 1, \"size\": 1}, \"mode\": \"markers\", \"type\": \"scatter3d\", \"x\": [36.15949805544972], \"y\": [-4.747575139102111], \"z\": [0.3571928570914761]}, {\"marker\": {\"color\": \"green\", \"opacity\": 1, \"size\": 1}, \"mode\": \"markers\", \"type\": \"scatter3d\", \"x\": [26.938558630792667], \"y\": [9.1805195281544], \"z\": [0.8079793961139444]}, {\"marker\": {\"color\": \"green\", \"opacity\": 1, \"size\": 1}, \"mode\": \"markers\", \"type\": \"scatter3d\", \"x\": [20.63610303553266], \"y\": [-2.2682939862417193], \"z\": [-6.773919643601656]}, {\"marker\": {\"color\": \"green\", \"opacity\": 1, \"size\": 1}, \"mode\": \"markers\", \"type\": \"scatter3d\", \"x\": [23.96720479017631], \"y\": [-1.6484370033925366], \"z\": [-4.5684875642718445]}, {\"marker\": {\"color\": \"green\", \"opacity\": 1, \"size\": 1}, \"mode\": \"markers\", \"type\": \"scatter3d\", \"x\": [36.24798221769972], \"y\": [-4.453903536871124], \"z\": [-0.3426043426986965]}, {\"marker\": {\"color\": \"green\", \"opacity\": 1, \"size\": 1}, \"mode\": \"markers\", \"type\": \"scatter3d\", \"x\": [21.523965808513886], \"y\": [4.0130525176591325], \"z\": [7.1824638619954335]}, {\"marker\": {\"color\": \"green\", \"opacity\": 1, \"size\": 1}, \"mode\": \"markers\", \"type\": \"scatter3d\", \"x\": [29.562604262984628], \"y\": [-1.7580867360460088], \"z\": [0.1284819146395446]}, {\"marker\": {\"color\": \"green\", \"opacity\": 1, \"size\": 1}, \"mode\": \"markers\", \"type\": \"scatter3d\", \"x\": [30.06760930493032], \"y\": [4.150208223598189], \"z\": [-3.3009746394047847]}, {\"marker\": {\"color\": \"green\", \"opacity\": 1, \"size\": 1}, \"mode\": \"markers\", \"type\": \"scatter3d\", \"x\": [27.924326850747036], \"y\": [-3.577918821420705], \"z\": [-0.13534029521602342]}, {\"marker\": {\"color\": \"green\", \"opacity\": 1, \"size\": 1}, \"mode\": \"markers\", \"type\": \"scatter3d\", \"x\": [38.05575171187765], \"y\": [-0.5327219938374367], \"z\": [-0.9003996246776116]}, {\"marker\": {\"color\": \"green\", \"opacity\": 1, \"size\": 1}, \"mode\": \"markers\", \"type\": \"scatter3d\", \"x\": [27.67435993301867], \"y\": [9.48115642765819], \"z\": [-0.4950769578788122]}, {\"marker\": {\"color\": \"green\", \"opacity\": 1, \"size\": 1}, \"mode\": \"markers\", \"type\": \"scatter3d\", \"x\": [22.146191572417287], \"y\": [8.599021345226285], \"z\": [-4.062240384312765]}, {\"marker\": {\"color\": \"green\", \"opacity\": 1, \"size\": 1}, \"mode\": \"markers\", \"type\": \"scatter3d\", \"x\": [21.340533705985393, 21.270144966589502], \"y\": [-8.719690191641515, -8.749031121838119], \"z\": [0.07864742176074249, 0.05075746646538053]}, {\"color\": \"blue\", \"i\": [7, 0, 0, 0, 4, 4, 6, 6, 4, 0, 3, 2], \"j\": [3, 4, 1, 2, 5, 6, 5, 2, 0, 1, 6, 3], \"k\": [0, 7, 2, 3, 6, 7, 1, 1, 5, 5, 7, 6], \"opacity\": 0.5, \"type\": \"mesh3d\", \"x\": [21.22975291361186, 21.268451894359973, 21.284627673254736, 21.245928692506624, 21.326050999320156, 21.364749980068268, 21.38092575896303, 21.34222677821492], \"y\": [-8.781324618051947, -8.686617205645302, -8.64791822489719, -8.742625637303835, -8.820803088582444, -8.726095676175799, -8.687396695427687, -8.782104107834332], \"z\": [0.0947391866160097, 0.13668165195005266, 0.034373252782596925, -0.0075692125514460196, 0.09503163544352608, 0.13697410077756902, 0.0346657016101133, -0.007276763723929644]}, {\"marker\": {\"color\": \"red\", \"opacity\": 1, \"size\": 1}, \"mode\": \"markers\", \"type\": \"scatter3d\", \"x\": [21.305339336287446], \"y\": [-8.734360656739817], \"z\": [0.0647024441130615]}, {\"marker\": {\"color\": \"green\", \"opacity\": 1, \"size\": 1}, \"mode\": \"markers\", \"type\": \"scatter3d\", \"x\": [30.870799254599387], \"y\": [-4.87253419941901], \"z\": [4.658983999134653]}, {\"marker\": {\"color\": \"green\", \"opacity\": 1, \"size\": 1}, \"mode\": \"markers\", \"type\": \"scatter3d\", \"x\": [32.310552964291695], \"y\": [-7.9146492253118], \"z\": [-7.266990373877912]}, {\"marker\": {\"color\": \"green\", \"opacity\": 1, \"size\": 1}, \"mode\": \"markers\", \"type\": \"scatter3d\", \"x\": [25.90678510710281], \"y\": [-7.348910068557661], \"z\": [4.445161772180871]}, {\"marker\": {\"color\": \"green\", \"opacity\": 1, \"size\": 1}, \"mode\": \"markers\", \"type\": \"scatter3d\", \"x\": [21.783229740415788, 21.536028001853566], \"y\": [-5.311578097077575, -5.145467215935431], \"z\": [-5.616418655752948, -5.7913595030695815]}, {\"color\": \"blue\", \"i\": [7, 0, 0, 0, 4, 4, 6, 6, 4, 0, 3, 2], \"j\": [3, 4, 1, 2, 5, 6, 5, 2, 0, 1, 6, 3], \"k\": [0, 7, 2, 3, 6, 7, 1, 1, 5, 5, 7, 6], \"opacity\": 0.5, \"type\": \"mesh3d\", \"x\": [21.512775006664416, 21.601077424019063, 21.54546803089313, 21.45716561353848, 21.773789711376228, 21.86209212873088, 21.80648273560494, 21.718180318250294], \"y\": [-5.385607875711613, -5.096732251645549, -5.0084298342909, -5.297305458356964, -5.448615478722107, -5.159739854656043, -5.071437437301394, -5.360313061367457], \"z\": [-5.558722477778923, -5.488208336044352, -5.780319557602658, -5.850833699337229, -5.627458601219873, -5.556944459485302, -5.849055681043608, -5.919569822778179]}, {\"marker\": {\"color\": \"red\", \"opacity\": 1, \"size\": 1}, \"mode\": \"markers\", \"type\": \"scatter3d\", \"x\": [21.65962887113468], \"y\": [-5.228522656506503], \"z\": [-5.703889079411265]}, {\"marker\": {\"color\": \"green\", \"opacity\": 1, \"size\": 1}, \"mode\": \"markers\", \"type\": \"scatter3d\", \"x\": [28.534115253780627], \"y\": [-5.4853405581238475], \"z\": [-9.757414234659322]}, {\"marker\": {\"color\": \"green\", \"opacity\": 1, \"size\": 1}, \"mode\": \"markers\", \"type\": \"scatter3d\", \"x\": [27.563164841149376], \"y\": [-4.035159526222102], \"z\": [0.437586682484]}, {\"marker\": {\"color\": \"green\", \"opacity\": 1, \"size\": 1}, \"mode\": \"markers\", \"type\": \"scatter3d\", \"x\": [25.465378670279065], \"y\": [7.201325621813908], \"z\": [1.4095390670547665]}, {\"marker\": {\"color\": \"green\", \"opacity\": 1, \"size\": 1}, \"mode\": \"markers\", \"type\": \"scatter3d\", \"x\": [25.056433069182845], \"y\": [-1.515226577987534], \"z\": [8.819484114613608]}, {\"marker\": {\"color\": \"green\", \"opacity\": 1, \"size\": 1}, \"mode\": \"markers\", \"type\": \"scatter3d\", \"x\": [39.48173994603695, 39.3022377172159, 39.273691701265285], \"y\": [-6.185397785703374, -6.162999754248864, -6.160841353310972], \"z\": [0.0753250572694559, 0.07573963598396474, 0.07421906012852257]}, {\"color\": \"blue\", \"i\": [7, 0, 0, 0, 4, 4, 6, 6, 4, 0, 3, 2], \"j\": [3, 4, 1, 2, 5, 6, 5, 2, 0, 1, 6, 3], \"k\": [0, 7, 2, 3, 6, 7, 1, 1, 5, 5, 7, 6], \"opacity\": 0.5, \"type\": \"mesh3d\", \"x\": [39.194103048690366, 39.20312843262492, 39.20465484783836, 39.19562946390381, 39.5004580618404, 39.50948344577495, 39.511009860988395, 39.50198447705384], \"y\": [-6.1790826673658374, -6.121404564434734, -6.112379180500183, -6.170057283431286, -6.227113415008624, -6.16943531207752, -6.160409928142969, -6.218088031074073], \"z\": [0.09941577939340838, 0.10856865259445787, 0.05018878703995622, 0.04103591383890673, 0.10000038188133928, 0.10915325508238877, 0.05077338952788711, 0.04162051632683762]}, {\"marker\": {\"color\": \"red\", \"opacity\": 1, \"size\": 1}, \"mode\": \"markers\", \"type\": \"scatter3d\", \"x\": [39.35255645483938], \"y\": [-6.169746297754403], \"z\": [0.07509458446064775]}, {\"marker\": {\"color\": \"green\", \"opacity\": 1, \"size\": 1}, \"mode\": \"markers\", \"type\": \"scatter3d\", \"x\": [26.030967633967748], \"y\": [7.268114127967986], \"z\": [2.1308380753058422]}, {\"marker\": {\"color\": \"green\", \"opacity\": 1, \"size\": 1}, \"mode\": \"markers\", \"type\": \"scatter3d\", \"x\": [30.58206598978776], \"y\": [4.684515404949693], \"z\": [-3.8816792120633483]}, {\"marker\": {\"color\": \"green\", \"opacity\": 1, \"size\": 1}, \"mode\": \"markers\", \"type\": \"scatter3d\", \"x\": [20.97114490358891], \"y\": [-0.5542278438119231], \"z\": [-0.02107550580452737]}, {\"marker\": {\"color\": \"green\", \"opacity\": 1, \"size\": 1}, \"mode\": \"markers\", \"type\": \"scatter3d\", \"x\": [21.526863975425787], \"y\": [-2.77342798969482], \"z\": [3.3792510571781724]}, {\"marker\": {\"color\": \"green\", \"opacity\": 1, \"size\": 1}, \"mode\": \"markers\", \"type\": \"scatter3d\", \"x\": [26.035328009528588], \"y\": [-0.3704536676436582], \"z\": [-7.862361036328045]}, {\"marker\": {\"color\": \"green\", \"opacity\": 1, \"size\": 1}, \"mode\": \"markers\", \"type\": \"scatter3d\", \"x\": [29.88402134951427, 29.98435124412618], \"y\": [3.5219792074907637, 3.520717110135988], \"z\": [-6.162109360209072, -6.175229383156626]}, {\"color\": \"blue\", \"i\": [7, 0, 0, 0, 4, 4, 6, 6, 4, 0, 3, 2], \"j\": [3, 4, 1, 2, 5, 6, 5, 2, 0, 1, 6, 3], \"k\": [0, 7, 2, 3, 6, 7, 1, 1, 5, 5, 7, 6], \"opacity\": 0.5, \"type\": \"mesh3d\", \"x\": [29.8716380885372, 29.862613310825537, 29.85068437665214, 29.859709154363802, 30.01768821698831, 30.00866343927665, 29.99673450510325, 30.005759282814914], \"y\": [3.4854066345981485, 3.5491336579679382, 3.540108880256276, 3.4763818568864857, 3.502587437370476, 3.566314460740266, 3.5572896830286034, 3.4935626596588136], \"z\": [-6.1183938379655025, -6.125809430882253, -6.188847713341148, -6.181432120424398, -6.148491030024551, -6.155906622941301, -6.218944905400196, -6.211529312483446]}, {\"marker\": {\"color\": \"red\", \"opacity\": 1, \"size\": 1}, \"mode\": \"markers\", \"type\": \"scatter3d\", \"x\": [29.934186296820226], \"y\": [3.521348158813376], \"z\": [-6.168669371682849]}, {\"marker\": {\"color\": \"green\", \"opacity\": 1, \"size\": 1}, \"mode\": \"markers\", \"type\": \"scatter3d\", \"x\": [34.77084850748718], \"y\": [-6.80023473628858], \"z\": [-4.291377908238843]}, {\"marker\": {\"color\": \"green\", \"opacity\": 1, \"size\": 1}, \"mode\": \"markers\", \"type\": \"scatter3d\", \"x\": [20.59431485062141, 20.649417161642393], \"y\": [3.2412850406030964, 3.251931208402586], \"z\": [9.887727789876486, 9.905774941000086]}, {\"color\": \"blue\", \"i\": [7, 0, 0, 0, 4, 4, 6, 6, 4, 0, 3, 2], \"j\": [3, 4, 1, 2, 5, 6, 5, 2, 0, 1, 6, 3], \"k\": [0, 7, 2, 3, 6, 7, 1, 1, 5, 5, 7, 6], \"opacity\": 0.5, \"type\": \"mesh3d\", \"x\": [20.563211296057126, 20.55812133107264, 20.58375171366152, 20.588841678646006, 20.659980298602285, 20.6548903336178, 20.68052071620668, 20.685610681191164], \"y\": [3.212955893489598, 3.270115470765356, 3.2650255057808697, 3.2078659285051114, 3.2281907432248125, 3.2853503205005707, 3.2802603555160843, 3.223100778240326], \"z\": [9.903471599422355, 9.895326485019243, 9.843590195518248, 9.85173530992136, 9.949912535358324, 9.941767420955212, 9.890031131454217, 9.898176245857329]}, {\"marker\": {\"color\": \"red\", \"opacity\": 1, \"size\": 1}, \"mode\": \"markers\", \"type\": \"scatter3d\", \"x\": [20.621866006131903], \"y\": [3.246608124502841], \"z\": [9.896751365438286]}, {\"marker\": {\"color\": \"green\", \"opacity\": 1, \"size\": 1}, \"mode\": \"markers\", \"type\": \"scatter3d\", \"x\": [24.395368414820155], \"y\": [-2.4390237489262234], \"z\": [0.0157296874642134]}, {\"marker\": {\"color\": \"green\", \"opacity\": 1, \"size\": 1}, \"mode\": \"markers\", \"type\": \"scatter3d\", \"x\": [37.960304330962074], \"y\": [-7.707588423636955], \"z\": [-9.069339375094783]}, {\"marker\": {\"color\": \"green\", \"opacity\": 1, \"size\": 1}, \"mode\": \"markers\", \"type\": \"scatter3d\", \"x\": [38.032641952748], \"y\": [9.517736339347644], \"z\": [-8.594083175063188]}, {\"marker\": {\"color\": \"green\", \"opacity\": 1, \"size\": 1}, \"mode\": \"markers\", \"type\": \"scatter3d\", \"x\": [26.9088747334724], \"y\": [-9.115574035888939], \"z\": [-3.2019475208997266]}, {\"marker\": {\"color\": \"green\", \"opacity\": 1, \"size\": 1}, \"mode\": \"markers\", \"type\": \"scatter3d\", \"x\": [21.69741420339085], \"y\": [-1.896676629569665], \"z\": [8.840145171454429]}, {\"marker\": {\"color\": \"green\", \"opacity\": 1, \"size\": 1}, \"mode\": \"markers\", \"type\": \"scatter3d\", \"x\": [33.55466475841816], \"y\": [7.762756982554518], \"z\": [-7.303176325846922]}, {\"marker\": {\"color\": \"green\", \"opacity\": 1, \"size\": 1}, \"mode\": \"markers\", \"type\": \"scatter3d\", \"x\": [28.199491842390284], \"y\": [6.488400630019131], \"z\": [-1.5697280519083443]}, {\"marker\": {\"color\": \"green\", \"opacity\": 1, \"size\": 1}, \"mode\": \"markers\", \"type\": \"scatter3d\", \"x\": [22.007366723576244, 22.094068976511718], \"y\": [-5.364415821008965, -5.406648102177316], \"z\": [-7.740993039315972, -7.700559992837643]}, {\"color\": \"blue\", \"i\": [7, 0, 0, 0, 4, 4, 6, 6, 4, 0, 3, 2], \"j\": [3, 4, 1, 2, 5, 6, 5, 2, 0, 1, 6, 3], \"k\": [0, 7, 2, 3, 6, 7, 1, 1, 5, 5, 7, 6], \"opacity\": 0.5, \"type\": \"mesh3d\", \"x\": [21.989209686878628, 22.026265739457415, 21.996154367547522, 21.959098314968735, 22.10528133254044, 22.142337385119227, 22.112226013209334, 22.075169960630546], \"y\": [-5.446166641842763, -5.333604707732563, -5.296548655153774, -5.409110589263975, -5.474515268032507, -5.361953333922306, -5.324897281343518, -5.4374592154537185], \"z\": [-7.658191014742456, -7.630874246046605, -7.742721016873107, -7.770037785568957, -7.698832015280509, -7.671515246584659, -7.78336201741116, -7.810678786107011]}, {\"marker\": {\"color\": \"red\", \"opacity\": 1, \"size\": 1}, \"mode\": \"markers\", \"type\": \"scatter3d\", \"x\": [22.05071785004398], \"y\": [-5.3855319615931405], \"z\": [-7.720776516076808]}, {\"marker\": {\"color\": \"green\", \"opacity\": 1, \"size\": 1}, \"mode\": \"markers\", \"type\": \"scatter3d\", \"x\": [24.719801543475022, 24.82708874203804], \"y\": [-6.4050405113249145, -6.436093050449388], \"z\": [-7.30971670886703, -7.345570210898378]}, {\"color\": \"blue\", \"i\": [7, 0, 0, 0, 4, 4, 6, 6, 4, 0, 3, 2], \"j\": [3, 4, 1, 2, 5, 6, 5, 2, 0, 1, 6, 3], \"k\": [0, 7, 2, 3, 6, 7, 1, 1, 5, 5, 7, 6], \"opacity\": 0.5, \"type\": \"mesh3d\", \"x\": [24.692496175351803, 24.709493700405154, 24.69879181239025, 24.681794287336903, 24.848098473122807, 24.865095998176155, 24.854394110161255, 24.837396585107903], \"y\": [-6.434140198907901, -6.383663233112712, -6.3666657080593625, -6.417142673854551, -6.47446785371494, -6.423990887919752, -6.406993362866402, -6.457470328661591], \"z\": [-7.285712192900006, -7.272475123545002, -7.323549712862141, -7.336786782217145, -7.331737206903268, -7.318500137548264, -7.369574726865403, -7.382811796220407]}, {\"marker\": {\"color\": \"red\", \"opacity\": 1, \"size\": 1}, \"mode\": \"markers\", \"type\": \"scatter3d\", \"x\": [24.77344514275653], \"y\": [-6.420566780887151], \"z\": [-7.3276434598827045]}, {\"marker\": {\"color\": \"green\", \"opacity\": 1, \"size\": 1}, \"mode\": \"markers\", \"type\": \"scatter3d\", \"x\": [36.836904852035715], \"y\": [-3.369178160825463], \"z\": [-0.3851842116902963]}, {\"marker\": {\"color\": \"green\", \"opacity\": 1, \"size\": 1}, \"mode\": \"markers\", \"type\": \"scatter3d\", \"x\": [20.951852840329547], \"y\": [-9.486006194869402], \"z\": [0.05232417319669597]}, {\"marker\": {\"color\": \"green\", \"opacity\": 1, \"size\": 1}, \"mode\": \"markers\", \"type\": \"scatter3d\", \"x\": [24.383940083652988, 24.571137338314262], \"y\": [-8.69176217124843, -8.753671970813368], \"z\": [-0.1786999399785596, -0.18247991201589414]}, {\"color\": \"blue\", \"i\": [7, 0, 0, 0, 4, 4, 6, 6, 4, 0, 3, 2], \"j\": [3, 4, 1, 2, 5, 6, 5, 2, 0, 1, 6, 3], \"k\": [0, 7, 2, 3, 6, 7, 1, 1, 5, 5, 7, 6], \"opacity\": 0.5, \"type\": \"mesh3d\", \"x\": [24.34943087191771, 24.366981950282668, 24.372853303775447, 24.35530222541049, 24.5822241181918, 24.599775196556756, 24.605646550049535, 24.58809547168458], \"y\": [-8.714448206746916, -8.66557975039975, -8.648028672034792, -8.696897128381957, -8.797405470027007, -8.748537013679842, -8.730985935314884, -8.779854391662049], \"z\": [-0.16302114546310068, -0.1445179999251975, -0.19644120888529978, -0.21494435442320295, -0.16473864310915395, -0.1462354975712508, -0.19815870653135306, -0.21666185206925623]}, {\"marker\": {\"color\": \"red\", \"opacity\": 1, \"size\": 1}, \"mode\": \"markers\", \"type\": \"scatter3d\", \"x\": [24.477538710983623], \"y\": [-8.7227170710309], \"z\": [-0.18058992599722687]}, {\"marker\": {\"color\": \"green\", \"opacity\": 1, \"size\": 1}, \"mode\": \"markers\", \"type\": \"scatter3d\", \"x\": [20.485931490178093], \"y\": [-4.222735603066867], \"z\": [-8.732080829584898]}, {\"marker\": {\"color\": \"green\", \"opacity\": 1, \"size\": 1}, \"mode\": \"markers\", \"type\": \"scatter3d\", \"x\": [22.498371464567786], \"y\": [8.334658072240353], \"z\": [-2.8000280423903936]}, {\"marker\": {\"color\": \"green\", \"opacity\": 1, \"size\": 1}, \"mode\": \"markers\", \"type\": \"scatter3d\", \"x\": [30.473402328898], \"y\": [2.0433444295924], \"z\": [-0.5740937797524033]}, {\"marker\": {\"color\": \"green\", \"opacity\": 1, \"size\": 1}, \"mode\": \"markers\", \"type\": \"scatter3d\", \"x\": [35.818430612755634], \"y\": [-9.729468852977133], \"z\": [-8.983186653375009]}, {\"marker\": {\"color\": \"green\", \"opacity\": 1, \"size\": 1}, \"mode\": \"markers\", \"type\": \"scatter3d\", \"x\": [21.645144511278087], \"y\": [4.8645323109651395], \"z\": [8.361255407268771]}, {\"marker\": {\"color\": \"green\", \"opacity\": 1, \"size\": 1}, \"mode\": \"markers\", \"type\": \"scatter3d\", \"x\": [31.30921652242813], \"y\": [-7.746823205020197], \"z\": [-7.692641825417549]}, {\"marker\": {\"color\": \"green\", \"opacity\": 1, \"size\": 1}, \"mode\": \"markers\", \"type\": \"scatter3d\", \"x\": [28.87007008983061, 28.84026355998573], \"y\": [2.3609046299029366, 2.3710799971113223], \"z\": [9.883944843304196, 9.968167372519725]}, {\"color\": \"blue\", \"i\": [7, 0, 0, 0, 4, 4, 6, 6, 4, 0, 3, 2], \"j\": [3, 4, 1, 2, 5, 6, 5, 2, 0, 1, 6, 3], \"k\": [0, 7, 2, 3, 6, 7, 1, 1, 5, 5, 7, 6], \"opacity\": 0.5, \"type\": \"mesh3d\", \"x\": [28.81244274925734, 28.80474257274261, 28.850751629287277, 28.858451805802005, 28.859582020529057, 28.85188184401433, 28.897890900558995, 28.905591077073723], \"y\": [2.2982660576455487, 2.4375535402455735, 2.4298533637308437, 2.290565881130819, 2.302131263283415, 2.44141874588344, 2.4337185693687102, 2.2944310867686855], \"z\": [9.989313135988008, 9.978496832501664, 9.846583368647398, 9.857399672133743, 10.005528847176524, 9.994712543690179, 9.862799079835915, 9.873615383322258]}, {\"marker\": {\"color\": \"red\", \"opacity\": 1, \"size\": 1}, \"mode\": \"markers\", \"type\": \"scatter3d\", \"x\": [28.855166824908167], \"y\": [2.3659923135071295], \"z\": [9.926056107911961]}, {\"marker\": {\"color\": \"green\", \"opacity\": 1, \"size\": 1}, \"mode\": \"markers\", \"type\": \"scatter3d\", \"x\": [21.778313849613014], \"y\": [-4.920393542195511], \"z\": [0.5417008562282218]}, {\"marker\": {\"color\": \"green\", \"opacity\": 1, \"size\": 1}, \"mode\": \"markers\", \"type\": \"scatter3d\", \"x\": [21.718677560521236], \"y\": [-3.6055291691307136], \"z\": [9.596683429933254]}, {\"marker\": {\"color\": \"green\", \"opacity\": 1, \"size\": 1}, \"mode\": \"markers\", \"type\": \"scatter3d\", \"x\": [33.690163562699645, 33.366284800917995], \"y\": [9.34058620482666, 9.467592260887264], \"z\": [3.913231441364032, 3.853135135936604]}, {\"color\": \"blue\", \"i\": [7, 0, 0, 0, 4, 4, 6, 6, 4, 0, 3, 2], \"j\": [3, 4, 1, 2, 5, 6, 5, 2, 0, 1, 6, 3], \"k\": [0, 7, 2, 3, 6, 7, 1, 1, 5, 5, 7, 6], \"opacity\": 0.5, \"type\": \"mesh3d\", \"x\": [33.376407060650216, 33.31588958203299, 33.36187229959513, 33.42238977821236, 33.69457606402252, 33.634058585405285, 33.68004130296743, 33.74055878158466], \"y\": [9.267342286888093, 9.512112733658444, 9.451595255041214, 9.206824808270863, 9.356583210672708, 9.60135365744306, 9.54083617882583, 9.296065732055478], \"z\": [4.025117366188171, 3.954865845021081, 3.704399405105376, 3.774650926272466, 4.061967172195261, 3.99171565102817, 3.741249211112465, 3.8115007322795553]}, {\"marker\": {\"color\": \"red\", \"opacity\": 1, \"size\": 1}, \"mode\": \"markers\", \"type\": \"scatter3d\", \"x\": [33.528224181808824], \"y\": [9.404089232856961], \"z\": [3.883183288650318]}, {\"marker\": {\"color\": \"green\", \"opacity\": 1, \"size\": 1}, \"mode\": \"markers\", \"type\": \"scatter3d\", \"x\": [26.737716601184786], \"y\": [-2.442792944722849], \"z\": [5.816773112333995]}, {\"marker\": {\"color\": \"green\", \"opacity\": 1, \"size\": 1}, \"mode\": \"markers\", \"type\": \"scatter3d\", \"x\": [32.574967785040066], \"y\": [-3.6145333193333817], \"z\": [2.5929403187924804]}, {\"marker\": {\"color\": \"green\", \"opacity\": 1, \"size\": 1}, \"mode\": \"markers\", \"type\": \"scatter3d\", \"x\": [22.819256111240396], \"y\": [5.819815346012399], \"z\": [-9.936985277677085]}, {\"marker\": {\"color\": \"green\", \"opacity\": 1, \"size\": 1}, \"mode\": \"markers\", \"type\": \"scatter3d\", \"x\": [36.8582654377316], \"y\": [-0.504917165932927], \"z\": [-3.554752387517244]}, {\"marker\": {\"color\": \"green\", \"opacity\": 1, \"size\": 1}, \"mode\": \"markers\", \"type\": \"scatter3d\", \"x\": [28.541352419605623], \"y\": [5.509660836271074], \"z\": [0.06552819385732953]}, {\"marker\": {\"color\": \"green\", \"opacity\": 1, \"size\": 1}, \"mode\": \"markers\", \"type\": \"scatter3d\", \"x\": [39.172136229283275], \"y\": [-8.257757604347342], \"z\": [-8.217615085835375]}, {\"marker\": {\"color\": \"green\", \"opacity\": 1, \"size\": 1}, \"mode\": \"markers\", \"type\": \"scatter3d\", \"x\": [24.55666538050703, 24.767852867267905, 24.371821135657513, 24.8143523137046], \"y\": [-0.4389089343533277, -0.4576847360687648, -0.4778648141624943, -0.4868883610781336], \"z\": [-8.191638103905122, -8.252511100337392, -7.883141759673093, -8.025691307568719]}, {\"color\": \"blue\", \"i\": [7, 0, 0, 0, 4, 4, 6, 6, 4, 0, 3, 2], \"j\": [3, 4, 1, 2, 5, 6, 5, 2, 0, 1, 6, 3], \"k\": [0, 7, 2, 3, 6, 7, 1, 1, 5, 5, 7, 6], \"opacity\": 0.5, \"type\": \"mesh3d\", \"x\": [24.354957247536703, 24.362298216347597, 24.270018684040473, 24.26267771522958, 24.98532716452805, 24.992668133338945, 24.90038860103182, 24.893047632220927], \"y\": [-0.6111009346123871, -0.31500269854895313, -0.3076617297380577, -0.6037599658014917, -0.6230116930933025, -0.3269134570298685, -0.3195724882189731, -0.6156707242824071], \"z\": [-7.846689868822632, -7.84137281965103, -8.12277453309455, -8.128091582266151, -8.053716602647615, -8.048399553476013, -8.329801266919533, -8.335118316091135]}, {\"marker\": {\"color\": \"red\", \"opacity\": 1, \"size\": 1}, \"mode\": \"markers\", \"type\": \"scatter3d\", \"x\": [24.627672924284262], \"y\": [-0.4653367114156801], \"z\": [-8.088245567871082]}, {\"marker\": {\"color\": \"green\", \"opacity\": 1, \"size\": 1}, \"mode\": \"markers\", \"type\": \"scatter3d\", \"x\": [27.804424615423983], \"y\": [6.6343319897844255], \"z\": [7.267148062917575]}, {\"marker\": {\"color\": \"green\", \"opacity\": 1, \"size\": 1}, \"mode\": \"markers\", \"type\": \"scatter3d\", \"x\": [33.54492896888118], \"y\": [-5.997388962840117], \"z\": [-9.822098035321424]}, {\"marker\": {\"color\": \"green\", \"opacity\": 1, \"size\": 1}, \"mode\": \"markers\", \"type\": \"scatter3d\", \"x\": [39.05148019700688], \"y\": [9.761034670060994], \"z\": [2.5910060180472665]}, {\"marker\": {\"color\": \"green\", \"opacity\": 1, \"size\": 1}, \"mode\": \"markers\", \"type\": \"scatter3d\", \"x\": [25.60877519681578], \"y\": [1.8513471194401192], \"z\": [-7.688844493436925]}, {\"marker\": {\"color\": \"green\", \"opacity\": 1, \"size\": 1}, \"mode\": \"markers\", \"type\": \"scatter3d\", \"x\": [37.903226028233405], \"y\": [9.937757638517699], \"z\": [-8.863141734307526]}, {\"marker\": {\"color\": \"green\", \"opacity\": 1, \"size\": 1}, \"mode\": \"markers\", \"type\": \"scatter3d\", \"x\": [24.292862511088416], \"y\": [8.855505087391311], \"z\": [0.09270494332082384]}, {\"marker\": {\"color\": \"green\", \"opacity\": 1, \"size\": 1}, \"mode\": \"markers\", \"type\": \"scatter3d\", \"x\": [36.986339280201605], \"y\": [-3.802324196531713], \"z\": [0.3214655324671025]}, {\"marker\": {\"color\": \"green\", \"opacity\": 1, \"size\": 1}, \"mode\": \"markers\", \"type\": \"scatter3d\", \"x\": [25.812407570105186], \"y\": [9.2978907407467], \"z\": [4.638565576380282]}, {\"marker\": {\"color\": \"green\", \"opacity\": 1, \"size\": 1}, \"mode\": \"markers\", \"type\": \"scatter3d\", \"x\": [28.912108112501677], \"y\": [4.748762178223922], \"z\": [0.4726310495424995]}, {\"marker\": {\"color\": \"green\", \"opacity\": 1, \"size\": 1}, \"mode\": \"markers\", \"type\": \"scatter3d\", \"x\": [24.929994509873662], \"y\": [-9.721743855765544], \"z\": [-7.647027319485832]}, {\"marker\": {\"color\": \"green\", \"opacity\": 1, \"size\": 1}, \"mode\": \"markers\", \"type\": \"scatter3d\", \"x\": [24.31432358703153], \"y\": [5.954074214767402], \"z\": [3.2214113636519968]}, {\"marker\": {\"color\": \"green\", \"opacity\": 1, \"size\": 1}, \"mode\": \"markers\", \"type\": \"scatter3d\", \"x\": [28.17373122758729], \"y\": [9.063042941776573], \"z\": [-3.2702006519669378]}, {\"marker\": {\"color\": \"green\", \"opacity\": 1, \"size\": 1}, \"mode\": \"markers\", \"type\": \"scatter3d\", \"x\": [26.389296693203924], \"y\": [-3.1964934460488754], \"z\": [-0.29770729215974073]}, {\"marker\": {\"color\": \"green\", \"opacity\": 1, \"size\": 1}, \"mode\": \"markers\", \"type\": \"scatter3d\", \"x\": [20.408280290354732], \"y\": [9.638072148319269], \"z\": [2.2002946230686544]}, {\"marker\": {\"color\": \"green\", \"opacity\": 1, \"size\": 1}, \"mode\": \"markers\", \"type\": \"scatter3d\", \"x\": [32.58827682046757], \"y\": [-3.525257896963576], \"z\": [2.1442602086673657]}, {\"marker\": {\"color\": \"green\", \"opacity\": 1, \"size\": 1}, \"mode\": \"markers\", \"type\": \"scatter3d\", \"x\": [26.673017752968978, 26.8605866854552], \"y\": [8.377520247420176, 8.429354572088565], \"z\": [1.090241901705009, 1.114508997848885]}, {\"color\": \"blue\", \"i\": [7, 0, 0, 0, 4, 4, 6, 6, 4, 0, 3, 2], \"j\": [3, 4, 1, 2, 5, 6, 5, 2, 0, 1, 6, 3], \"k\": [0, 7, 2, 3, 6, 7, 1, 1, 5, 5, 7, 6], \"opacity\": 0.5, \"type\": \"mesh3d\", \"x\": [26.65494434552813, 26.636295182314687, 26.644816977944984, 26.663466141158423, 26.888787460479193, 26.870138297265754, 26.878660092896048, 26.89730925610949], \"y\": [8.345020173842057, 8.407088764225191, 8.388439601011749, 8.326371010628614, 8.418435218496993, 8.480503808880128, 8.461854645666685, 8.39978605528355], \"z\": [1.1401024110147755, 1.1197726303462456, 1.0550177935121121, 1.075347574180642, 1.1497331060417817, 1.1294033253732518, 1.0646484885391183, 1.0849782692076482]}, {\"marker\": {\"color\": \"red\", \"opacity\": 1, \"size\": 1}, \"mode\": \"markers\", \"type\": \"scatter3d\", \"x\": [26.76680221921209], \"y\": [8.403437409754371], \"z\": [1.102375449776947]}, {\"marker\": {\"color\": \"green\", \"opacity\": 1, \"size\": 1}, \"mode\": \"markers\", \"type\": \"scatter3d\", \"x\": [31.497072191523642], \"y\": [-5.684316647399671], \"z\": [4.7748018015436084]}, {\"marker\": {\"color\": \"green\", \"opacity\": 1, \"size\": 1}, \"mode\": \"markers\", \"type\": \"scatter3d\", \"x\": [37.84891644887865], \"y\": [-7.574802056378268], \"z\": [-3.060884046658197]}, {\"marker\": {\"color\": \"green\", \"opacity\": 1, \"size\": 1}, \"mode\": \"markers\", \"type\": \"scatter3d\", \"x\": [23.741394844834204], \"y\": [4.873732773753064], \"z\": [5.79287681388275]}, {\"marker\": {\"color\": \"green\", \"opacity\": 1, \"size\": 1}, \"mode\": \"markers\", \"type\": \"scatter3d\", \"x\": [31.166828640812746], \"y\": [4.617903308206588], \"z\": [-2.7560027449979483]}, {\"marker\": {\"color\": \"green\", \"opacity\": 1, \"size\": 1}, \"mode\": \"markers\", \"type\": \"scatter3d\", \"x\": [36.2914284896531], \"y\": [-3.8513123405293483], \"z\": [1.836559707422721]}, {\"marker\": {\"color\": \"green\", \"opacity\": 1, \"size\": 1}, \"mode\": \"markers\", \"type\": \"scatter3d\", \"x\": [31.07185707073609, 31.205658147475482, 31.32950335922557], \"y\": [-9.250439596586824, -9.28866066681509, -9.32413580763472], \"z\": [-6.462553201780303, -6.490649477335197, -6.516115758636652]}, {\"color\": \"blue\", \"i\": [7, 0, 0, 0, 4, 4, 6, 6, 4, 0, 3, 2], \"j\": [3, 4, 1, 2, 5, 6, 5, 2, 0, 1, 6, 3], \"k\": [0, 7, 2, 3, 6, 7, 1, 1, 5, 5, 7, 6], \"opacity\": 0.5, \"type\": \"mesh3d\", \"x\": [31.04269130590453, 31.060003017330278, 31.054802668057896, 31.037490956632148, 31.349876383566865, 31.367188094992613, 31.36198774572023, 31.344676034294483], \"y\": [-9.274585380161124, -9.226779774168985, -9.209468062743241, -9.257273668735378, -9.366022651281181, -9.318217045289044, -9.300905333863298, -9.348710939855437], \"z\": [-6.440346510513547, -6.42552941207831, -6.475307707928613, -6.49012480636385, -6.504237917239487, -6.48942081880425, -6.539199114654553, -6.55401621308979]}, {\"marker\": {\"color\": \"red\", \"opacity\": 1, \"size\": 1}, \"mode\": \"markers\", \"type\": \"scatter3d\", \"x\": [31.20233952581238], \"y\": [-9.287745357012211], \"z\": [-6.48977281258405]}, {\"marker\": {\"color\": \"green\", \"opacity\": 1, \"size\": 1}, \"mode\": \"markers\", \"type\": \"scatter3d\", \"x\": [24.547571085594303, 24.431953782239862], \"y\": [-5.432930396379629, -5.416935886220882], \"z\": [-8.382091060016904, -8.352006885136861]}, {\"color\": \"blue\", \"i\": [7, 0, 0, 0, 4, 4, 6, 6, 4, 0, 3, 2], \"j\": [3, 4, 1, 2, 5, 6, 5, 2, 0, 1, 6, 3], \"k\": [0, 7, 2, 3, 6, 7, 1, 1, 5, 5, 7, 6], \"opacity\": 0.5, \"type\": \"mesh3d\", \"x\": [24.410370551095735, 24.42774812831057, 24.41181592477143, 24.3944383475566, 24.567708943062733, 24.585086520277564, 24.56915431673843, 24.551776739523596], \"y\": [-5.4455282038226125, -5.386862306178342, -5.369484728963509, -5.428150626607779, -5.480381553637003, -5.421715655992734, -5.4043380787779, -5.46300397642217], \"z\": [-8.317634397820555, -8.30480858962635, -8.362708104241156, -8.37553391243536, -8.371389840912608, -8.358564032718403, -8.416463547333208, -8.429289355527413]}, {\"marker\": {\"color\": \"red\", \"opacity\": 1, \"size\": 1}, \"mode\": \"markers\", \"type\": \"scatter3d\", \"x\": [24.489762433917083], \"y\": [-5.424933141300256], \"z\": [-8.367048972576882]}, {\"marker\": {\"color\": \"green\", \"opacity\": 1, \"size\": 1}, \"mode\": \"markers\", \"type\": \"scatter3d\", \"x\": [26.75529286295061], \"y\": [9.410050694657444], \"z\": [4.642799340259384]}, {\"marker\": {\"color\": \"green\", \"opacity\": 1, \"size\": 1}, \"mode\": \"markers\", \"type\": \"scatter3d\", \"x\": [26.582629724843358], \"y\": [8.587995984123001], \"z\": [-0.13296243880302652]}, {\"marker\": {\"color\": \"green\", \"opacity\": 1, \"size\": 1}, \"mode\": \"markers\", \"type\": \"scatter3d\", \"x\": [20.383962156169922, 20.14652525809839], \"y\": [2.491131491414392, 2.4611162568726965], \"z\": [-1.247551216562616, -1.2377004635128996]}, {\"color\": \"blue\", \"i\": [7, 0, 0, 0, 4, 4, 6, 6, 4, 0, 3, 2], \"j\": [3, 4, 1, 2, 5, 6, 5, 2, 0, 1, 6, 3], \"k\": [0, 7, 2, 3, 6, 7, 1, 1, 5, 5, 7, 6], \"opacity\": 0.5, \"type\": \"mesh3d\", \"x\": [20.126574286487013, 20.11957473669375, 20.11710002352252, 20.124099573315785, 20.413387390745786, 20.406387840952522, 20.403913127781294, 20.410912677574558], \"y\": [2.4351233212927346, 2.4890795043334175, 2.4820799545401515, 2.4281237714994686, 2.4701677937469375, 2.5241239767876205, 2.5171244269943545, 2.4631682439536715], \"z\": [-1.203361544931642, -1.2099970011972312, -1.2643033061985143, -1.2576678499329248, -1.2209483738770015, -1.227583830142591, -1.2818901351438738, -1.2752546788782846]}, {\"marker\": {\"color\": \"red\", \"opacity\": 1, \"size\": 1}, \"mode\": \"markers\", \"type\": \"scatter3d\", \"x\": [20.265243707134154], \"y\": [2.4761238741435445], \"z\": [-1.242625840037758]}, {\"marker\": {\"color\": \"green\", \"opacity\": 1, \"size\": 1}, \"mode\": \"markers\", \"type\": \"scatter3d\", \"x\": [30.806104576532753], \"y\": [3.652727842126926], \"z\": [-6.358743965622463]}, {\"marker\": {\"color\": \"green\", \"opacity\": 1, \"size\": 1}, \"mode\": \"markers\", \"type\": \"scatter3d\", \"x\": [29.0862500842835], \"y\": [-8.043419238199753], \"z\": [-7.6970210960399825]}, {\"marker\": {\"color\": \"green\", \"opacity\": 1, \"size\": 1}, \"mode\": \"markers\", \"type\": \"scatter3d\", \"x\": [32.74970976387168], \"y\": [-5.567541630929265], \"z\": [-8.174902709273152]}, {\"marker\": {\"color\": \"green\", \"opacity\": 1, \"size\": 1}, \"mode\": \"markers\", \"type\": \"scatter3d\", \"x\": [21.555987123013935], \"y\": [-8.355391297717901], \"z\": [-2.0252055188115943]}, {\"marker\": {\"color\": \"green\", \"opacity\": 1, \"size\": 1}, \"mode\": \"markers\", \"type\": \"scatter3d\", \"x\": [25.048221064762586], \"y\": [-0.35286273649079697], \"z\": [-7.573134616655705]}, {\"marker\": {\"color\": \"green\", \"opacity\": 1, \"size\": 1}, \"mode\": \"markers\", \"type\": \"scatter3d\", \"x\": [25.638069437592524], \"y\": [6.0227348136527965], \"z\": [-0.5581153273810613]}, {\"marker\": {\"color\": \"green\", \"opacity\": 1, \"size\": 1}, \"mode\": \"markers\", \"type\": \"scatter3d\", \"x\": [25.40986184153397], \"y\": [-0.3608189775934297], \"z\": [-7.677351946874099]}, {\"marker\": {\"color\": \"green\", \"opacity\": 1, \"size\": 1}, \"mode\": \"markers\", \"type\": \"scatter3d\", \"x\": [22.115650720279643], \"y\": [-9.422567766968072], \"z\": [4.1207276737812535]}, {\"marker\": {\"color\": \"green\", \"opacity\": 1, \"size\": 1}, \"mode\": \"markers\", \"type\": \"scatter3d\", \"x\": [27.24944838088628], \"y\": [-9.341095383260024], \"z\": [-2.70380860570872]}, {\"marker\": {\"color\": \"green\", \"opacity\": 1, \"size\": 1}, \"mode\": \"markers\", \"type\": \"scatter3d\", \"x\": [36.557522139466336], \"y\": [-0.5119635689879064], \"z\": [-0.8643113349330375]}, {\"marker\": {\"color\": \"green\", \"opacity\": 1, \"size\": 1}, \"mode\": \"markers\", \"type\": \"scatter3d\", \"x\": [25.533269229532053], \"y\": [-2.2454182695852616], \"z\": [5.585255546854556]}, {\"marker\": {\"color\": \"green\", \"opacity\": 1, \"size\": 1}, \"mode\": \"markers\", \"type\": \"scatter3d\", \"x\": [31.37496476064545], \"y\": [4.351176635242891], \"z\": [-5.112930179580375]}, {\"marker\": {\"color\": \"green\", \"opacity\": 1, \"size\": 1}, \"mode\": \"markers\", \"type\": \"scatter3d\", \"x\": [20.881652392271462], \"y\": [9.838804560527912], \"z\": [0.3859888184000818]}, {\"marker\": {\"color\": \"green\", \"opacity\": 1, \"size\": 1}, \"mode\": \"markers\", \"type\": \"scatter3d\", \"x\": [24.3565224674004], \"y\": [3.7248685840451152], \"z\": [3.636934539797567]}, {\"marker\": {\"color\": \"green\", \"opacity\": 1, \"size\": 1}, \"mode\": \"markers\", \"type\": \"scatter3d\", \"x\": [27.085361565171734], \"y\": [-7.002754612471048], \"z\": [-8.003417958600991]}, {\"marker\": {\"color\": \"green\", \"opacity\": 1, \"size\": 1}, \"mode\": \"markers\", \"type\": \"scatter3d\", \"x\": [27.87075340008072], \"y\": [-2.3819165309337538], \"z\": [-0.6073940252585476]}, {\"marker\": {\"color\": \"green\", \"opacity\": 1, \"size\": 1}, \"mode\": \"markers\", \"type\": \"scatter3d\", \"x\": [37.96509672610664], \"y\": [-5.3975548093785815], \"z\": [-0.059744463286756436]}, {\"marker\": {\"color\": \"green\", \"opacity\": 1, \"size\": 1}, \"mode\": \"markers\", \"type\": \"scatter3d\", \"x\": [35.91358202565472], \"y\": [6.968017593428723], \"z\": [0.004317453349332381]}, {\"marker\": {\"color\": \"green\", \"opacity\": 1, \"size\": 1}, \"mode\": \"markers\", \"type\": \"scatter3d\", \"x\": [28.645965469458147], \"y\": [-9.989092971718533], \"z\": [0.27565156272578584]}, {\"marker\": {\"color\": \"green\", \"opacity\": 1, \"size\": 1}, \"mode\": \"markers\", \"type\": \"scatter3d\", \"x\": [34.08754383060173], \"y\": [-4.328011438970935], \"z\": [1.3383273368692838]}, {\"marker\": {\"color\": \"green\", \"opacity\": 1, \"size\": 1}, \"mode\": \"markers\", \"type\": \"scatter3d\", \"x\": [20.339302289667227], \"y\": [8.378998997046697], \"z\": [8.313910901676545]}, {\"marker\": {\"color\": \"green\", \"opacity\": 1, \"size\": 1}, \"mode\": \"markers\", \"type\": \"scatter3d\", \"x\": [39.28183378483215, 39.07451596734309], \"y\": [-3.886158573387192, -3.9723233004629335], \"z\": [-0.26970428655303946, -0.4273642168317549]}, {\"color\": \"blue\", \"i\": [7, 0, 0, 0, 4, 4, 6, 6, 4, 0, 3, 2], \"j\": [3, 4, 1, 2, 5, 6, 5, 2, 0, 1, 6, 3], \"k\": [0, 7, 2, 3, 6, 7, 1, 1, 5, 5, 7, 6], \"opacity\": 0.5, \"type\": \"mesh3d\", \"x\": [39.043405330958635, 39.06761330176313, 39.06790209111795, 39.04369412031345, 39.2884476610573, 39.3126556318618, 39.31294442121661, 39.28873645041212], \"y\": [-4.048675504247685, -3.809438658723237, -3.7852306879187383, -4.024467533443186, -4.073251185931388, -3.8340143404069402, -3.809806369602441, -4.049043215126889], \"z\": [-0.23927729470206716, -0.21516228598316048, -0.45561127954044267, -0.4797262882593494, -0.24145722384435162, -0.2173422151254449, -0.45779120868272716, -0.48190621740163386]}, {\"marker\": {\"color\": \"red\", \"opacity\": 1, \"size\": 1}, \"mode\": \"markers\", \"type\": \"scatter3d\", \"x\": [39.178174876087624], \"y\": [-3.929240936925063], \"z\": [-0.34853425169239716]}, {\"marker\": {\"color\": \"green\", \"opacity\": 1, \"size\": 1}, \"mode\": \"markers\", \"type\": \"scatter3d\", \"x\": [21.26585444783312], \"y\": [0.23658178611638714], \"z\": [1.0135525214273693]}, {\"marker\": {\"color\": \"green\", \"opacity\": 1, \"size\": 1}, \"mode\": \"markers\", \"type\": \"scatter3d\", \"x\": [23.95991730173821], \"y\": [-7.329415270772658], \"z\": [-2.41242436764741]}, {\"marker\": {\"color\": \"green\", \"opacity\": 1, \"size\": 1}, \"mode\": \"markers\", \"type\": \"scatter3d\", \"x\": [23.43151285784155], \"y\": [-9.358125232036977], \"z\": [1.0245562178242391]}, {\"marker\": {\"color\": \"green\", \"opacity\": 1, \"size\": 1}, \"mode\": \"markers\", \"type\": \"scatter3d\", \"x\": [24.85936482930436], \"y\": [-7.50892843448396], \"z\": [0.4617465710473502]}, {\"marker\": {\"color\": \"green\", \"opacity\": 1, \"size\": 1}, \"mode\": \"markers\", \"type\": \"scatter3d\", \"x\": [24.955451729407702, 25.17206532361993, 25.450599397469464], \"y\": [-2.6889135832881026, -2.60747801526376, -2.7358586276632404], \"z\": [7.5255572307876655, 7.867629100115111, 7.682006449371376]}, {\"color\": \"blue\", \"i\": [7, 0, 0, 0, 4, 4, 6, 6, 4, 0, 3, 2], \"j\": [3, 4, 1, 2, 5, 6, 5, 2, 0, 1, 6, 3], \"k\": [0, 7, 2, 3, 6, 7, 1, 1, 5, 5, 7, 6], \"opacity\": 0.5, \"type\": \"mesh3d\", \"x\": [24.82952139492774, 24.861410295654498, 24.98904897158772, 24.95716007086096, 25.396361995410338, 25.428250896137097, 25.55588957207032, 25.52400067134356], \"y\": [-2.8753914468263653, -2.4510885589625913, -2.4191996582358324, -2.8435025460996064, -2.9356338259075696, -2.5113309380437956, -2.4794420373170367, -2.9037449251808107], \"z\": [7.787050389380015, 7.830300468541882, 7.423346075024549, 7.380095995862682, 7.960115778491552, 8.003365857653419, 7.596411464136086, 7.553161384974219]}, {\"marker\": {\"color\": \"red\", \"opacity\": 1, \"size\": 1}, \"mode\": \"markers\", \"type\": \"scatter3d\", \"x\": [25.19270548349903], \"y\": [-2.677416742071701], \"z\": [7.6917309267580505]}, {\"marker\": {\"color\": \"green\", \"opacity\": 1, \"size\": 1}, \"mode\": \"markers\", \"type\": \"scatter3d\", \"x\": [34.8163972832554], \"y\": [-4.4980384913894085], \"z\": [-0.22700457539877816]}, {\"marker\": {\"color\": \"green\", \"opacity\": 1, \"size\": 1}, \"mode\": \"markers\", \"type\": \"scatter3d\", \"x\": [23.4398510392909], \"y\": [-8.929319475210926], \"z\": [1.2736120186634463]}, {\"marker\": {\"color\": \"green\", \"opacity\": 1, \"size\": 1}, \"mode\": \"markers\", \"type\": \"scatter3d\", \"x\": [33.862590044176486], \"y\": [-7.921316519165182], \"z\": [-8.092731172369362]}, {\"marker\": {\"color\": \"green\", \"opacity\": 1, \"size\": 1}, \"mode\": \"markers\", \"type\": \"scatter3d\", \"x\": [22.976334099503145, 22.767878029333783, 23.009468390368646], \"y\": [4.176456025758345, 4.0743728643722354, 4.1831465569964905], \"z\": [5.626457137921111, 5.71230165750934, 5.640160629920317]}, {\"color\": \"blue\", \"i\": [7, 0, 0, 0, 4, 4, 6, 6, 4, 0, 3, 2], \"j\": [3, 4, 1, 2, 5, 6, 5, 2, 0, 1, 6, 3], \"k\": [0, 7, 2, 3, 6, 7, 1, 1, 5, 5, 7, 6], \"opacity\": 0.5, \"type\": \"mesh3d\", \"x\": [22.74144981137478, 22.708382625367246, 22.772735742851395, 22.805802928858927, 23.063051269952318, 23.029984083944786, 23.094337201428935, 23.127404387436467], \"y\": [4.011502552763977, 4.252720571421292, 4.219653385413759, 3.9784353667564445, 4.069663579337622, 4.310881597994936, 4.2778144119874035, 4.036596393330089], \"z\": [5.759489878794772, 5.716742271554528, 5.480369331648545, 5.523116938888789, 5.838910285251966, 5.796162678011722, 5.559789738105739, 5.602537345345983]}, {\"marker\": {\"color\": \"red\", \"opacity\": 1, \"size\": 1}, \"mode\": \"markers\", \"type\": \"scatter3d\", \"x\": [22.917893506401857], \"y\": [4.14465848237569], \"z\": [5.6596398084502555]}, {\"marker\": {\"color\": \"green\", \"opacity\": 1, \"size\": 1}, \"mode\": \"markers\", \"type\": \"scatter3d\", \"x\": [30.01982449715828], \"y\": [4.404468560548575], \"z\": [0.5976393464808706]}, {\"marker\": {\"color\": \"green\", \"opacity\": 1, \"size\": 1}, \"mode\": \"markers\", \"type\": \"scatter3d\", \"x\": [21.113189605654494], \"y\": [1.1454722468664045], \"z\": [0.1139313267961634]}, {\"marker\": {\"color\": \"green\", \"opacity\": 1, \"size\": 1}, \"mode\": \"markers\", \"type\": \"scatter3d\", \"x\": [28.787536576934862], \"y\": [-8.829098944378703], \"z\": [-0.14607623494775632]}, {\"marker\": {\"color\": \"green\", \"opacity\": 1, \"size\": 1}, \"mode\": \"markers\", \"type\": \"scatter3d\", \"x\": [23.425449908131853], \"y\": [-9.810630263434923], \"z\": [-0.16669729059534755]}, {\"marker\": {\"color\": \"green\", \"opacity\": 1, \"size\": 1}, \"mode\": \"markers\", \"type\": \"scatter3d\", \"x\": [22.869687156988462], \"y\": [-7.786003066439335], \"z\": [0.4549481100797004]}, {\"marker\": {\"color\": \"green\", \"opacity\": 1, \"size\": 1}, \"mode\": \"markers\", \"type\": \"scatter3d\", \"x\": [36.52463179409988], \"y\": [-0.37728458539791054], \"z\": [-0.3449415785962261]}, {\"marker\": {\"color\": \"green\", \"opacity\": 1, \"size\": 1}, \"mode\": \"markers\", \"type\": \"scatter3d\", \"x\": [25.294790854173108], \"y\": [9.993151279058123], \"z\": [2.9075967370647]}, {\"marker\": {\"color\": \"green\", \"opacity\": 1, \"size\": 1}, \"mode\": \"markers\", \"type\": \"scatter3d\", \"x\": [35.961733376000616], \"y\": [-2.9471523968724718], \"z\": [-6.0916146286229065]}, {\"marker\": {\"color\": \"green\", \"opacity\": 1, \"size\": 1}, \"mode\": \"markers\", \"type\": \"scatter3d\", \"x\": [37.64578231582888], \"y\": [-4.783467585799653], \"z\": [0.08743954234722587]}, {\"marker\": {\"color\": \"green\", \"opacity\": 1, \"size\": 1}, \"mode\": \"markers\", \"type\": \"scatter3d\", \"x\": [22.5395263654666, 22.817403049975816], \"y\": [-3.92339895780844, -3.829556094639908], \"z\": [-7.0932679735415265, -7.2667165212107285]}, {\"color\": \"blue\", \"i\": [7, 0, 0, 0, 4, 4, 6, 6, 4, 0, 3, 2], \"j\": [3, 4, 1, 2, 5, 6, 5, 2, 0, 1, 6, 3], \"k\": [0, 7, 2, 3, 6, 7, 1, 1, 5, 5, 7, 6], \"opacity\": 0.5, \"type\": \"mesh3d\", \"x\": [22.5196134743189, 22.56599080143496, 22.509823336549577, 22.46344600943351, 22.84710607889284, 22.893483406008905, 22.837315941123517, 22.790938614007455], \"y\": [-3.9752893611414692, -3.768064020814552, -3.721686693698488, -3.928912034025405, -4.03126835874986, -3.824043018422943, -3.7776656913068787, -3.9848910316337958], \"z\": [-7.044228814835785, -7.00962401401731, -7.212071661081043, -7.2466764618995185, -7.147912833671211, -7.113308032852736, -7.315755679916469, -7.3503604807349445]}, {\"marker\": {\"color\": \"red\", \"opacity\": 1, \"size\": 1}, \"mode\": \"markers\", \"type\": \"scatter3d\", \"x\": [22.678464707721208], \"y\": [-3.876477526224174], \"z\": [-7.179992247376127]}, {\"marker\": {\"color\": \"green\", \"opacity\": 1, \"size\": 1}, \"mode\": \"markers\", \"type\": \"scatter3d\", \"x\": [38.648896866089004, 38.70268049254201], \"y\": [-4.1200737302376265, -4.12471591882254], \"z\": [-0.8322684128564273, -0.8140713551568234]}, {\"color\": \"blue\", \"i\": [7, 0, 0, 0, 4, 4, 6, 6, 4, 0, 3, 2], \"j\": [3, 4, 1, 2, 5, 6, 5, 2, 0, 1, 6, 3], \"k\": [0, 7, 2, 3, 6, 7, 1, 1, 5, 5, 7, 6], \"opacity\": 0.5, \"type\": \"mesh3d\", \"x\": [38.62090753393822, 38.62837271681852, 38.62770070110852, 38.62023551822823, 38.72387665752248, 38.73134184040278, 38.73066982469278, 38.72320464181249], \"y\": [-4.154924596287159, -4.086354909832028, -4.0788897269517355, -4.1474594134068665, -4.165899922108431, -4.0973302356533, -4.089865052773008, -4.158434739228138], \"z\": [-0.7912696058914908, -0.7839193431013887, -0.8528785822106189, -0.8602288450007209, -0.7934611858026317, -0.7861109230125296, -0.8550701621217598, -0.8624204249118619]}, {\"marker\": {\"color\": \"red\", \"opacity\": 1, \"size\": 1}, \"mode\": \"markers\", \"type\": \"scatter3d\", \"x\": [38.6757886793155], \"y\": [-4.122394824530083], \"z\": [-0.8231698840066253]}, {\"marker\": {\"color\": \"green\", \"opacity\": 1, \"size\": 1}, \"mode\": \"markers\", \"type\": \"scatter3d\", \"x\": [29.05276630684753], \"y\": [-6.226946672826097], \"z\": [8.226352314892138]}, {\"marker\": {\"color\": \"green\", \"opacity\": 1, \"size\": 1}, \"mode\": \"markers\", \"type\": \"scatter3d\", \"x\": [29.154386155132197, 29.233787824809514], \"y\": [4.273863728929645, 4.286672457540587], \"z\": [0.5697068242642042, 0.5783033811955984]}, {\"color\": \"blue\", \"i\": [7, 0, 0, 0, 4, 4, 6, 6, 4, 0, 3, 2], \"j\": [3, 4, 1, 2, 5, 6, 5, 2, 0, 1, 6, 3], \"k\": [0, 7, 2, 3, 6, 7, 1, 1, 5, 5, 7, 6], \"opacity\": 0.5, \"type\": \"mesh3d\", \"x\": [29.13237875876148, 29.124339140568903, 29.126628946092048, 29.134668564284624, 29.261545033849664, 29.253505415657088, 29.255795221180232, 29.26383483937281], \"y\": [4.246845959970105, 4.302792232902619, 4.2947526147100445, 4.238806341777529, 4.2657835717601875, 4.321729844692703, 4.313690226500127, 4.257743953567613], \"z\": [0.6051329056684012, 0.5968477282968881, 0.5403376724680089, 0.5486228498395219, 0.6076725329917938, 0.5993873556202808, 0.5428772997914015, 0.5511624771629146]}, {\"marker\": {\"color\": \"red\", \"opacity\": 1, \"size\": 1}, \"mode\": \"markers\", \"type\": \"scatter3d\", \"x\": [29.194086989970856], \"y\": [4.280268093235116], \"z\": [0.5740051027299014]}, {\"marker\": {\"color\": \"green\", \"opacity\": 1, \"size\": 1}, \"mode\": \"markers\", \"type\": \"scatter3d\", \"x\": [20.713666824477574, 20.49177056324244], \"y\": [4.814990645356732, 4.75794902541571], \"z\": [1.4665958560532404, 1.4589591549775092]}, {\"color\": \"blue\", \"i\": [7, 0, 0, 0, 4, 4, 6, 6, 4, 0, 3, 2], \"j\": [3, 4, 1, 2, 5, 6, 5, 2, 0, 1, 6, 3], \"k\": [0, 7, 2, 3, 6, 7, 1, 1, 5, 5, 7, 6], \"opacity\": 0.5, \"type\": \"mesh3d\", \"x\": [20.469793580484787, 20.457526416408086, 20.464500485743294, 20.47676764981999, 20.740936901976717, 20.72866973790002, 20.735643807235224, 20.747910971311924], \"y\": [4.732643855029867, 4.789570354978244, 4.777303190901546, 4.720376690953169, 4.795636479870896, 4.852562979819273, 4.840295815742575, 4.783369315794198], \"z\": [1.4889429796242146, 1.475448074131775, 1.4173610598555173, 1.430855965347957, 1.5081939511752325, 1.4946990456827929, 1.4366120314065352, 1.4501069368989747]}, {\"marker\": {\"color\": \"red\", \"opacity\": 1, \"size\": 1}, \"mode\": \"markers\", \"type\": \"scatter3d\", \"x\": [20.602718693860005], \"y\": [4.786469835386221], \"z\": [1.4627775055153749]}, {\"marker\": {\"color\": \"green\", \"opacity\": 1, \"size\": 1}, \"mode\": \"markers\", \"type\": \"scatter3d\", \"x\": [29.770102185210906], \"y\": [-1.9764462934177611], \"z\": [1.1016480930660495]}, {\"marker\": {\"color\": \"green\", \"opacity\": 1, \"size\": 1}, \"mode\": \"markers\", \"type\": \"scatter3d\", \"x\": [22.20357140484932], \"y\": [-1.8894164488265281], \"z\": [8.528940302403512]}, {\"marker\": {\"color\": \"green\", \"opacity\": 1, \"size\": 1}, \"mode\": \"markers\", \"type\": \"scatter3d\", \"x\": [29.26946038040433], \"y\": [9.041859582898141], \"z\": [-0.8741597427445496]}, {\"marker\": {\"color\": \"green\", \"opacity\": 1, \"size\": 1}, \"mode\": \"markers\", \"type\": \"scatter3d\", \"x\": [37.65099947471792, 37.509731989567754], \"y\": [-4.403196237697417, -4.399279335328656], \"z\": [0.07215930412444536, -0.043808962738998286]}, {\"color\": \"blue\", \"i\": [7, 0, 0, 0, 4, 4, 6, 6, 4, 0, 3, 2], \"j\": [3, 4, 1, 2, 5, 6, 5, 2, 0, 1, 6, 3], \"k\": [0, 7, 2, 3, 6, 7, 1, 1, 5, 5, 7, 6], \"opacity\": 0.5, \"type\": \"mesh3d\", \"x\": [37.47483211465589, 37.49407140749684, 37.496387035391166, 37.477147742550216, 37.66434442889451, 37.68358372173546, 37.685899349629786, 37.666660056788835], \"y\": [-4.481929456273532, -4.317590608074486, -4.298351315233536, -4.4626901634325815, -4.504124257792536, -4.339785409593491, -4.32054611675254, -4.484884964951586], \"z\": [0.08718099871956192, 0.10655904367747634, -0.05890214065659901, -0.07828018561451344, 0.08725248204204608, 0.10663052699996053, -0.058830657334114835, -0.07820870229202928]}, {\"marker\": {\"color\": \"red\", \"opacity\": 1, \"size\": 1}, \"mode\": \"markers\", \"type\": \"scatter3d\", \"x\": [37.58036573214284], \"y\": [-4.401237786513036], \"z\": [0.014175170692723539]}, {\"marker\": {\"color\": \"green\", \"opacity\": 1, \"size\": 1}, \"mode\": \"markers\", \"type\": \"scatter3d\", \"x\": [37.420282187642705], \"y\": [-3.8465192297290565], \"z\": [-0.19517747455729]}, {\"marker\": {\"color\": \"green\", \"opacity\": 1, \"size\": 1}, \"mode\": \"markers\", \"type\": \"scatter3d\", \"x\": [29.74162567813204], \"y\": [4.889013889800916], \"z\": [0.3570625981503179]}, {\"marker\": {\"color\": \"green\", \"opacity\": 1, \"size\": 1}, \"mode\": \"markers\", \"type\": \"scatter3d\", \"x\": [28.81558113121933], \"y\": [6.9300632848271215], \"z\": [-3.4675828406930096]}, {\"marker\": {\"color\": \"green\", \"opacity\": 1, \"size\": 1}, \"mode\": \"markers\", \"type\": \"scatter3d\", \"x\": [31.739296437733646], \"y\": [3.7729778285866566], \"z\": [-6.010866584390107]}, {\"marker\": {\"color\": \"green\", \"opacity\": 1, \"size\": 1}, \"mode\": \"markers\", \"type\": \"scatter3d\", \"x\": [20.148174526201366], \"y\": [-5.695332122427598], \"z\": [-2.417742249447893]}, {\"marker\": {\"color\": \"green\", \"opacity\": 1, \"size\": 1}, \"mode\": \"markers\", \"type\": \"scatter3d\", \"x\": [31.39004623473154], \"y\": [-7.330390765958871], \"z\": [-2.9402734134144826]}, {\"marker\": {\"color\": \"green\", \"opacity\": 1, \"size\": 1}, \"mode\": \"markers\", \"type\": \"scatter3d\", \"x\": [37.28158632256293], \"y\": [-4.383740078551969], \"z\": [0.8466370935957908]}, {\"marker\": {\"color\": \"green\", \"opacity\": 1, \"size\": 1}, \"mode\": \"markers\", \"type\": \"scatter3d\", \"x\": [27.419328798423262], \"y\": [-2.357218181474822], \"z\": [-0.5984805437717251]}, {\"marker\": {\"color\": \"green\", \"opacity\": 1, \"size\": 1}, \"mode\": \"markers\", \"type\": \"scatter3d\", \"x\": [25.24193986251653], \"y\": [7.394392759287752], \"z\": [2.02769304544247]}, {\"marker\": {\"color\": \"green\", \"opacity\": 1, \"size\": 1}, \"mode\": \"markers\", \"type\": \"scatter3d\", \"x\": [30.869866698294416], \"y\": [-2.13490428921896], \"z\": [3.344950290066313]}, {\"marker\": {\"color\": \"green\", \"opacity\": 1, \"size\": 1}, \"mode\": \"markers\", \"type\": \"scatter3d\", \"x\": [30.85580835839025], \"y\": [-4.4879314875516005], \"z\": [0.2907951014826019]}, {\"marker\": {\"color\": \"green\", \"opacity\": 1, \"size\": 1}, \"mode\": \"markers\", \"type\": \"scatter3d\", \"x\": [28.28140547240446], \"y\": [6.982535751206008], \"z\": [-0.6238963467034291]}, {\"marker\": {\"color\": \"green\", \"opacity\": 1, \"size\": 1}, \"mode\": \"markers\", \"type\": \"scatter3d\", \"x\": [24.05136935054271, 23.84618849075895, 23.685081049142926], \"y\": [1.4685971555322384, 1.4598144066247, 1.6864351613726214], \"z\": [-5.553278028491524, -5.499713069757124, -5.227283800145672]}, {\"color\": \"blue\", \"i\": [7, 0, 0, 0, 4, 4, 6, 6, 4, 0, 3, 2], \"j\": [3, 4, 1, 2, 5, 6, 5, 2, 0, 1, 6, 3], \"k\": [0, 7, 2, 3, 6, 7, 1, 1, 5, 5, 7, 6], \"opacity\": 0.5, \"type\": \"mesh3d\", \"x\": [23.706560705773136, 23.667491308160603, 23.55972908520123, 23.598798482813763, 24.162030175095158, 24.122960777482625, 24.015198554523252, 24.054267952135785], \"y\": [1.2952655185825575, 1.7910047919372802, 1.7519353943247484, 1.2561961209700256, 1.3246290880282916, 1.8203683613830144, 1.7812989637704826, 1.2855596904157598], \"z\": [-5.11688670543598, -5.148147223011718, -5.633040974681324, -5.601780457105586, -5.220475624248222, -5.251736141823961, -5.736629893493567, -5.705369375917829]}, {\"marker\": {\"color\": \"red\", \"opacity\": 1, \"size\": 1}, \"mode\": \"markers\", \"type\": \"scatter3d\", \"x\": [23.860879630148194], \"y\": [1.53828224117652], \"z\": [-5.426758299464773]}, {\"marker\": {\"color\": \"green\", \"opacity\": 1, \"size\": 1}, \"mode\": \"markers\", \"type\": \"scatter3d\", \"x\": [23.417849036956508], \"y\": [-1.6281260540990412], \"z\": [-4.1633669850502875]}, {\"marker\": {\"color\": \"green\", \"opacity\": 1, \"size\": 1}, \"mode\": \"markers\", \"type\": \"scatter3d\", \"x\": [38.27639104008001], \"y\": [-7.687388086015053], \"z\": [-3.071435888750204]}, {\"marker\": {\"color\": \"green\", \"opacity\": 1, \"size\": 1}, \"mode\": \"markers\", \"type\": \"scatter3d\", \"x\": [24.00659968354401], \"y\": [8.332066425897242], \"z\": [0.755865419949652]}, {\"marker\": {\"color\": \"green\", \"opacity\": 1, \"size\": 1}, \"mode\": \"markers\", \"type\": \"scatter3d\", \"x\": [28.20293369764772], \"y\": [-8.191957836106353], \"z\": [-5.727870757348169]}, {\"marker\": {\"color\": \"green\", \"opacity\": 1, \"size\": 1}, \"mode\": \"markers\", \"type\": \"scatter3d\", \"x\": [21.451923884529915], \"y\": [8.62269632807702], \"z\": [2.5633656951360297]}, {\"marker\": {\"color\": \"green\", \"opacity\": 1, \"size\": 1}, \"mode\": \"markers\", \"type\": \"scatter3d\", \"x\": [26.964609778142805], \"y\": [5.433464749544102], \"z\": [-0.5088431776763986]}, {\"marker\": {\"color\": \"green\", \"opacity\": 1, \"size\": 1}, \"mode\": \"markers\", \"type\": \"scatter3d\", \"x\": [28.753796779176437], \"y\": [-2.2253586887961494], \"z\": [4.017992579413083]}, {\"marker\": {\"color\": \"green\", \"opacity\": 1, \"size\": 1}, \"mode\": \"markers\", \"type\": \"scatter3d\", \"x\": [21.688851614929074], \"y\": [4.9629892733875876], \"z\": [0.4769251722623003]}, {\"marker\": {\"color\": \"green\", \"opacity\": 1, \"size\": 1}, \"mode\": \"markers\", \"type\": \"scatter3d\", \"x\": [20.338917682403988], \"y\": [3.718954559263808], \"z\": [7.956725788625766]}, {\"marker\": {\"color\": \"green\", \"opacity\": 1, \"size\": 1}, \"mode\": \"markers\", \"type\": \"scatter3d\", \"x\": [27.719724259748425, 28.00812614002035], \"y\": [1.7311015280127986, 1.6694929499378508], \"z\": [-7.886283065049289, -7.873338425678981]}, {\"color\": \"blue\", \"i\": [7, 0, 0, 0, 4, 4, 6, 6, 4, 0, 3, 2], \"j\": [3, 4, 1, 2, 5, 6, 5, 2, 0, 1, 6, 3], \"k\": [0, 7, 2, 3, 6, 7, 1, 1, 5, 5, 7, 6], \"opacity\": 0.5, \"type\": \"mesh3d\", \"x\": [27.739448703210645, 27.72634282386891, 27.681090662162138, 27.69419654150387, 28.04675973760664, 28.033653858264906, 27.98840169655813, 28.001507575899865], \"y\": [1.613112375056192, 1.781835415986395, 1.768729536644663, 1.60000649571446, 1.6318649413059867, 1.8005879822361897, 1.7874821028944576, 1.6187590619642547], \"z\": [-7.749966607562643, -7.759903638227708, -7.922748506062213, -7.912811475397148, -7.8368729846660585, -7.8468100153311235, -8.009654883165627, -7.999717852500564]}, {\"marker\": {\"color\": \"red\", \"opacity\": 1, \"size\": 1}, \"mode\": \"markers\", \"type\": \"scatter3d\", \"x\": [27.863925199884388], \"y\": [1.7002972389753248], \"z\": [-7.879810745364136]}, {\"marker\": {\"color\": \"green\", \"opacity\": 1, \"size\": 1}, \"mode\": \"markers\", \"type\": \"scatter3d\", \"x\": [38.66881260665229], \"y\": [-7.577357624377445], \"z\": [-3.5728257191362065]}, {\"marker\": {\"color\": \"green\", \"opacity\": 1, \"size\": 1}, \"mode\": \"markers\", \"type\": \"scatter3d\", \"x\": [21.939355453052297], \"y\": [0.5005556180932194], \"z\": [-0.8127583564548904]}, {\"marker\": {\"color\": \"green\", \"opacity\": 1, \"size\": 1}, \"mode\": \"markers\", \"type\": \"scatter3d\", \"x\": [37.92964858309158], \"y\": [9.438336843051149], \"z\": [4.123466871605537]}, {\"marker\": {\"color\": \"green\", \"opacity\": 1, \"size\": 1}, \"mode\": \"markers\", \"type\": \"scatter3d\", \"x\": [23.20772937906395], \"y\": [6.6566582796979015], \"z\": [-1.2449999544342392]}, {\"marker\": {\"color\": \"green\", \"opacity\": 1, \"size\": 1}, \"mode\": \"markers\", \"type\": \"scatter3d\", \"x\": [34.939217922704465], \"y\": [4.9900814668259965], \"z\": [-1.5886176586987066]}, {\"marker\": {\"color\": \"green\", \"opacity\": 1, \"size\": 1}, \"mode\": \"markers\", \"type\": \"scatter3d\", \"x\": [26.658067404639745], \"y\": [7.1649746009363975], \"z\": [3.741863405129378]}, {\"marker\": {\"color\": \"green\", \"opacity\": 1, \"size\": 1}, \"mode\": \"markers\", \"type\": \"scatter3d\", \"x\": [20.421009000200023], \"y\": [-9.978538268862023], \"z\": [-7.929322050066442]}, {\"marker\": {\"color\": \"green\", \"opacity\": 1, \"size\": 1}, \"mode\": \"markers\", \"type\": \"scatter3d\", \"x\": [21.8392958498437], \"y\": [-8.959732914221744], \"z\": [-0.5749662246196197]}, {\"marker\": {\"color\": \"green\", \"opacity\": 1, \"size\": 1}, \"mode\": \"markers\", \"type\": \"scatter3d\", \"x\": [33.74492368742819, 33.76166865002982], \"y\": [-3.954427356126722, -3.940771579240296], \"z\": [1.6040365791654376, 1.5972090052955192]}, {\"color\": \"blue\", \"i\": [7, 0, 0, 0, 4, 4, 6, 6, 4, 0, 3, 2], \"j\": [3, 4, 1, 2, 5, 6, 5, 2, 0, 1, 6, 3], \"k\": [0, 7, 2, 3, 6, 7, 1, 1, 5, 5, 7, 6], \"opacity\": 0.5, \"type\": \"mesh3d\", \"x\": [33.71548663130418, 33.722879426145575, 33.72690750746473, 33.71951471262334, 33.779684829993286, 33.78707762483468, 33.791105706153836, 33.78371291131244], \"y\": [-3.9807288963953154, -3.914354566362579, -3.9069617715211846, -3.9733361015539215, -3.9882371638458336, -3.9218628338130967, -3.914470038971703, -3.9808443690044393], \"z\": [1.6285545089078592, 1.6363565195811252, 1.5696467180619584, 1.5618447073886923, 1.6315988663989986, 1.6394008770722648, 1.5726910755530978, 1.564889064879832]}, {\"marker\": {\"color\": \"red\", \"opacity\": 1, \"size\": 1}, \"mode\": \"markers\", \"type\": \"scatter3d\", \"x\": [33.75329616872901], \"y\": [-3.947599467683509], \"z\": [1.6006227922304785]}, {\"marker\": {\"color\": \"green\", \"opacity\": 1, \"size\": 1}, \"mode\": \"markers\", \"type\": \"scatter3d\", \"x\": [38.91258008765238, 39.08940308201715], \"y\": [-4.833636925981674, -4.604883921827432], \"z\": [-0.04360593798369456, -0.23186765708885926]}, {\"color\": \"blue\", \"i\": [7, 0, 0, 0, 4, 4, 6, 6, 4, 0, 3, 2], \"j\": [3, 4, 1, 2, 5, 6, 5, 2, 0, 1, 6, 3], \"k\": [0, 7, 2, 3, 6, 7, 1, 1, 5, 5, 7, 6], \"opacity\": 0.5, \"type\": \"mesh3d\", \"x\": [38.87874744121242, 38.92198830144878, 38.92595381278736, 38.882712952551, 39.07602935688217, 39.119270217118526, 39.12323572845711, 39.07999486822075], \"y\": [-4.906987471897676, -4.550902413941753, -4.507661553705392, -4.863746611661315, -4.930859294103713, -4.57477423614779, -4.53153337591143, -4.8876184338673525], \"z\": [0.020258984692625964, 0.06366281541244592, -0.2950358544212339, -0.3384396851410538, 0.019562259348680083, 0.06296609006850004, -0.29573257976517975, -0.33913641048499976]}, {\"marker\": {\"color\": \"red\", \"opacity\": 1, \"size\": 1}, \"mode\": \"markers\", \"type\": \"scatter3d\", \"x\": [39.000991584834765], \"y\": [-4.719260423904553], \"z\": [-0.1377367975362769]}, {\"marker\": {\"color\": \"green\", \"opacity\": 1, \"size\": 1}, \"mode\": \"markers\", \"type\": \"scatter3d\", \"x\": [24.051541849545888], \"y\": [-8.08818779722272], \"z\": [-6.025925671773336]}, {\"marker\": {\"color\": \"green\", \"opacity\": 1, \"size\": 1}, \"mode\": \"markers\", \"type\": \"scatter3d\", \"x\": [20.43606681568081], \"y\": [6.9640595882593015], \"z\": [0.029361964985601893]}, {\"marker\": {\"color\": \"green\", \"opacity\": 1, \"size\": 1}, \"mode\": \"markers\", \"type\": \"scatter3d\", \"x\": [24.99469350260274], \"y\": [5.665230971599273], \"z\": [3.175761402775043]}, {\"marker\": {\"color\": \"green\", \"opacity\": 1, \"size\": 1}, \"mode\": \"markers\", \"type\": \"scatter3d\", \"x\": [35.82569849760078], \"y\": [-4.41599618749003], \"z\": [1.3589965553052277]}, {\"marker\": {\"color\": \"green\", \"opacity\": 1, \"size\": 1}, \"mode\": \"markers\", \"type\": \"scatter3d\", \"x\": [26.8872074639191], \"y\": [1.4379593884591502], \"z\": [-7.344540665956659]}, {\"marker\": {\"color\": \"green\", \"opacity\": 1, \"size\": 1}, \"mode\": \"markers\", \"type\": \"scatter3d\", \"x\": [23.512497109259854, 23.4446856684002], \"y\": [8.046995816301342, 8.112610554624736], \"z\": [0.3742314519330482, 0.3946600291672164]}, {\"color\": \"blue\", \"i\": [7, 0, 0, 0, 4, 4, 6, 6, 4, 0, 3, 2], \"j\": [3, 4, 1, 2, 5, 6, 5, 2, 0, 1, 6, 3], \"k\": [0, 7, 2, 3, 6, 7, 1, 1, 5, 5, 7, 6], \"opacity\": 0.5, \"type\": \"mesh3d\", \"x\": [23.447411367469513, 23.40599664056512, 23.42236538920878, 23.463780116113174, 23.53481738845127, 23.493402661546877, 23.509771410190538, 23.55118613709493], \"y\": [8.024240345660894, 8.146701288071359, 8.105286561166965, 7.982825618756501, 8.054319809759113, 8.176780752169577, 8.135366025265183, 8.012905082854719], \"z\": [0.47059958470936375, 0.4261177233934724, 0.2968606830822157, 0.34134254439810696, 0.4720307980180488, 0.42754893670215754, 0.29829189639090076, 0.3427737577067921]}, {\"marker\": {\"color\": \"red\", \"opacity\": 1, \"size\": 1}, \"mode\": \"markers\", \"type\": \"scatter3d\", \"x\": [23.478591388830026], \"y\": [8.079803185463039], \"z\": [0.38444574055013225]}, {\"marker\": {\"color\": \"green\", \"opacity\": 1, \"size\": 1}, \"mode\": \"markers\", \"type\": \"scatter3d\", \"x\": [22.390885957402727], \"y\": [-1.865851406618402], \"z\": [7.773997050933946]}, {\"marker\": {\"color\": \"green\", \"opacity\": 1, \"size\": 1}, \"mode\": \"markers\", \"type\": \"scatter3d\", \"x\": [28.71228353757369], \"y\": [6.0000386330829025], \"z\": [5.198966566832785]}, {\"marker\": {\"color\": \"green\", \"opacity\": 1, \"size\": 1}, \"mode\": \"markers\", \"type\": \"scatter3d\", \"x\": [32.681641184768715], \"y\": [8.44337060856838], \"z\": [-0.5120949472654299]}, {\"marker\": {\"color\": \"green\", \"opacity\": 1, \"size\": 1}, \"mode\": \"markers\", \"type\": \"scatter3d\", \"x\": [20.833667419280502], \"y\": [3.7857535665020654], \"z\": [8.184042476539101]}, {\"marker\": {\"color\": \"green\", \"opacity\": 1, \"size\": 1}, \"mode\": \"markers\", \"type\": \"scatter3d\", \"x\": [32.44226772430841], \"y\": [-7.797994593361909], \"z\": [5.9128610108264805]}, {\"marker\": {\"color\": \"green\", \"opacity\": 1, \"size\": 1}, \"mode\": \"markers\", \"type\": \"scatter3d\", \"x\": [37.62173770085808], \"y\": [-4.408536170812207], \"z\": [0.8421776958725025]}, {\"marker\": {\"color\": \"green\", \"opacity\": 1, \"size\": 1}, \"mode\": \"markers\", \"type\": \"scatter3d\", \"x\": [24.058748081751414], \"y\": [-1.6983866874911044], \"z\": [2.9104757170363618]}, {\"marker\": {\"color\": \"green\", \"opacity\": 1, \"size\": 1}, \"mode\": \"markers\", \"type\": \"scatter3d\", \"x\": [27.165172646284734], \"y\": [8.385218583827303], \"z\": [-0.8145341155354296]}, {\"marker\": {\"color\": \"green\", \"opacity\": 1, \"size\": 1}, \"mode\": \"markers\", \"type\": \"scatter3d\", \"x\": [31.652268071468395], \"y\": [-6.911127841095379], \"z\": [-4.305680771209634]}, {\"marker\": {\"color\": \"green\", \"opacity\": 1, \"size\": 1}, \"mode\": \"markers\", \"type\": \"scatter3d\", \"x\": [28.19943182999736, 28.28393352613934], \"y\": [-2.3448708214506047, -2.3665317784793136], \"z\": [6.718274588661082, 6.739900523203769]}, {\"color\": \"blue\", \"i\": [7, 0, 0, 0, 4, 4, 6, 6, 4, 0, 3, 2], \"j\": [3, 4, 1, 2, 5, 6, 5, 2, 0, 1, 6, 3], \"k\": [0, 7, 2, 3, 6, 7, 1, 1, 5, 5, 7, 6], \"opacity\": 0.5, \"type\": \"mesh3d\", \"x\": [28.164759888172988, 28.168875418555647, 28.184144672279313, 28.180029141896654, 28.29922068385739, 28.303336214240048, 28.318605467963714, 28.314489937581055], \"y\": [-2.384284043291631, -2.3200184142581457, -2.3159028838754874, -2.3801685129089725, -2.3954997160544313, -2.3312340870209463, -2.327118556638288, -2.391384185671773], \"z\": [6.7417778996863005, 6.747003143442753, 6.68435951537009, 6.679134271613638, 6.77381559649476, 6.779040840251213, 6.71639721217855, 6.711171968422097]}, {\"marker\": {\"color\": \"red\", \"opacity\": 1, \"size\": 1}, \"mode\": \"markers\", \"type\": \"scatter3d\", \"x\": [28.24168267806835], \"y\": [-2.3557012999649594], \"z\": [6.729087555932425]}, {\"marker\": {\"color\": \"green\", \"opacity\": 1, \"size\": 1}, \"mode\": \"markers\", \"type\": \"scatter3d\", \"x\": [30.806720972912427], \"y\": [-8.065957718106784], \"z\": [-8.140663873561488]}, {\"marker\": {\"color\": \"green\", \"opacity\": 1, \"size\": 1}, \"mode\": \"markers\", \"type\": \"scatter3d\", \"x\": [29.5439879407178], \"y\": [-7.183548568404229], \"z\": [-9.218250101712126]}, {\"marker\": {\"color\": \"green\", \"opacity\": 1, \"size\": 1}, \"mode\": \"markers\", \"type\": \"scatter3d\", \"x\": [25.03035700292084], \"y\": [6.116638832453681], \"z\": [3.3217683266447846]}, {\"marker\": {\"color\": \"green\", \"opacity\": 1, \"size\": 1}, \"mode\": \"markers\", \"type\": \"scatter3d\", \"x\": [30.073073350178213], \"y\": [3.986250087934213], \"z\": [2.1227500242024466]}, {\"marker\": {\"color\": \"green\", \"opacity\": 1, \"size\": 1}, \"mode\": \"markers\", \"type\": \"scatter3d\", \"x\": [36.66625615531182, 36.639084101467276], \"y\": [-9.902848036517332, -9.844794780439962], \"z\": [-9.242750111014061, -9.273787513045841]}, {\"color\": \"blue\", \"i\": [7, 0, 0, 0, 4, 4, 6, 6, 4, 0, 3, 2], \"j\": [3, 4, 1, 2, 5, 6, 5, 2, 0, 1, 6, 3], \"k\": [0, 7, 2, 3, 6, 7, 1, 1, 5, 5, 7, 6], \"opacity\": 0.5, \"type\": \"mesh3d\", \"x\": [36.604920513373095, 36.64009237684353, 36.62274155659172, 36.58756969312128, 36.68259870018737, 36.71777056365781, 36.700419743405995, 36.665247879935556], \"y\": [-9.932812496216789, -9.82907654519878, -9.793904681728344, -9.897640632746352, -9.953738135228951, -9.850002184210943, -9.814830320740507, -9.918566271758516], \"z\": [-9.209662559219284, -9.181053273728681, -9.287253969519634, -9.315863255010239, -9.229283654540266, -9.200674369049661, -9.306875064840616, -9.33548435033122]}, {\"marker\": {\"color\": \"red\", \"opacity\": 1, \"size\": 1}, \"mode\": \"markers\", \"type\": \"scatter3d\", \"x\": [36.652670128389545], \"y\": [-9.873821408478648], \"z\": [-9.25826881202995]}, {\"marker\": {\"color\": \"green\", \"opacity\": 1, \"size\": 1}, \"mode\": \"markers\", \"type\": \"scatter3d\", \"x\": [25.51377589137881], \"y\": [7.5483613222387795], \"z\": [1.3292284596796045]}, {\"marker\": {\"color\": \"green\", \"opacity\": 1, \"size\": 1}, \"mode\": \"markers\", \"type\": \"scatter3d\", \"x\": [34.34943244505892], \"y\": [0.6118494364534076], \"z\": [7.187257189056781]}, {\"marker\": {\"color\": \"green\", \"opacity\": 1, \"size\": 1}, \"mode\": \"markers\", \"type\": \"scatter3d\", \"x\": [24.489146824897986], \"y\": [1.4869526844626566], \"z\": [-5.576785589789612]}, {\"marker\": {\"color\": \"green\", \"opacity\": 1, \"size\": 1}, \"mode\": \"markers\", \"type\": \"scatter3d\", \"x\": [26.405066647585212], \"y\": [9.265554707456538], \"z\": [0.4630833586979377]}, {\"marker\": {\"color\": \"green\", \"opacity\": 1, \"size\": 1}, \"mode\": \"markers\", \"type\": \"scatter3d\", \"x\": [36.7527454743555], \"y\": [-6.718992541481758], \"z\": [-8.927216908907528]}, {\"marker\": {\"color\": \"green\", \"opacity\": 1, \"size\": 1}, \"mode\": \"markers\", \"type\": \"scatter3d\", \"x\": [34.04584427729338], \"y\": [7.573055731344937], \"z\": [6.702315734812727]}, {\"marker\": {\"color\": \"green\", \"opacity\": 1, \"size\": 1}, \"mode\": \"markers\", \"type\": \"scatter3d\", \"x\": [30.714269048545265], \"y\": [-1.2442975315893925], \"z\": [-0.0659386387857005]}, {\"marker\": {\"color\": \"green\", \"opacity\": 1, \"size\": 1}, \"mode\": \"markers\", \"type\": \"scatter3d\", \"x\": [21.14431296880886], \"y\": [9.279099679429956], \"z\": [0.3627370907363701]}, {\"marker\": {\"color\": \"green\", \"opacity\": 1, \"size\": 1}, \"mode\": \"markers\", \"type\": \"scatter3d\", \"x\": [27.177977044811133], \"y\": [5.802467615282126], \"z\": [2.2834739803522948]}, {\"marker\": {\"color\": \"green\", \"opacity\": 1, \"size\": 1}, \"mode\": \"markers\", \"type\": \"scatter3d\", \"x\": [29.94260102622514], \"y\": [9.310857996271269], \"z\": [0.11782366647605096]}, {\"marker\": {\"color\": \"green\", \"opacity\": 1, \"size\": 1}, \"mode\": \"markers\", \"type\": \"scatter3d\", \"x\": [24.04431027436421], \"y\": [-3.055062514476538], \"z\": [1.7127703588340046]}, {\"marker\": {\"color\": \"green\", \"opacity\": 1, \"size\": 1}, \"mode\": \"markers\", \"type\": \"scatter3d\", \"x\": [23.045946331819373], \"y\": [-5.558571211376295], \"z\": [-8.156206287876218]}, {\"marker\": {\"color\": \"green\", \"opacity\": 1, \"size\": 1}, \"mode\": \"markers\", \"type\": \"scatter3d\", \"x\": [25.01087599739868], \"y\": [6.620453844885987], \"z\": [9.71396988347022]}, {\"marker\": {\"color\": \"green\", \"opacity\": 1, \"size\": 1}, \"mode\": \"markers\", \"type\": \"scatter3d\", \"x\": [30.233934259783386], \"y\": [-2.794868335806806], \"z\": [3.060718040855524]}, {\"marker\": {\"color\": \"green\", \"opacity\": 1, \"size\": 1}, \"mode\": \"markers\", \"type\": \"scatter3d\", \"x\": [34.383134865056235], \"y\": [1.653798140680911], \"z\": [-2.7969699029118265]}, {\"marker\": {\"color\": \"green\", \"opacity\": 1, \"size\": 1}, \"mode\": \"markers\", \"type\": \"scatter3d\", \"x\": [28.003304131239968], \"y\": [-3.7472943938471497], \"z\": [4.729404929994954]}, {\"marker\": {\"color\": \"green\", \"opacity\": 1, \"size\": 1}, \"mode\": \"markers\", \"type\": \"scatter3d\", \"x\": [20.83035851736481], \"y\": [1.921965267483167], \"z\": [-6.490796619393919]}, {\"marker\": {\"color\": \"green\", \"opacity\": 1, \"size\": 1}, \"mode\": \"markers\", \"type\": \"scatter3d\", \"x\": [23.938175012418558], \"y\": [5.420110782094948], \"z\": [3.0384368237206343]}, {\"marker\": {\"color\": \"green\", \"opacity\": 1, \"size\": 1}, \"mode\": \"markers\", \"type\": \"scatter3d\", \"x\": [38.98381885089732], \"y\": [1.6636506522023644], \"z\": [-0.5434354041005875]}, {\"marker\": {\"color\": \"green\", \"opacity\": 1, \"size\": 1}, \"mode\": \"markers\", \"type\": \"scatter3d\", \"x\": [33.62742724243159], \"y\": [9.806332878164898], \"z\": [3.8564146463500713]}, {\"marker\": {\"color\": \"green\", \"opacity\": 1, \"size\": 1}, \"mode\": \"markers\", \"type\": \"scatter3d\", \"x\": [25.80441936260459], \"y\": [-1.1736672960768055], \"z\": [-6.172418846317559]}, {\"marker\": {\"color\": \"green\", \"opacity\": 1, \"size\": 1}, \"mode\": \"markers\", \"type\": \"scatter3d\", \"x\": [25.23282643091947], \"y\": [-1.2978514394207787], \"z\": [7.302595756489612]}, {\"marker\": {\"color\": \"green\", \"opacity\": 1, \"size\": 1}, \"mode\": \"markers\", \"type\": \"scatter3d\", \"x\": [39.969617905719005], \"y\": [-4.136294712661953], \"z\": [-1.5133272090149683]}, {\"marker\": {\"color\": \"green\", \"opacity\": 1, \"size\": 1}, \"mode\": \"markers\", \"type\": \"scatter3d\", \"x\": [37.62350001491814], \"y\": [-8.14995531679036], \"z\": [-7.7385446825490405]}, {\"marker\": {\"color\": \"green\", \"opacity\": 1, \"size\": 1}, \"mode\": \"markers\", \"type\": \"scatter3d\", \"x\": [24.625289045525193], \"y\": [0.1138702178231966], \"z\": [-6.405390453706428]}, {\"marker\": {\"color\": \"green\", \"opacity\": 1, \"size\": 1}, \"mode\": \"markers\", \"type\": \"scatter3d\", \"x\": [25.94313440407104], \"y\": [-2.389375519426513], \"z\": [5.996157544315782]}, {\"marker\": {\"color\": \"green\", \"opacity\": 1, \"size\": 1}, \"mode\": \"markers\", \"type\": \"scatter3d\", \"x\": [34.48256041328209], \"y\": [-0.8093270001568802], \"z\": [0.050434207747805035]}, {\"marker\": {\"color\": \"green\", \"opacity\": 1, \"size\": 1}, \"mode\": \"markers\", \"type\": \"scatter3d\", \"x\": [21.91594482918545], \"y\": [-1.4952027165368655], \"z\": [-3.921196343747285]}, {\"marker\": {\"color\": \"green\", \"opacity\": 1, \"size\": 1}, \"mode\": \"markers\", \"type\": \"scatter3d\", \"x\": [28.2799564671358], \"y\": [-8.583063080534256], \"z\": [-0.5119868663705699]}, {\"marker\": {\"color\": \"green\", \"opacity\": 1, \"size\": 1}, \"mode\": \"markers\", \"type\": \"scatter3d\", \"x\": [24.68145607926729], \"y\": [5.125517609485159], \"z\": [-0.1955261498985374]}, {\"marker\": {\"color\": \"green\", \"opacity\": 1, \"size\": 1}, \"mode\": \"markers\", \"type\": \"scatter3d\", \"x\": [26.55754781038702], \"y\": [8.445655038685675], \"z\": [-1.0159033551007832]}, {\"marker\": {\"color\": \"green\", \"opacity\": 1, \"size\": 1}, \"mode\": \"markers\", \"type\": \"scatter3d\", \"x\": [37.64491748587074], \"y\": [-5.025277497766972], \"z\": [-0.4977497081605721]}, {\"marker\": {\"color\": \"green\", \"opacity\": 1, \"size\": 1}, \"mode\": \"markers\", \"type\": \"scatter3d\", \"x\": [38.28275984249513], \"y\": [-5.345398649574394], \"z\": [0.7170611790463294]}, {\"marker\": {\"color\": \"green\", \"opacity\": 1, \"size\": 1}, \"mode\": \"markers\", \"type\": \"scatter3d\", \"x\": [28.573313197367234], \"y\": [-4.0132762826767125], \"z\": [1.0905524340044799]}, {\"marker\": {\"color\": \"green\", \"opacity\": 1, \"size\": 1}, \"mode\": \"markers\", \"type\": \"scatter3d\", \"x\": [21.501058893601197], \"y\": [5.509914805165884], \"z\": [-5.167932008749696]}, {\"marker\": {\"color\": \"green\", \"opacity\": 1, \"size\": 1}, \"mode\": \"markers\", \"type\": \"scatter3d\", \"x\": [29.038687651303896], \"y\": [1.591048817043722], \"z\": [-2.337307895590868]}, {\"marker\": {\"color\": \"green\", \"opacity\": 1, \"size\": 1}, \"mode\": \"markers\", \"type\": \"scatter3d\", \"x\": [23.765691304533693], \"y\": [-8.732241604582754], \"z\": [0.7515658534352789]}, {\"marker\": {\"color\": \"green\", \"opacity\": 1, \"size\": 1}, \"mode\": \"markers\", \"type\": \"scatter3d\", \"x\": [23.693371558155928], \"y\": [5.9121205951285765], \"z\": [-9.499949962961932]}, {\"marker\": {\"color\": \"green\", \"opacity\": 1, \"size\": 1}, \"mode\": \"markers\", \"type\": \"scatter3d\", \"x\": [24.57790370689343], \"y\": [5.671946692828778], \"z\": [0.7361332376271741]}, {\"marker\": {\"color\": \"green\", \"opacity\": 1, \"size\": 1}, \"mode\": \"markers\", \"type\": \"scatter3d\", \"x\": [23.898189912737013], \"y\": [6.969258933326747], \"z\": [2.939739756363562]}, {\"marker\": {\"color\": \"green\", \"opacity\": 1, \"size\": 1}, \"mode\": \"markers\", \"type\": \"scatter3d\", \"x\": [28.746199432919003], \"y\": [-7.302292586810749], \"z\": [-8.844527407111611]}, {\"marker\": {\"color\": \"green\", \"opacity\": 1, \"size\": 1}, \"mode\": \"markers\", \"type\": \"scatter3d\", \"x\": [21.468470169245386], \"y\": [-2.9361958482731865], \"z\": [-0.0898506404209345]}, {\"marker\": {\"color\": \"green\", \"opacity\": 1, \"size\": 1}, \"mode\": \"markers\", \"type\": \"scatter3d\", \"x\": [26.235108077968178], \"y\": [1.464133281417233], \"z\": [-6.807507262143733]}, {\"marker\": {\"color\": \"green\", \"opacity\": 1, \"size\": 1}, \"mode\": \"markers\", \"type\": \"scatter3d\", \"x\": [39.076167769018994], \"y\": [-7.851586160720262], \"z\": [-3.135051326669592]}, {\"marker\": {\"color\": \"green\", \"opacity\": 1, \"size\": 1}, \"mode\": \"markers\", \"type\": \"scatter3d\", \"x\": [31.26658409585616], \"y\": [2.5891537390545563], \"z\": [-9.296143787070084]}, {\"marker\": {\"color\": \"green\", \"opacity\": 1, \"size\": 1}, \"mode\": \"markers\", \"type\": \"scatter3d\", \"x\": [23.422815280608248], \"y\": [-8.382189702315994], \"z\": [0.2689214473155382]}, {\"marker\": {\"color\": \"green\", \"opacity\": 1, \"size\": 1}, \"mode\": \"markers\", \"type\": \"scatter3d\", \"x\": [28.276462496208254], \"y\": [-2.62203627361689], \"z\": [3.244550117427877]}, {\"marker\": {\"color\": \"green\", \"opacity\": 1, \"size\": 1}, \"mode\": \"markers\", \"type\": \"scatter3d\", \"x\": [31.196232670657015], \"y\": [0.7085317046295297], \"z\": [6.342847787178112]}, {\"marker\": {\"color\": \"green\", \"opacity\": 1, \"size\": 1}, \"mode\": \"markers\", \"type\": \"scatter3d\", \"x\": [23.443955927895942], \"y\": [2.5372995199355257], \"z\": [7.02965660939696]}, {\"marker\": {\"color\": \"green\", \"opacity\": 1, \"size\": 1}, \"mode\": \"markers\", \"type\": \"scatter3d\", \"x\": [20.96830716440489], \"y\": [3.08257927356783], \"z\": [-0.4620907229067749]}, {\"marker\": {\"color\": \"green\", \"opacity\": 1, \"size\": 1}, \"mode\": \"markers\", \"type\": \"scatter3d\", \"x\": [36.997044947619074], \"y\": [9.47843725133852], \"z\": [2.7774415255274363]}, {\"marker\": {\"color\": \"green\", \"opacity\": 1, \"size\": 1}, \"mode\": \"markers\", \"type\": \"scatter3d\", \"x\": [34.54161497660498], \"y\": [3.292442814455415], \"z\": [-0.2485696016439461]}, {\"marker\": {\"color\": \"green\", \"opacity\": 1, \"size\": 1}, \"mode\": \"markers\", \"type\": \"scatter3d\", \"x\": [24.73401635400728], \"y\": [6.892927925599942], \"z\": [2.0274253588399063]}, {\"marker\": {\"color\": \"green\", \"opacity\": 1, \"size\": 1}, \"mode\": \"markers\", \"type\": \"scatter3d\", \"x\": [21.04818724109225], \"y\": [-3.0948764964031708], \"z\": [-7.022220439703382]}, {\"marker\": {\"color\": \"green\", \"opacity\": 1, \"size\": 1}, \"mode\": \"markers\", \"type\": \"scatter3d\", \"x\": [28.49586462739915, 28.33464887361756], \"y\": [6.1084638415831, 6.0785269468946215], \"z\": [-2.0848513852693817, -2.074881502978577]}, {\"color\": \"blue\", \"i\": [7, 0, 0, 0, 4, 4, 6, 6, 4, 0, 3, 2], \"j\": [3, 4, 1, 2, 5, 6, 5, 2, 0, 1, 6, 3], \"k\": [0, 7, 2, 3, 6, 7, 1, 1, 5, 5, 7, 6], \"opacity\": 0.5, \"type\": \"mesh3d\", \"x\": [28.317494546407804, 28.305444377113776, 28.304112224328012, 28.316162393622037, 28.5264012766887, 28.514351107394674, 28.513018954608906, 28.525069123902934], \"y\": [6.050982909360625, 6.103259150059824, 6.091208980765796, 6.038932740066598, 6.095781807711926, 6.148058048411124, 6.136007879117097, 6.083731638417898], \"z\": [-2.0397321352455826, -2.0512057673701976, -2.1047097386688485, -2.0932361065442335, -2.0550231495791103, -2.066496781703725, -2.120000753002376, -2.108527120877761]}, {\"marker\": {\"color\": \"red\", \"opacity\": 1, \"size\": 1}, \"mode\": \"markers\", \"type\": \"scatter3d\", \"x\": [28.415256750508355], \"y\": [6.093495394238861], \"z\": [-2.0798664441239794]}, {\"marker\": {\"color\": \"green\", \"opacity\": 1, \"size\": 1}, \"mode\": \"markers\", \"type\": \"scatter3d\", \"x\": [23.75088260140459], \"y\": [-5.462578383355969], \"z\": [-7.966861444204296]}, {\"marker\": {\"color\": \"green\", \"opacity\": 1, \"size\": 1}, \"mode\": \"markers\", \"type\": \"scatter3d\", \"x\": [23.055651824174713], \"y\": [6.160063769567907], \"z\": [3.1750065696571235]}, {\"marker\": {\"color\": \"green\", \"opacity\": 1, \"size\": 1}, \"mode\": \"markers\", \"type\": \"scatter3d\", \"x\": [20.4660801494298], \"y\": [8.527136004812704], \"z\": [9.259599375861098]}, {\"marker\": {\"color\": \"green\", \"opacity\": 1, \"size\": 1}, \"mode\": \"markers\", \"type\": \"scatter3d\", \"x\": [39.53108981077457], \"y\": [-1.4969281735954563], \"z\": [-0.048269751524888216]}, {\"marker\": {\"color\": \"green\", \"opacity\": 1, \"size\": 1}, \"mode\": \"markers\", \"type\": \"scatter3d\", \"x\": [22.317516864723586], \"y\": [-2.542992777617524], \"z\": [0.304579686543009]}, {\"marker\": {\"color\": \"green\", \"opacity\": 1, \"size\": 1}, \"mode\": \"markers\", \"type\": \"scatter3d\", \"x\": [21.597881487924358], \"y\": [4.348784052705135], \"z\": [4.379099204836006]}, {\"marker\": {\"color\": \"green\", \"opacity\": 1, \"size\": 1}, \"mode\": \"markers\", \"type\": \"scatter3d\", \"x\": [22.48142300932154], \"y\": [3.2315443341931913], \"z\": [-0.4912259223496779]}, {\"marker\": {\"color\": \"green\", \"opacity\": 1, \"size\": 1}, \"mode\": \"markers\", \"type\": \"scatter3d\", \"x\": [26.050612499806032], \"y\": [8.943636021078003], \"z\": [0.3730844005125327]}, {\"marker\": {\"color\": \"green\", \"opacity\": 1, \"size\": 1}, \"mode\": \"markers\", \"type\": \"scatter3d\", \"x\": [31.795566915998112], \"y\": [-8.427496476659101], \"z\": [-7.462498917827852]}, {\"marker\": {\"color\": \"green\", \"opacity\": 1, \"size\": 1}, \"mode\": \"markers\", \"type\": \"scatter3d\", \"x\": [25.688300421378752], \"y\": [-4.316493889950298], \"z\": [2.2317394197030183]}, {\"marker\": {\"color\": \"green\", \"opacity\": 1, \"size\": 1}, \"mode\": \"markers\", \"type\": \"scatter3d\", \"x\": [22.324015912680007], \"y\": [9.9850991376452], \"z\": [-1.605209921701534]}, {\"marker\": {\"color\": \"green\", \"opacity\": 1, \"size\": 1}, \"mode\": \"markers\", \"type\": \"scatter3d\", \"x\": [26.474414498112086], \"y\": [3.232864154744062], \"z\": [0.5586791128406101]}, {\"marker\": {\"color\": \"green\", \"opacity\": 1, \"size\": 1}, \"mode\": \"markers\", \"type\": \"scatter3d\", \"x\": [20.80189239193664], \"y\": [-1.872571799315692], \"z\": [8.144185098967624]}, {\"marker\": {\"color\": \"green\", \"opacity\": 1, \"size\": 1}, \"mode\": \"markers\", \"type\": \"scatter3d\", \"x\": [24.45181878763368], \"y\": [-9.913548561002687], \"z\": [0.5153173500021792]}, {\"marker\": {\"color\": \"green\", \"opacity\": 1, \"size\": 1}, \"mode\": \"markers\", \"type\": \"scatter3d\", \"x\": [24.183126960737], \"y\": [-1.653710904912292], \"z\": [-4.24532394800486]}, {\"marker\": {\"color\": \"green\", \"opacity\": 1, \"size\": 1}, \"mode\": \"markers\", \"type\": \"scatter3d\", \"x\": [29.208481581963746], \"y\": [5.329818777695528], \"z\": [0.4709423536556948]}, {\"marker\": {\"color\": \"green\", \"opacity\": 1, \"size\": 1}, \"mode\": \"markers\", \"type\": \"scatter3d\", \"x\": [21.747810706501394], \"y\": [0.9778758451124712], \"z\": [7.184925472121273]}, {\"marker\": {\"color\": \"green\", \"opacity\": 1, \"size\": 1}, \"mode\": \"markers\", \"type\": \"scatter3d\", \"x\": [21.6953795132514], \"y\": [-8.918578878574428], \"z\": [0.04515383653264871]}, {\"marker\": {\"color\": \"green\", \"opacity\": 1, \"size\": 1}, \"mode\": \"markers\", \"type\": \"scatter3d\", \"x\": [23.015997479077114], \"y\": [-7.894352335749447], \"z\": [-5.619539106491555]}, {\"marker\": {\"color\": \"green\", \"opacity\": 1, \"size\": 1}, \"mode\": \"markers\", \"type\": \"scatter3d\", \"x\": [21.656717194313984], \"y\": [-5.300321717785547], \"z\": [-7.542866465145393]}, {\"marker\": {\"color\": \"green\", \"opacity\": 1, \"size\": 1}, \"mode\": \"markers\", \"type\": \"scatter3d\", \"x\": [38.93098108818453], \"y\": [6.207824891108116], \"z\": [-0.5510930947116459]}, {\"marker\": {\"color\": \"green\", \"opacity\": 1, \"size\": 1}, \"mode\": \"markers\", \"type\": \"scatter3d\", \"x\": [26.24280166600987], \"y\": [9.129638211238218], \"z\": [-8.177707604568946]}, {\"marker\": {\"color\": \"green\", \"opacity\": 1, \"size\": 1}, \"mode\": \"markers\", \"type\": \"scatter3d\", \"x\": [28.672323439427103], \"y\": [1.6345044876177297], \"z\": [-7.378838654912301]}, {\"marker\": {\"color\": \"green\", \"opacity\": 1, \"size\": 1}, \"mode\": \"markers\", \"type\": \"scatter3d\", \"x\": [26.826410179436326], \"y\": [7.058614492418594], \"z\": [9.412322011513794]}, {\"marker\": {\"color\": \"green\", \"opacity\": 1, \"size\": 1}, \"mode\": \"markers\", \"type\": \"scatter3d\", \"x\": [21.173385969302963], \"y\": [-6.414500646586663], \"z\": [0.4837242303631888]}, {\"marker\": {\"color\": \"green\", \"opacity\": 1, \"size\": 1}, \"mode\": \"markers\", \"type\": \"scatter3d\", \"x\": [22.64294369558711], \"y\": [-8.92837809298624], \"z\": [7.268705217071859]}, {\"marker\": {\"color\": \"green\", \"opacity\": 1, \"size\": 1}, \"mode\": \"markers\", \"type\": \"scatter3d\", \"x\": [23.017014911630426], \"y\": [-5.689295732844975], \"z\": [-0.07469647834212144]}, {\"marker\": {\"color\": \"green\", \"opacity\": 1, \"size\": 1}, \"mode\": \"markers\", \"type\": \"scatter3d\", \"x\": [35.960810796604136], \"y\": [-9.109720581531324], \"z\": [0.3468473058136597]}, {\"marker\": {\"color\": \"green\", \"opacity\": 1, \"size\": 1}, \"mode\": \"markers\", \"type\": \"scatter3d\", \"x\": [24.51418745032732], \"y\": [-5.750763009241991], \"z\": [6.0762387623603615]}, {\"marker\": {\"color\": \"green\", \"opacity\": 1, \"size\": 1}, \"mode\": \"markers\", \"type\": \"scatter3d\", \"x\": [20.11655800550282], \"y\": [9.335086680510363], \"z\": [-9.450512751303238]}, {\"marker\": {\"color\": \"green\", \"opacity\": 1, \"size\": 1}, \"mode\": \"markers\", \"type\": \"scatter3d\", \"x\": [25.532506868330845], \"y\": [-9.95478228435562], \"z\": [-7.831331795028638]}, {\"marker\": {\"color\": \"green\", \"opacity\": 1, \"size\": 1}, \"mode\": \"markers\", \"type\": \"scatter3d\", \"x\": [32.23123855309238], \"y\": [7.6346897209415365], \"z\": [-8.851826566304057]}, {\"marker\": {\"color\": \"green\", \"opacity\": 1, \"size\": 1}, \"mode\": \"markers\", \"type\": \"scatter3d\", \"x\": [20.964459135238414], \"y\": [3.6154850152424234], \"z\": [5.372434312787187]}, {\"marker\": {\"color\": \"green\", \"opacity\": 1, \"size\": 1}, \"mode\": \"markers\", \"type\": \"scatter3d\", \"x\": [24.901891521470148], \"y\": [8.52382965724622], \"z\": [0.3894987642841907]}, {\"marker\": {\"color\": \"green\", \"opacity\": 1, \"size\": 1}, \"mode\": \"markers\", \"type\": \"scatter3d\", \"x\": [31.40906756346085], \"y\": [8.62476630098617], \"z\": [-4.360967264796137]}, {\"marker\": {\"color\": \"green\", \"opacity\": 1, \"size\": 1}, \"mode\": \"markers\", \"type\": \"scatter3d\", \"x\": [23.27491218529466], \"y\": [-5.26058498933926], \"z\": [-7.834931968139379]}],                        {\"margin\": {\"b\": 0, \"l\": 0, \"r\": 0, \"t\": 0}, \"template\": {\"data\": {\"bar\": [{\"error_x\": {\"color\": \"#2a3f5f\"}, \"error_y\": {\"color\": \"#2a3f5f\"}, \"marker\": {\"line\": {\"color\": \"#E5ECF6\", \"width\": 0.5}}, \"type\": \"bar\"}], \"barpolar\": [{\"marker\": {\"line\": {\"color\": \"#E5ECF6\", \"width\": 0.5}}, \"type\": \"barpolar\"}], \"carpet\": [{\"aaxis\": {\"endlinecolor\": \"#2a3f5f\", \"gridcolor\": \"white\", \"linecolor\": \"white\", \"minorgridcolor\": \"white\", \"startlinecolor\": \"#2a3f5f\"}, \"baxis\": {\"endlinecolor\": \"#2a3f5f\", \"gridcolor\": \"white\", \"linecolor\": \"white\", \"minorgridcolor\": \"white\", \"startlinecolor\": \"#2a3f5f\"}, \"type\": \"carpet\"}], \"choropleth\": [{\"colorbar\": {\"outlinewidth\": 0, \"ticks\": \"\"}, \"type\": \"choropleth\"}], \"contour\": [{\"colorbar\": {\"outlinewidth\": 0, \"ticks\": \"\"}, \"colorscale\": [[0.0, \"#0d0887\"], [0.1111111111111111, \"#46039f\"], [0.2222222222222222, \"#7201a8\"], [0.3333333333333333, \"#9c179e\"], [0.4444444444444444, \"#bd3786\"], [0.5555555555555556, \"#d8576b\"], [0.6666666666666666, \"#ed7953\"], [0.7777777777777778, \"#fb9f3a\"], [0.8888888888888888, \"#fdca26\"], [1.0, \"#f0f921\"]], \"type\": \"contour\"}], \"contourcarpet\": [{\"colorbar\": {\"outlinewidth\": 0, \"ticks\": \"\"}, \"type\": \"contourcarpet\"}], \"heatmap\": [{\"colorbar\": {\"outlinewidth\": 0, \"ticks\": \"\"}, \"colorscale\": [[0.0, \"#0d0887\"], [0.1111111111111111, \"#46039f\"], [0.2222222222222222, \"#7201a8\"], [0.3333333333333333, \"#9c179e\"], [0.4444444444444444, \"#bd3786\"], [0.5555555555555556, \"#d8576b\"], [0.6666666666666666, \"#ed7953\"], [0.7777777777777778, \"#fb9f3a\"], [0.8888888888888888, \"#fdca26\"], [1.0, \"#f0f921\"]], \"type\": \"heatmap\"}], \"heatmapgl\": [{\"colorbar\": {\"outlinewidth\": 0, \"ticks\": \"\"}, \"colorscale\": [[0.0, \"#0d0887\"], [0.1111111111111111, \"#46039f\"], [0.2222222222222222, \"#7201a8\"], [0.3333333333333333, \"#9c179e\"], [0.4444444444444444, \"#bd3786\"], [0.5555555555555556, \"#d8576b\"], [0.6666666666666666, \"#ed7953\"], [0.7777777777777778, \"#fb9f3a\"], [0.8888888888888888, \"#fdca26\"], [1.0, \"#f0f921\"]], \"type\": \"heatmapgl\"}], \"histogram\": [{\"marker\": {\"colorbar\": {\"outlinewidth\": 0, \"ticks\": \"\"}}, \"type\": \"histogram\"}], \"histogram2d\": [{\"colorbar\": {\"outlinewidth\": 0, \"ticks\": \"\"}, \"colorscale\": [[0.0, \"#0d0887\"], [0.1111111111111111, \"#46039f\"], [0.2222222222222222, \"#7201a8\"], [0.3333333333333333, \"#9c179e\"], [0.4444444444444444, \"#bd3786\"], [0.5555555555555556, \"#d8576b\"], [0.6666666666666666, \"#ed7953\"], [0.7777777777777778, \"#fb9f3a\"], [0.8888888888888888, \"#fdca26\"], [1.0, \"#f0f921\"]], \"type\": \"histogram2d\"}], \"histogram2dcontour\": [{\"colorbar\": {\"outlinewidth\": 0, \"ticks\": \"\"}, \"colorscale\": [[0.0, \"#0d0887\"], [0.1111111111111111, \"#46039f\"], [0.2222222222222222, \"#7201a8\"], [0.3333333333333333, \"#9c179e\"], [0.4444444444444444, \"#bd3786\"], [0.5555555555555556, \"#d8576b\"], [0.6666666666666666, \"#ed7953\"], [0.7777777777777778, \"#fb9f3a\"], [0.8888888888888888, \"#fdca26\"], [1.0, \"#f0f921\"]], \"type\": \"histogram2dcontour\"}], \"mesh3d\": [{\"colorbar\": {\"outlinewidth\": 0, \"ticks\": \"\"}, \"type\": \"mesh3d\"}], \"parcoords\": [{\"line\": {\"colorbar\": {\"outlinewidth\": 0, \"ticks\": \"\"}}, \"type\": \"parcoords\"}], \"pie\": [{\"automargin\": true, \"type\": \"pie\"}], \"scatter\": [{\"marker\": {\"colorbar\": {\"outlinewidth\": 0, \"ticks\": \"\"}}, \"type\": \"scatter\"}], \"scatter3d\": [{\"line\": {\"colorbar\": {\"outlinewidth\": 0, \"ticks\": \"\"}}, \"marker\": {\"colorbar\": {\"outlinewidth\": 0, \"ticks\": \"\"}}, \"type\": \"scatter3d\"}], \"scattercarpet\": [{\"marker\": {\"colorbar\": {\"outlinewidth\": 0, \"ticks\": \"\"}}, \"type\": \"scattercarpet\"}], \"scattergeo\": [{\"marker\": {\"colorbar\": {\"outlinewidth\": 0, \"ticks\": \"\"}}, \"type\": \"scattergeo\"}], \"scattergl\": [{\"marker\": {\"colorbar\": {\"outlinewidth\": 0, \"ticks\": \"\"}}, \"type\": \"scattergl\"}], \"scattermapbox\": [{\"marker\": {\"colorbar\": {\"outlinewidth\": 0, \"ticks\": \"\"}}, \"type\": \"scattermapbox\"}], \"scatterpolar\": [{\"marker\": {\"colorbar\": {\"outlinewidth\": 0, \"ticks\": \"\"}}, \"type\": \"scatterpolar\"}], \"scatterpolargl\": [{\"marker\": {\"colorbar\": {\"outlinewidth\": 0, \"ticks\": \"\"}}, \"type\": \"scatterpolargl\"}], \"scatterternary\": [{\"marker\": {\"colorbar\": {\"outlinewidth\": 0, \"ticks\": \"\"}}, \"type\": \"scatterternary\"}], \"surface\": [{\"colorbar\": {\"outlinewidth\": 0, \"ticks\": \"\"}, \"colorscale\": [[0.0, \"#0d0887\"], [0.1111111111111111, \"#46039f\"], [0.2222222222222222, \"#7201a8\"], [0.3333333333333333, \"#9c179e\"], [0.4444444444444444, \"#bd3786\"], [0.5555555555555556, \"#d8576b\"], [0.6666666666666666, \"#ed7953\"], [0.7777777777777778, \"#fb9f3a\"], [0.8888888888888888, \"#fdca26\"], [1.0, \"#f0f921\"]], \"type\": \"surface\"}], \"table\": [{\"cells\": {\"fill\": {\"color\": \"#EBF0F8\"}, \"line\": {\"color\": \"white\"}}, \"header\": {\"fill\": {\"color\": \"#C8D4E3\"}, \"line\": {\"color\": \"white\"}}, \"type\": \"table\"}]}, \"layout\": {\"annotationdefaults\": {\"arrowcolor\": \"#2a3f5f\", \"arrowhead\": 0, \"arrowwidth\": 1}, \"autotypenumbers\": \"strict\", \"coloraxis\": {\"colorbar\": {\"outlinewidth\": 0, \"ticks\": \"\"}}, \"colorscale\": {\"diverging\": [[0, \"#8e0152\"], [0.1, \"#c51b7d\"], [0.2, \"#de77ae\"], [0.3, \"#f1b6da\"], [0.4, \"#fde0ef\"], [0.5, \"#f7f7f7\"], [0.6, \"#e6f5d0\"], [0.7, \"#b8e186\"], [0.8, \"#7fbc41\"], [0.9, \"#4d9221\"], [1, \"#276419\"]], \"sequential\": [[0.0, \"#0d0887\"], [0.1111111111111111, \"#46039f\"], [0.2222222222222222, \"#7201a8\"], [0.3333333333333333, \"#9c179e\"], [0.4444444444444444, \"#bd3786\"], [0.5555555555555556, \"#d8576b\"], [0.6666666666666666, \"#ed7953\"], [0.7777777777777778, \"#fb9f3a\"], [0.8888888888888888, \"#fdca26\"], [1.0, \"#f0f921\"]], \"sequentialminus\": [[0.0, \"#0d0887\"], [0.1111111111111111, \"#46039f\"], [0.2222222222222222, \"#7201a8\"], [0.3333333333333333, \"#9c179e\"], [0.4444444444444444, \"#bd3786\"], [0.5555555555555556, \"#d8576b\"], [0.6666666666666666, \"#ed7953\"], [0.7777777777777778, \"#fb9f3a\"], [0.8888888888888888, \"#fdca26\"], [1.0, \"#f0f921\"]]}, \"colorway\": [\"#636efa\", \"#EF553B\", \"#00cc96\", \"#ab63fa\", \"#FFA15A\", \"#19d3f3\", \"#FF6692\", \"#B6E880\", \"#FF97FF\", \"#FECB52\"], \"font\": {\"color\": \"#2a3f5f\"}, \"geo\": {\"bgcolor\": \"white\", \"lakecolor\": \"white\", \"landcolor\": \"#E5ECF6\", \"showlakes\": true, \"showland\": true, \"subunitcolor\": \"white\"}, \"hoverlabel\": {\"align\": \"left\"}, \"hovermode\": \"closest\", \"mapbox\": {\"style\": \"light\"}, \"paper_bgcolor\": \"white\", \"plot_bgcolor\": \"#E5ECF6\", \"polar\": {\"angularaxis\": {\"gridcolor\": \"white\", \"linecolor\": \"white\", \"ticks\": \"\"}, \"bgcolor\": \"#E5ECF6\", \"radialaxis\": {\"gridcolor\": \"white\", \"linecolor\": \"white\", \"ticks\": \"\"}}, \"scene\": {\"xaxis\": {\"backgroundcolor\": \"#E5ECF6\", \"gridcolor\": \"white\", \"gridwidth\": 2, \"linecolor\": \"white\", \"showbackground\": true, \"ticks\": \"\", \"zerolinecolor\": \"white\"}, \"yaxis\": {\"backgroundcolor\": \"#E5ECF6\", \"gridcolor\": \"white\", \"gridwidth\": 2, \"linecolor\": \"white\", \"showbackground\": true, \"ticks\": \"\", \"zerolinecolor\": \"white\"}, \"zaxis\": {\"backgroundcolor\": \"#E5ECF6\", \"gridcolor\": \"white\", \"gridwidth\": 2, \"linecolor\": \"white\", \"showbackground\": true, \"ticks\": \"\", \"zerolinecolor\": \"white\"}}, \"shapedefaults\": {\"line\": {\"color\": \"#2a3f5f\"}}, \"ternary\": {\"aaxis\": {\"gridcolor\": \"white\", \"linecolor\": \"white\", \"ticks\": \"\"}, \"baxis\": {\"gridcolor\": \"white\", \"linecolor\": \"white\", \"ticks\": \"\"}, \"bgcolor\": \"#E5ECF6\", \"caxis\": {\"gridcolor\": \"white\", \"linecolor\": \"white\", \"ticks\": \"\"}}, \"title\": {\"x\": 0.05}, \"xaxis\": {\"automargin\": true, \"gridcolor\": \"white\", \"linecolor\": \"white\", \"ticks\": \"\", \"title\": {\"standoff\": 15}, \"zerolinecolor\": \"white\", \"zerolinewidth\": 2}, \"yaxis\": {\"automargin\": true, \"gridcolor\": \"white\", \"linecolor\": \"white\", \"ticks\": \"\", \"title\": {\"standoff\": 15}, \"zerolinecolor\": \"white\", \"zerolinewidth\": 2}}}},                        {\"responsive\": true}                    ).then(function(){\n",
       "                            \n",
       "var gd = document.getElementById('54e964db-e0a3-4eaa-a0ab-57f2674f4d52');\n",
       "var x = new MutationObserver(function (mutations, observer) {{\n",
       "        var display = window.getComputedStyle(gd).display;\n",
       "        if (!display || display === 'none') {{\n",
       "            console.log([gd, 'removed!']);\n",
       "            Plotly.purge(gd);\n",
       "            observer.disconnect();\n",
       "        }}\n",
       "}});\n",
       "\n",
       "// Listen for the removal of the full notebook cells\n",
       "var notebookContainer = gd.closest('#notebook-container');\n",
       "if (notebookContainer) {{\n",
       "    x.observe(notebookContainer, {childList: true});\n",
       "}}\n",
       "\n",
       "// Listen for the clearing of the current output cell\n",
       "var outputEl = gd.closest('.output');\n",
       "if (outputEl) {{\n",
       "    x.observe(outputEl, {childList: true});\n",
       "}}\n",
       "\n",
       "                        })                };                });            </script>        </div>"
      ]
     },
     "metadata": {},
     "output_type": "display_data"
    }
   ],
   "source": [
    "plot_clusters(clusterer.clusters)"
   ]
  }
 ],
 "metadata": {
  "kernelspec": {
   "display_name": "Python 3",
   "language": "python",
   "name": "python3"
  },
  "language_info": {
   "codemirror_mode": {
    "name": "ipython",
    "version": 3
   },
   "file_extension": ".py",
   "mimetype": "text/x-python",
   "name": "python",
   "nbconvert_exporter": "python",
   "pygments_lexer": "ipython3",
   "version": "3.7.4"
  }
 },
 "nbformat": 4,
 "nbformat_minor": 4
}
