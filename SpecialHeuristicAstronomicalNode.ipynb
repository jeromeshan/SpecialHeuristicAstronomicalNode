{
 "cells": [
  {
   "cell_type": "code",
   "execution_count": 1,
   "metadata": {},
   "outputs": [
    {
     "name": "stderr",
     "output_type": "stream",
     "text": [
      "C:\\Users\\shan2\\Anaconda3\\lib\\site-packages\\ray\\autoscaler\\_private\\cli_logger.py:61: FutureWarning: Not all Ray CLI dependencies were found. In Ray 1.4+, the Ray CLI, autoscaler, and dashboard will only be usable via `pip install 'ray[default]'`. Please update your install command.\n",
      "  \"update your install command.\", FutureWarning)\n"
     ]
    }
   ],
   "source": [
    "import numpy as np\n",
    "import pandas as pd\n",
    "import matplotlib.pyplot as plt\n",
    "import seaborn as sns\n",
    "from scipy.spatial import Delaunay\n",
    "from sklearn.metrics.cluster import fowlkes_mallows_score\n",
    "import vg\n",
    "import plotly.graph_objects as go\n",
    "import ray\n",
    "from pytransform3d.rotations import matrix_from_axis_angle\n",
    "from scipy.spatial.transform import Rotation as Rot\n",
    "from tqdm import tqdm\n",
    "from scipy.sparse import csr_matrix\n",
    "from scipy.sparse.csgraph import connected_components\n",
    "import time\n",
    "from numpy import transpose,array,hstack,arange,concatenate,eye,unique,dot,empty,append,ones,arccos\n",
    "from numpy.linalg import norm\n",
    "import warnings\n",
    "warnings.filterwarnings('ignore')\n",
    "\n",
    "def go_cluster(cluster):\n",
    "    \n",
    "    if(len(cluster.galaxies)==1):\n",
    "        return [go.Scatter3d(\n",
    "    x=cluster.galaxies[:,0],\n",
    "    y=cluster.galaxies[:,1],\n",
    "    z=cluster.galaxies[:,2],\n",
    "    mode='markers',\n",
    "    marker=dict(\n",
    "        size=1,\n",
    "        opacity=1,\n",
    "        color='green'\n",
    "    )\n",
    "    )]\n",
    "    \n",
    "    return [go.Scatter3d(\n",
    "    x=cluster.galaxies[:,0],\n",
    "    y=cluster.galaxies[:,1],\n",
    "    z=cluster.galaxies[:,2],\n",
    "    mode='markers',\n",
    "    marker=dict(\n",
    "        size=3,\n",
    "        opacity=1,\n",
    "        color='green'\n",
    "\n",
    "    )\n",
    "    )]+[cluster.get_mesh()]+[go.Scatter3d(\n",
    "    x=[cluster.centroid[0]],\n",
    "    y=[cluster.centroid[1]],\n",
    "    z=[cluster.centroid[2]],\n",
    "    mode='markers',\n",
    "    marker=dict(\n",
    "        size=2,\n",
    "        opacity=1,\n",
    "        color='red'\n",
    "    )\n",
    "    )]\n",
    "\n",
    "def get_clusters_plot(clusters,is_show=False,filename='3d_model'):\n",
    "    \n",
    "    data=[]\n",
    "    for cluster in clusters:\n",
    "        data+=go_cluster(cluster)\n",
    "    \n",
    "    fig = go.Figure(data=data)\n",
    "\n",
    "# tight layout\n",
    "    fig.update_layout(margin=dict(l=0, r=0, b=0, t=0))\n",
    "    if(is_show):\n",
    "        fig.show()\n",
    "    fig.write_html(filename+\".html\")\n"
   ]
  },
  {
   "cell_type": "code",
   "execution_count": 2,
   "metadata": {},
   "outputs": [],
   "source": [
    "coor=pd.read_csv('ra_dec_z_data.csv')\n",
    "coor_with_labels=pd.read_csv('coor_with_labels.csv')"
   ]
  },
  {
   "cell_type": "code",
   "execution_count": 24,
   "metadata": {},
   "outputs": [
    {
     "data": {
      "text/plain": [
       "(485, 4)"
      ]
     },
     "execution_count": 24,
     "metadata": {},
     "output_type": "execute_result"
    }
   ],
   "source": [
    "tmp_coor_with_labels=coor_with_labels[['x','y','z','label']]\n",
    "tmp_coor_with_labels=tmp_coor_with_labels[tmp_coor_with_labels.x.between(40, 120)]\n",
    "tmp_coor_with_labels=tmp_coor_with_labels[tmp_coor_with_labels.y.between(-20, 20)]\n",
    "tmp_coor_with_labels=tmp_coor_with_labels[tmp_coor_with_labels.z.between(-20, 20)]\n",
    "\n",
    "tmp_coor_with_labels.shape"
   ]
  },
  {
   "cell_type": "code",
   "execution_count": 51,
   "metadata": {},
   "outputs": [
    {
     "data": {
      "text/plain": [
       "(13839, 3)"
      ]
     },
     "execution_count": 51,
     "metadata": {},
     "output_type": "execute_result"
    }
   ],
   "source": [
    "tmp_coor=coor[['x','y','z']]\n",
    "tmp_coor=tmp_coor[tmp_coor.x.between(-13, 13)]\n",
    "tmp_coor=tmp_coor[tmp_coor.y.between(-13, 13)]\n",
    "tmp_coor=tmp_coor[tmp_coor.z.between(-13, 13)]\n",
    "tmp_coor.shape"
   ]
  },
  {
   "cell_type": "code",
   "execution_count": 9,
   "metadata": {},
   "outputs": [
    {
     "data": {
      "text/plain": [
       "array([[-7.68263678, -7.98226963, -4.04490746],\n",
       "       [ 3.35635023,  6.46321007, -2.08154364],\n",
       "       [ 9.23985366, -2.98237003, -0.10209136],\n",
       "       ...,\n",
       "       [ 0.66807282,  4.63696306, -8.45742126],\n",
       "       [ 0.34071255, -0.09669052,  0.32841983],\n",
       "       [-0.88717063,  1.17225613, -1.31706078]])"
      ]
     },
     "execution_count": 9,
     "metadata": {},
     "output_type": "execute_result"
    }
   ],
   "source": []
  },
  {
   "cell_type": "code",
   "execution_count": 18,
   "metadata": {},
   "outputs": [
    {
     "data": {
      "text/plain": [
       "(array([27809., 14432., 27275., 37364., 45496., 44351., 45898., 52018.,\n",
       "        53442., 58992., 63190., 63565., 61294., 50393., 47756., 50654.,\n",
       "        52357., 51230., 45909., 46014., 48284., 42618., 37431., 36571.,\n",
       "        32511., 31740., 27915., 28507., 27078., 26360., 23838., 23046.,\n",
       "        21221., 21288., 20528., 19668., 19278., 18948., 17546., 16333.,\n",
       "        17083., 16775., 16858., 17045., 16218., 16323., 16680., 17365.,\n",
       "        17999., 18141.]),\n",
       " array([5.00383585e-03, 3.20552456e+01, 6.41054873e+01, 9.61557291e+01,\n",
       "        1.28205971e+02, 1.60256213e+02, 1.92306454e+02, 2.24356696e+02,\n",
       "        2.56406938e+02, 2.88457180e+02, 3.20507421e+02, 3.52557663e+02,\n",
       "        3.84607905e+02, 4.16658147e+02, 4.48708388e+02, 4.80758630e+02,\n",
       "        5.12808872e+02, 5.44859114e+02, 5.76909355e+02, 6.08959597e+02,\n",
       "        6.41009839e+02, 6.73060081e+02, 7.05110322e+02, 7.37160564e+02,\n",
       "        7.69210806e+02, 8.01261048e+02, 8.33311289e+02, 8.65361531e+02,\n",
       "        8.97411773e+02, 9.29462015e+02, 9.61512256e+02, 9.93562498e+02,\n",
       "        1.02561274e+03, 1.05766298e+03, 1.08971322e+03, 1.12176347e+03,\n",
       "        1.15381371e+03, 1.18586395e+03, 1.21791419e+03, 1.24996443e+03,\n",
       "        1.28201467e+03, 1.31406492e+03, 1.34611516e+03, 1.37816540e+03,\n",
       "        1.41021564e+03, 1.44226588e+03, 1.47431612e+03, 1.50636637e+03,\n",
       "        1.53841661e+03, 1.57046685e+03, 1.60251709e+03]),\n",
       " <BarContainer object of 50 artists>)"
      ]
     },
     "execution_count": 18,
     "metadata": {},
     "output_type": "execute_result"
    },
    {
     "data": {
      "image/png": "[encoded data removed]",
      "text/plain": [
       "<Figure size 432x288 with 1 Axes>"
      ]
     },
     "metadata": {
      "needs_background": "light"
     },
     "output_type": "display_data"
    }
   ],
   "source": [
    "plt.hist(np.linalg.norm(coor[['x','y','z']].to_numpy(), axis = 1),bins = 50)"
   ]
  },
  {
   "cell_type": "code",
   "execution_count": 52,
   "metadata": {},
   "outputs": [],
   "source": [
    "class Cluster():\n",
    "    # non shifted shape, easy to expand\n",
    "    non_rotated_cube= None\n",
    "    rotated_cube=None# shifted coor of rotated cube\n",
    "    centroid=None# coor of center\n",
    "    galaxies=None\n",
    "\n",
    "    is_complete=False\n",
    "    times_grow=0\n",
    "    '''\n",
    "    center - coordinates of center of cluster (in case on sigle galaxy coordinates on galaxy)\n",
    "    non_rotated_cube - coordinates of non rotated parallelepiped that fits to cluster\n",
    "    galaxies - coordinates on galaxies\n",
    "    init_length - ration on longer part of parallelepiped to shorters\n",
    "    '''\n",
    "    def __init__(self, center,non_rotated_cube=None,galaxies=None, init_length=10):\n",
    "        \n",
    "        tmp_l= [0, 0, 0, 0, 1, 1, 1, 1]\n",
    "        self.non_rotated_cube = (transpose(array([[0, 0, 1, 1, 0, 0, 1, 1],[0, 1, 1, 0, 0, 1, 1, 0],\n",
    "                                                  [element * init_length for element in tmp_l]]))-array([0.5,0.5,0.5*init_length]))*0.05\n",
    "        \n",
    "        if(isinstance(non_rotated_cube, np.ndarray)):\n",
    "            self.non_rotated_cube=non_rotated_cube\n",
    "        if(not isinstance(galaxies, np.ndarray)):\n",
    "            self.galaxies=array([center])\n",
    "        else:\n",
    "            self.galaxies=array(galaxies)\n",
    "        \n",
    "        self.centroid=center[:3]\n",
    "        self.rotated_cube = self.rotate(self.centroid,self.non_rotated_cube)+self.centroid\n",
    "        \n",
    "        for gal in self.galaxies:\n",
    "            if(Delaunay(self.rotated_cube).find_simplex(gal[:3]) < 0):\n",
    "                raise ValueError\n",
    "        \n",
    "        \n",
    "    def rotate(self, vector, points):    \n",
    "        vector = vg.normalize(vector)\n",
    "        axis = vg.perpendicular(vg.basis.z, vector)\n",
    "        angle = vg.angle(vg.basis.z, vector, units='rad')\n",
    "        \n",
    "        a = hstack((axis, (angle,)))\n",
    "        R = matrix_from_axis_angle(a)\n",
    "        \n",
    "        r = Rot.from_matrix(R)\n",
    "        rotmat = r.apply(points)\n",
    "        \n",
    "        return rotmat\n",
    "\n",
    "    def get_mesh(self):\n",
    "        return go.Mesh3d(\n",
    "        x=self.rotated_cube[:,0],\n",
    "        y=self.rotated_cube[:,1],\n",
    "        z=self.rotated_cube[:,2],\n",
    "        opacity=0.5,\n",
    "        i = [7, 0, 0, 0, 4, 4, 6, 6, 4, 0, 3, 2],\n",
    "        j = [3, 4, 1, 2, 5, 6, 5, 2, 0, 1, 6, 3],\n",
    "        k = [0, 7, 2, 3, 6, 7, 1, 1, 5, 5, 7, 6],color='blue'\n",
    "        )\n",
    "    \n",
    "    def grow(self,coef):\n",
    "        if(self.times_grow==5):\n",
    "            self.is_complete=True\n",
    "            return\n",
    "        self.times_grow+=1\n",
    "        self.non_rotated_cube=self.non_rotated_cube*coef\n",
    "        self.rotated_cube = self.rotate(self.centroid,self.non_rotated_cube)+self.centroid            \n",
    "    \n",
    "class Clusterer:\n",
    "    \n",
    "    unit_cube=(transpose(array([[0, 0, 1, 1, 0, 0, 1, 1],[0, 1, 1, 0, 0, 1, 1, 0],[0, 0, 0, 0, 1, 1, 1, 1]]))-0.5)\n",
    "    init_cluster_length = None\n",
    "    coefs = 0\n",
    "    \n",
    "    '''\n",
    "        init_length - ration on longer part of parallelepiped to shorters\n",
    "        coefs - array of coefs to steps of algo\n",
    "    '''\n",
    "    def __init__(self,init_cluster_length=10, coefs = 1+1/arange(1,100)[15:]*5):\n",
    "        self.clusters=[]\n",
    "        self.init_cluster_length = init_cluster_length\n",
    "        self.coefs = coefs\n",
    "        ray.init(log_to_driver=False)\n",
    "    \n",
    "    def merge(self):\n",
    "        \n",
    "        clusters_len=len(self.clusters)\n",
    "\n",
    "\n",
    "        clusters_id = ray.put(self.clusters)\n",
    "\n",
    "        graph=ray.get([self.parallel_connectivity_matrix.remote(self,clusters_id, subset) for subset in self.split_array(arange(len(self.clusters)),4)])\n",
    "\n",
    "        graph = concatenate( graph, axis=0 )\n",
    "        graph = graph+transpose(graph)\n",
    "        graph=graph-eye(len(self.clusters))\n",
    "\n",
    "        graph = csr_matrix(graph)\n",
    "        n_components, labels = connected_components(csgraph=graph, directed=False, return_labels=True)\n",
    "        \n",
    "        components=[]\n",
    "        \n",
    "        np_clusters=array(self.clusters)\n",
    "        \n",
    "        components=[np_clusters[labels==label]  for label in unique(labels) ]\n",
    " \n",
    "        new_clusters=list(map(self.collide_clusters,components))\n",
    "\n",
    "        self.clusters=new_clusters        \n",
    "      \n",
    "        \n",
    "    def check_collision(self,a:Cluster, b: Cluster):      \n",
    "        i=a.rotated_cube[1]-a.rotated_cube[0]\n",
    "        j=a.rotated_cube[3]-a.rotated_cube[0]\n",
    "        k=a.rotated_cube[4]-a.rotated_cube[0]\n",
    "        for point in b.rotated_cube:\n",
    "            u=point-a.rotated_cube[0]\n",
    "            u_i,u_j,u_k=dot(u,i),dot(u,j),dot(u,k)\n",
    "            if((0<= u_i)and(0<= u_j)and(0<= u_k)and\n",
    "               (u_i <= dot(i,i))and(u_j <= dot(j,j))and(u_k <= dot(k,k))):\n",
    "                return True\n",
    "            \n",
    "        i=b.rotated_cube[1]-b.rotated_cube[0]\n",
    "        j=b.rotated_cube[3]-b.rotated_cube[0]\n",
    "        k=b.rotated_cube[4]-b.rotated_cube[0]\n",
    "        for point in a.rotated_cube:\n",
    "            u=point-b.rotated_cube[0]\n",
    "            u_i,u_j,u_k=dot(u,i),dot(u,j),dot(u,k)\n",
    "            if((0<= u_i)and(0<= u_j)and(0<= u_k)and\n",
    "               (u_i <= dot(i,i))and(u_j <= dot(j,j))and(u_k <= dot(k,k))):\n",
    "                return True\n",
    "        return False\n",
    " \n",
    "    def collide_clusters(self, clusters:[Cluster]):\n",
    "        \n",
    "        if(len(clusters)==1):\n",
    "            return clusters[0]\n",
    "        galaxies=[cluster.galaxies for cluster in clusters]\n",
    "        vertex_points=[cluster.rotated_cube for cluster in clusters]\n",
    "\n",
    "        galaxies=concatenate( galaxies, axis=0 )\n",
    "        vertex_points=concatenate( vertex_points, axis=0 )\n",
    "        \n",
    "        center = galaxies[:,:3].mean(axis=0)\n",
    "\n",
    "        projections = center * dot(galaxies[:,:3], transpose([center])) / dot(center, center)\n",
    "        \n",
    "        distances_on_line=norm(projections-center,axis=1)\n",
    "        vectors_from_line=galaxies[:,:3]-projections\n",
    "    \n",
    "        length = distances_on_line.max()\n",
    "        width=norm(vectors_from_line,axis=1).max()\n",
    "    \n",
    "        cube=self.unit_cube.copy()*[width*2+0.05,width*2+0.05,length*2+0.05]\n",
    "    \n",
    "        return Cluster(center,cube,galaxies,self.init_cluster_length)\n",
    "            \n",
    "    def compress_cluster(self,cluster):\n",
    "\n",
    "        galaxies=cluster.galaxies\n",
    "        if(galaxies.ndim==1 ):\n",
    "            galaxies=array([galaxies])\n",
    "        vertex_points=cluster.rotated_cube\n",
    "        \n",
    "        center = galaxies[:,:3].mean(axis=0)\n",
    "\n",
    "        projections = center * dot(galaxies[:,:3], transpose([center])) / dot(center, center)\n",
    "        \n",
    "        distances_on_line=norm(projections-center,axis=1)\n",
    "        vectors_from_line=galaxies[:,:3]-projections\n",
    "    \n",
    "        length = distances_on_line.max()\n",
    "        width=norm(vectors_from_line,axis=1).max()\n",
    "    \n",
    "        cube=self.unit_cube.copy()*[width*2+0.05,width*2+0.05,length*2+0.05]\n",
    "    \n",
    "        return Cluster(center,cube,galaxies,self.init_cluster_length)\n",
    "    \n",
    "    def step(self,grow_coef):\n",
    "        \n",
    "        is_done=True\n",
    "        for cluster in self.clusters:\n",
    "            if(not cluster.is_complete):\n",
    "                is_done=False\n",
    "                break\n",
    "                \n",
    "        if (is_done):\n",
    "            return False\n",
    "        \n",
    "        for cluster in self.clusters:\n",
    "            cluster.grow(1+(grow_coef-1)/ (1 + cluster.times_grow/5 + len(cluster.galaxies)/10))\n",
    "        self.merge()\n",
    "        return True\n",
    "      \n",
    "    def split_array(self,a, n):\n",
    "        k, m = divmod(len(a), n)\n",
    "        return (a[i*k+min(i, m):(i+1)*k+min(i+1, m)] for i in range(n))\n",
    "    \n",
    "    @ray.remote\n",
    "    def parallel_connectivity_matrix(self,clusters ,rows):\n",
    "        new_graph=empty((len(rows),len(clusters)))\n",
    "        for i in range(len(rows)):\n",
    "            for j in range(rows[i],len(clusters)):\n",
    "                cluster_j=clusters[j]\n",
    "                cluster_i=clusters[rows[i]]\n",
    "                if(norm(cluster_i.centroid-cluster_j.centroid)>8):\n",
    "                    continue \n",
    "\n",
    "                if(arccos((dot(cluster_i.centroid, cluster_j.centroid) / (norm(cluster_i.centroid) * norm(cluster_j.centroid))))>0.01):\n",
    "                    continue\n",
    "\n",
    "                if(self.check_collision(cluster_i,cluster_j)):\n",
    "                    new_graph[i,j]=1\n",
    "        return new_graph\n",
    "    \n",
    "    def fit(self,data):\n",
    "        data_np=array(data)\n",
    "        self.clusters=[Cluster(append(data_np[i],i), init_length = self.init_cluster_length) for i in range(len(data_np)) ]\n",
    "        iter_num=1\n",
    "        start = time.time()\n",
    "        while(self.step(self.coefs[iter_num-1])):\n",
    "            print('iter : ',iter_num,', n_clusters: ', len(self.clusters),', time: ',time.time()-start,' s')\n",
    "            iter_num+=1\n",
    "            start = time.time()\n",
    "        \n",
    "        galaxies=[]\n",
    "\n",
    "\n",
    "        galaxies=[append(self.clusters[i].galaxies, ones((len(self.clusters[i].galaxies),1))*i , axis=1) for i in range(len(self.clusters))]\n",
    "        self.clusters=[self.compress_cluster(cluster) for cluster in self.clusters]\n",
    "        galaxies=concatenate(galaxies)\n",
    "        galaxies = galaxies[galaxies[:,3].argsort()]  \n",
    "        return galaxies[:,4]\n",
    "        "
   ]
  },
  {
   "cell_type": "code",
   "execution_count": 54,
   "metadata": {},
   "outputs": [
    {
     "name": "stderr",
     "output_type": "stream",
     "text": [
      "2021-09-20 23:23:06,913\tINFO services.py:1269 -- View the Ray dashboard at \u001b[1m\u001b[32mhttp://127.0.0.1:8265\u001b[39m\u001b[22m\n"
     ]
    },
    {
     "ename": "KeyboardInterrupt",
     "evalue": "",
     "output_type": "error",
     "traceback": [
      "\u001b[1;31m---------------------------------------------------------------------------\u001b[0m",
      "\u001b[1;31mKeyboardInterrupt\u001b[0m                         Traceback (most recent call last)",
      "\u001b[1;32m<timed exec>\u001b[0m in \u001b[0;36m<module>\u001b[1;34m\u001b[0m\n",
      "\u001b[1;32m<ipython-input-52-093fb7af2e3d>\u001b[0m in \u001b[0;36mfit\u001b[1;34m(self, data)\u001b[0m\n\u001b[0;32m    219\u001b[0m         \u001b[0miter_num\u001b[0m\u001b[1;33m=\u001b[0m\u001b[1;36m1\u001b[0m\u001b[1;33m\u001b[0m\u001b[1;33m\u001b[0m\u001b[0m\n\u001b[0;32m    220\u001b[0m         \u001b[0mstart\u001b[0m \u001b[1;33m=\u001b[0m \u001b[0mtime\u001b[0m\u001b[1;33m.\u001b[0m\u001b[0mtime\u001b[0m\u001b[1;33m(\u001b[0m\u001b[1;33m)\u001b[0m\u001b[1;33m\u001b[0m\u001b[1;33m\u001b[0m\u001b[0m\n\u001b[1;32m--> 221\u001b[1;33m         \u001b[1;32mwhile\u001b[0m\u001b[1;33m(\u001b[0m\u001b[0mself\u001b[0m\u001b[1;33m.\u001b[0m\u001b[0mstep\u001b[0m\u001b[1;33m(\u001b[0m\u001b[0mself\u001b[0m\u001b[1;33m.\u001b[0m\u001b[0mcoefs\u001b[0m\u001b[1;33m[\u001b[0m\u001b[0miter_num\u001b[0m\u001b[1;33m-\u001b[0m\u001b[1;36m1\u001b[0m\u001b[1;33m]\u001b[0m\u001b[1;33m)\u001b[0m\u001b[1;33m)\u001b[0m\u001b[1;33m:\u001b[0m\u001b[1;33m\u001b[0m\u001b[1;33m\u001b[0m\u001b[0m\n\u001b[0m\u001b[0;32m    222\u001b[0m             \u001b[0mprint\u001b[0m\u001b[1;33m(\u001b[0m\u001b[1;34m'iter : '\u001b[0m\u001b[1;33m,\u001b[0m\u001b[0miter_num\u001b[0m\u001b[1;33m,\u001b[0m\u001b[1;34m', n_clusters: '\u001b[0m\u001b[1;33m,\u001b[0m \u001b[0mlen\u001b[0m\u001b[1;33m(\u001b[0m\u001b[0mself\u001b[0m\u001b[1;33m.\u001b[0m\u001b[0mclusters\u001b[0m\u001b[1;33m)\u001b[0m\u001b[1;33m,\u001b[0m\u001b[1;34m', time: '\u001b[0m\u001b[1;33m,\u001b[0m\u001b[0mtime\u001b[0m\u001b[1;33m.\u001b[0m\u001b[0mtime\u001b[0m\u001b[1;33m(\u001b[0m\u001b[1;33m)\u001b[0m\u001b[1;33m-\u001b[0m\u001b[0mstart\u001b[0m\u001b[1;33m,\u001b[0m\u001b[1;34m' s'\u001b[0m\u001b[1;33m)\u001b[0m\u001b[1;33m\u001b[0m\u001b[1;33m\u001b[0m\u001b[0m\n\u001b[0;32m    223\u001b[0m             \u001b[0miter_num\u001b[0m\u001b[1;33m+=\u001b[0m\u001b[1;36m1\u001b[0m\u001b[1;33m\u001b[0m\u001b[1;33m\u001b[0m\u001b[0m\n",
      "\u001b[1;32m<ipython-input-52-093fb7af2e3d>\u001b[0m in \u001b[0;36mstep\u001b[1;34m(self, grow_coef)\u001b[0m\n\u001b[0;32m    190\u001b[0m         \u001b[1;32mfor\u001b[0m \u001b[0mcluster\u001b[0m \u001b[1;32min\u001b[0m \u001b[0mself\u001b[0m\u001b[1;33m.\u001b[0m\u001b[0mclusters\u001b[0m\u001b[1;33m:\u001b[0m\u001b[1;33m\u001b[0m\u001b[1;33m\u001b[0m\u001b[0m\n\u001b[0;32m    191\u001b[0m             \u001b[0mcluster\u001b[0m\u001b[1;33m.\u001b[0m\u001b[0mgrow\u001b[0m\u001b[1;33m(\u001b[0m\u001b[1;36m1\u001b[0m\u001b[1;33m+\u001b[0m\u001b[1;33m(\u001b[0m\u001b[0mgrow_coef\u001b[0m\u001b[1;33m-\u001b[0m\u001b[1;36m1\u001b[0m\u001b[1;33m)\u001b[0m\u001b[1;33m/\u001b[0m \u001b[1;33m(\u001b[0m\u001b[1;36m1\u001b[0m \u001b[1;33m+\u001b[0m \u001b[0mcluster\u001b[0m\u001b[1;33m.\u001b[0m\u001b[0mtimes_grow\u001b[0m\u001b[1;33m/\u001b[0m\u001b[1;36m5\u001b[0m \u001b[1;33m+\u001b[0m \u001b[0mlen\u001b[0m\u001b[1;33m(\u001b[0m\u001b[0mcluster\u001b[0m\u001b[1;33m.\u001b[0m\u001b[0mgalaxies\u001b[0m\u001b[1;33m)\u001b[0m\u001b[1;33m/\u001b[0m\u001b[1;36m10\u001b[0m\u001b[1;33m)\u001b[0m\u001b[1;33m)\u001b[0m\u001b[1;33m\u001b[0m\u001b[1;33m\u001b[0m\u001b[0m\n\u001b[1;32m--> 192\u001b[1;33m         \u001b[0mself\u001b[0m\u001b[1;33m.\u001b[0m\u001b[0mmerge\u001b[0m\u001b[1;33m(\u001b[0m\u001b[1;33m)\u001b[0m\u001b[1;33m\u001b[0m\u001b[1;33m\u001b[0m\u001b[0m\n\u001b[0m\u001b[0;32m    193\u001b[0m         \u001b[1;32mreturn\u001b[0m \u001b[1;32mTrue\u001b[0m\u001b[1;33m\u001b[0m\u001b[1;33m\u001b[0m\u001b[0m\n\u001b[0;32m    194\u001b[0m \u001b[1;33m\u001b[0m\u001b[0m\n",
      "\u001b[1;32m<ipython-input-52-093fb7af2e3d>\u001b[0m in \u001b[0;36mmerge\u001b[1;34m(self)\u001b[0m\n\u001b[0;32m     90\u001b[0m         \u001b[0mclusters_id\u001b[0m \u001b[1;33m=\u001b[0m \u001b[0mray\u001b[0m\u001b[1;33m.\u001b[0m\u001b[0mput\u001b[0m\u001b[1;33m(\u001b[0m\u001b[0mself\u001b[0m\u001b[1;33m.\u001b[0m\u001b[0mclusters\u001b[0m\u001b[1;33m)\u001b[0m\u001b[1;33m\u001b[0m\u001b[1;33m\u001b[0m\u001b[0m\n\u001b[0;32m     91\u001b[0m \u001b[1;33m\u001b[0m\u001b[0m\n\u001b[1;32m---> 92\u001b[1;33m         \u001b[0mgraph\u001b[0m\u001b[1;33m=\u001b[0m\u001b[0mray\u001b[0m\u001b[1;33m.\u001b[0m\u001b[0mget\u001b[0m\u001b[1;33m(\u001b[0m\u001b[1;33m[\u001b[0m\u001b[0mself\u001b[0m\u001b[1;33m.\u001b[0m\u001b[0mparallel_connectivity_matrix\u001b[0m\u001b[1;33m.\u001b[0m\u001b[0mremote\u001b[0m\u001b[1;33m(\u001b[0m\u001b[0mself\u001b[0m\u001b[1;33m,\u001b[0m\u001b[0mclusters_id\u001b[0m\u001b[1;33m,\u001b[0m \u001b[0msubset\u001b[0m\u001b[1;33m)\u001b[0m \u001b[1;32mfor\u001b[0m \u001b[0msubset\u001b[0m \u001b[1;32min\u001b[0m \u001b[0mself\u001b[0m\u001b[1;33m.\u001b[0m\u001b[0msplit_array\u001b[0m\u001b[1;33m(\u001b[0m\u001b[0marange\u001b[0m\u001b[1;33m(\u001b[0m\u001b[0mlen\u001b[0m\u001b[1;33m(\u001b[0m\u001b[0mself\u001b[0m\u001b[1;33m.\u001b[0m\u001b[0mclusters\u001b[0m\u001b[1;33m)\u001b[0m\u001b[1;33m)\u001b[0m\u001b[1;33m,\u001b[0m\u001b[1;36m4\u001b[0m\u001b[1;33m)\u001b[0m\u001b[1;33m]\u001b[0m\u001b[1;33m)\u001b[0m\u001b[1;33m\u001b[0m\u001b[1;33m\u001b[0m\u001b[0m\n\u001b[0m\u001b[0;32m     93\u001b[0m \u001b[1;33m\u001b[0m\u001b[0m\n\u001b[0;32m     94\u001b[0m         \u001b[0mgraph\u001b[0m \u001b[1;33m=\u001b[0m \u001b[0mconcatenate\u001b[0m\u001b[1;33m(\u001b[0m \u001b[0mgraph\u001b[0m\u001b[1;33m,\u001b[0m \u001b[0maxis\u001b[0m\u001b[1;33m=\u001b[0m\u001b[1;36m0\u001b[0m \u001b[1;33m)\u001b[0m\u001b[1;33m\u001b[0m\u001b[1;33m\u001b[0m\u001b[0m\n",
      "\u001b[1;32m~\\Anaconda3\\lib\\site-packages\\ray\\_private\\client_mode_hook.py\u001b[0m in \u001b[0;36mwrapper\u001b[1;34m(*args, **kwargs)\u001b[0m\n\u001b[0;32m     45\u001b[0m         \u001b[1;32mif\u001b[0m \u001b[0mclient_mode_should_convert\u001b[0m\u001b[1;33m(\u001b[0m\u001b[1;33m)\u001b[0m\u001b[1;33m:\u001b[0m\u001b[1;33m\u001b[0m\u001b[1;33m\u001b[0m\u001b[0m\n\u001b[0;32m     46\u001b[0m             \u001b[1;32mreturn\u001b[0m \u001b[0mgetattr\u001b[0m\u001b[1;33m(\u001b[0m\u001b[0mray\u001b[0m\u001b[1;33m,\u001b[0m \u001b[0mfunc\u001b[0m\u001b[1;33m.\u001b[0m\u001b[0m__name__\u001b[0m\u001b[1;33m)\u001b[0m\u001b[1;33m(\u001b[0m\u001b[1;33m*\u001b[0m\u001b[0margs\u001b[0m\u001b[1;33m,\u001b[0m \u001b[1;33m**\u001b[0m\u001b[0mkwargs\u001b[0m\u001b[1;33m)\u001b[0m\u001b[1;33m\u001b[0m\u001b[1;33m\u001b[0m\u001b[0m\n\u001b[1;32m---> 47\u001b[1;33m         \u001b[1;32mreturn\u001b[0m \u001b[0mfunc\u001b[0m\u001b[1;33m(\u001b[0m\u001b[1;33m*\u001b[0m\u001b[0margs\u001b[0m\u001b[1;33m,\u001b[0m \u001b[1;33m**\u001b[0m\u001b[0mkwargs\u001b[0m\u001b[1;33m)\u001b[0m\u001b[1;33m\u001b[0m\u001b[1;33m\u001b[0m\u001b[0m\n\u001b[0m\u001b[0;32m     48\u001b[0m \u001b[1;33m\u001b[0m\u001b[0m\n\u001b[0;32m     49\u001b[0m     \u001b[1;32mreturn\u001b[0m \u001b[0mwrapper\u001b[0m\u001b[1;33m\u001b[0m\u001b[1;33m\u001b[0m\u001b[0m\n",
      "\u001b[1;32m~\\Anaconda3\\lib\\site-packages\\ray\\worker.py\u001b[0m in \u001b[0;36mget\u001b[1;34m(object_refs, timeout)\u001b[0m\n\u001b[0;32m   1472\u001b[0m         \u001b[1;31m# TODO(ujvl): Consider how to allow user to retrieve the ready objects.\u001b[0m\u001b[1;33m\u001b[0m\u001b[1;33m\u001b[0m\u001b[1;33m\u001b[0m\u001b[0m\n\u001b[0;32m   1473\u001b[0m         values, debugger_breakpoint = worker.get_objects(\n\u001b[1;32m-> 1474\u001b[1;33m             object_refs, timeout=timeout)\n\u001b[0m\u001b[0;32m   1475\u001b[0m         \u001b[1;32mfor\u001b[0m \u001b[0mi\u001b[0m\u001b[1;33m,\u001b[0m \u001b[0mvalue\u001b[0m \u001b[1;32min\u001b[0m \u001b[0menumerate\u001b[0m\u001b[1;33m(\u001b[0m\u001b[0mvalues\u001b[0m\u001b[1;33m)\u001b[0m\u001b[1;33m:\u001b[0m\u001b[1;33m\u001b[0m\u001b[1;33m\u001b[0m\u001b[0m\n\u001b[0;32m   1476\u001b[0m             \u001b[1;32mif\u001b[0m \u001b[0misinstance\u001b[0m\u001b[1;33m(\u001b[0m\u001b[0mvalue\u001b[0m\u001b[1;33m,\u001b[0m \u001b[0mRayError\u001b[0m\u001b[1;33m)\u001b[0m\u001b[1;33m:\u001b[0m\u001b[1;33m\u001b[0m\u001b[1;33m\u001b[0m\u001b[0m\n",
      "\u001b[1;32m~\\Anaconda3\\lib\\site-packages\\ray\\worker.py\u001b[0m in \u001b[0;36mget_objects\u001b[1;34m(self, object_refs, timeout)\u001b[0m\n\u001b[0;32m    300\u001b[0m         \u001b[0mtimeout_ms\u001b[0m \u001b[1;33m=\u001b[0m \u001b[0mint\u001b[0m\u001b[1;33m(\u001b[0m\u001b[0mtimeout\u001b[0m \u001b[1;33m*\u001b[0m \u001b[1;36m1000\u001b[0m\u001b[1;33m)\u001b[0m \u001b[1;32mif\u001b[0m \u001b[0mtimeout\u001b[0m \u001b[1;32melse\u001b[0m \u001b[1;33m-\u001b[0m\u001b[1;36m1\u001b[0m\u001b[1;33m\u001b[0m\u001b[1;33m\u001b[0m\u001b[0m\n\u001b[0;32m    301\u001b[0m         data_metadata_pairs = self.core_worker.get_objects(\n\u001b[1;32m--> 302\u001b[1;33m             object_refs, self.current_task_id, timeout_ms)\n\u001b[0m\u001b[0;32m    303\u001b[0m         \u001b[0mdebugger_breakpoint\u001b[0m \u001b[1;33m=\u001b[0m \u001b[1;34mb\"\"\u001b[0m\u001b[1;33m\u001b[0m\u001b[1;33m\u001b[0m\u001b[0m\n\u001b[0;32m    304\u001b[0m         \u001b[1;32mfor\u001b[0m \u001b[1;33m(\u001b[0m\u001b[0mdata\u001b[0m\u001b[1;33m,\u001b[0m \u001b[0mmetadata\u001b[0m\u001b[1;33m)\u001b[0m \u001b[1;32min\u001b[0m \u001b[0mdata_metadata_pairs\u001b[0m\u001b[1;33m:\u001b[0m\u001b[1;33m\u001b[0m\u001b[1;33m\u001b[0m\u001b[0m\n",
      "\u001b[1;32mpython\\ray\\_raylet.pyx\u001b[0m in \u001b[0;36mray._raylet.CoreWorker.get_objects\u001b[1;34m()\u001b[0m\n",
      "\u001b[1;32mpython\\ray\\_raylet.pyx\u001b[0m in \u001b[0;36mray._raylet.check_status\u001b[1;34m()\u001b[0m\n",
      "\u001b[1;31mKeyboardInterrupt\u001b[0m: "
     ]
    }
   ],
   "source": [
    "%%time\n",
    "clusterer=Clusterer(init_cluster_length=5,coefs = 1+1/arange(1,100)[10:]*5)\n",
    "labels=clusterer.fit(tmp_coor[['x','y','z']])\n",
    "# print(fowlkes_mallows_score(tmp_coor_with_labels['label'],labels))\n",
    "ray.shutdown()\n",
    "get_clusters_plot(clusterer.clusters)\n",
    "np.save('labes.npy', labels)"
   ]
  },
  {
   "cell_type": "code",
   "execution_count": 53,
   "metadata": {},
   "outputs": [],
   "source": [
    "ray.shutdown()\n"
   ]
  },
  {
   "cell_type": "code",
   "execution_count": 24,
   "metadata": {},
   "outputs": [
    {
     "name": "stdout",
     "output_type": "stream",
     "text": [
      "0.17616944205911042\n"
     ]
    }
   ],
   "source": [
    "import hdbscan\n",
    "model=hdbscan.HDBSCAN().fit(tmp_coor_with_labels[['x','y','z']])\n",
    "labels =model.labels_\n",
    "c=1\n",
    "for i in range(len(labels)):\n",
    "    if(labels[i]==-1):\n",
    "        labels[i]=400000+c\n",
    "        c+=1\n",
    "print(fowlkes_mallows_score(tmp_coor_with_labels['label'],labels))"
   ]
  },
  {
   "cell_type": "code",
   "execution_count": 7,
   "metadata": {},
   "outputs": [],
   "source": [
    "def compress_cluster(galaxies):\n",
    "\n",
    "    galaxies=galaxies\n",
    "    if(galaxies.ndim==1 ):\n",
    "        galaxies=array([galaxies])\n",
    "    \n",
    "    center = galaxies[:,:3].mean(axis=0)\n",
    "\n",
    "    projections = center * dot(galaxies[:,:3], transpose([center])) / dot(center, center)\n",
    "    \n",
    "    distances_on_line=norm(projections-center,axis=1)\n",
    "    vectors_from_line=galaxies[:,:3]-projections\n",
    "\n",
    "    length = distances_on_line.max()\n",
    "    width=norm(vectors_from_line,axis=1).max()\n",
    "\n",
    "    cube=(transpose(array([[0, 0, 1, 1, 0, 0, 1, 1],[0, 1, 1, 0, 0, 1, 1, 0],[0, 0, 0, 0, 1, 1, 1, 1]]))-0.5)*[width*2+0.05,width*2+0.05,length*2+0.05]\n",
    "\n",
    "    return Cluster(center,cube,galaxies)"
   ]
  },
  {
   "cell_type": "code",
   "execution_count": 8,
   "metadata": {},
   "outputs": [
    {
     "ename": "NameError",
     "evalue": "name 'Cluster' is not defined",
     "output_type": "error",
     "traceback": [
      "\u001b[1;31m---------------------------------------------------------------------------\u001b[0m",
      "\u001b[1;31mNameError\u001b[0m                                 Traceback (most recent call last)",
      "\u001b[1;32m<ipython-input-8-86323d50e427>\u001b[0m in \u001b[0;36m<module>\u001b[1;34m\u001b[0m\n\u001b[0;32m      1\u001b[0m \u001b[0mgals\u001b[0m\u001b[1;33m=\u001b[0m\u001b[1;33m[\u001b[0m\u001b[0mtmp_coor_with_labels\u001b[0m\u001b[1;33m[\u001b[0m\u001b[0mtmp_coor_with_labels\u001b[0m\u001b[1;33m[\u001b[0m\u001b[1;34m'label'\u001b[0m\u001b[1;33m]\u001b[0m\u001b[1;33m==\u001b[0m\u001b[0mlabel\u001b[0m\u001b[1;33m]\u001b[0m\u001b[1;33m[\u001b[0m\u001b[1;33m[\u001b[0m\u001b[1;34m'x'\u001b[0m\u001b[1;33m,\u001b[0m\u001b[1;34m'y'\u001b[0m\u001b[1;33m,\u001b[0m\u001b[1;34m'z'\u001b[0m\u001b[1;33m]\u001b[0m\u001b[1;33m]\u001b[0m\u001b[1;33m.\u001b[0m\u001b[0mto_numpy\u001b[0m\u001b[1;33m(\u001b[0m\u001b[1;33m)\u001b[0m \u001b[1;32mfor\u001b[0m \u001b[0mlabel\u001b[0m \u001b[1;32min\u001b[0m \u001b[0mtmp_coor_with_labels\u001b[0m\u001b[1;33m[\u001b[0m\u001b[1;34m'label'\u001b[0m\u001b[1;33m]\u001b[0m\u001b[1;33m.\u001b[0m\u001b[0munique\u001b[0m\u001b[1;33m(\u001b[0m\u001b[1;33m)\u001b[0m\u001b[1;33m]\u001b[0m\u001b[1;33m\u001b[0m\u001b[1;33m\u001b[0m\u001b[0m\n\u001b[1;32m----> 2\u001b[1;33m \u001b[0mclus\u001b[0m\u001b[1;33m=\u001b[0m\u001b[0mlist\u001b[0m\u001b[1;33m(\u001b[0m\u001b[0mmap\u001b[0m\u001b[1;33m(\u001b[0m\u001b[0mcompress_cluster\u001b[0m\u001b[1;33m,\u001b[0m\u001b[0mgals\u001b[0m\u001b[1;33m)\u001b[0m\u001b[1;33m)\u001b[0m\u001b[1;33m\u001b[0m\u001b[1;33m\u001b[0m\u001b[0m\n\u001b[0m\u001b[0;32m      3\u001b[0m \u001b[0mangle_list\u001b[0m\u001b[1;33m=\u001b[0m\u001b[1;33m[\u001b[0m\u001b[1;33m]\u001b[0m\u001b[1;33m\u001b[0m\u001b[1;33m\u001b[0m\u001b[0m\n\u001b[0;32m      4\u001b[0m \u001b[1;32mfor\u001b[0m \u001b[0mcluster_i\u001b[0m \u001b[1;32min\u001b[0m \u001b[0mclus\u001b[0m\u001b[1;33m:\u001b[0m\u001b[1;33m\u001b[0m\u001b[1;33m\u001b[0m\u001b[0m\n\u001b[0;32m      5\u001b[0m     \u001b[0mmin_angle\u001b[0m\u001b[1;33m=\u001b[0m\u001b[1;36m1\u001b[0m\u001b[1;33m\u001b[0m\u001b[1;33m\u001b[0m\u001b[0m\n",
      "\u001b[1;32m<ipython-input-7-2d2945b9c219>\u001b[0m in \u001b[0;36mcompress_cluster\u001b[1;34m(galaxies)\u001b[0m\n\u001b[0;32m     17\u001b[0m     \u001b[0mcube\u001b[0m\u001b[1;33m=\u001b[0m\u001b[1;33m(\u001b[0m\u001b[0mtranspose\u001b[0m\u001b[1;33m(\u001b[0m\u001b[0marray\u001b[0m\u001b[1;33m(\u001b[0m\u001b[1;33m[\u001b[0m\u001b[1;33m[\u001b[0m\u001b[1;36m0\u001b[0m\u001b[1;33m,\u001b[0m \u001b[1;36m0\u001b[0m\u001b[1;33m,\u001b[0m \u001b[1;36m1\u001b[0m\u001b[1;33m,\u001b[0m \u001b[1;36m1\u001b[0m\u001b[1;33m,\u001b[0m \u001b[1;36m0\u001b[0m\u001b[1;33m,\u001b[0m \u001b[1;36m0\u001b[0m\u001b[1;33m,\u001b[0m \u001b[1;36m1\u001b[0m\u001b[1;33m,\u001b[0m \u001b[1;36m1\u001b[0m\u001b[1;33m]\u001b[0m\u001b[1;33m,\u001b[0m\u001b[1;33m[\u001b[0m\u001b[1;36m0\u001b[0m\u001b[1;33m,\u001b[0m \u001b[1;36m1\u001b[0m\u001b[1;33m,\u001b[0m \u001b[1;36m1\u001b[0m\u001b[1;33m,\u001b[0m \u001b[1;36m0\u001b[0m\u001b[1;33m,\u001b[0m \u001b[1;36m0\u001b[0m\u001b[1;33m,\u001b[0m \u001b[1;36m1\u001b[0m\u001b[1;33m,\u001b[0m \u001b[1;36m1\u001b[0m\u001b[1;33m,\u001b[0m \u001b[1;36m0\u001b[0m\u001b[1;33m]\u001b[0m\u001b[1;33m,\u001b[0m\u001b[1;33m[\u001b[0m\u001b[1;36m0\u001b[0m\u001b[1;33m,\u001b[0m \u001b[1;36m0\u001b[0m\u001b[1;33m,\u001b[0m \u001b[1;36m0\u001b[0m\u001b[1;33m,\u001b[0m \u001b[1;36m0\u001b[0m\u001b[1;33m,\u001b[0m \u001b[1;36m1\u001b[0m\u001b[1;33m,\u001b[0m \u001b[1;36m1\u001b[0m\u001b[1;33m,\u001b[0m \u001b[1;36m1\u001b[0m\u001b[1;33m,\u001b[0m \u001b[1;36m1\u001b[0m\u001b[1;33m]\u001b[0m\u001b[1;33m]\u001b[0m\u001b[1;33m)\u001b[0m\u001b[1;33m)\u001b[0m\u001b[1;33m-\u001b[0m\u001b[1;36m0.5\u001b[0m\u001b[1;33m)\u001b[0m\u001b[1;33m*\u001b[0m\u001b[1;33m[\u001b[0m\u001b[0mwidth\u001b[0m\u001b[1;33m*\u001b[0m\u001b[1;36m2\u001b[0m\u001b[1;33m+\u001b[0m\u001b[1;36m0.05\u001b[0m\u001b[1;33m,\u001b[0m\u001b[0mwidth\u001b[0m\u001b[1;33m*\u001b[0m\u001b[1;36m2\u001b[0m\u001b[1;33m+\u001b[0m\u001b[1;36m0.05\u001b[0m\u001b[1;33m,\u001b[0m\u001b[0mlength\u001b[0m\u001b[1;33m*\u001b[0m\u001b[1;36m2\u001b[0m\u001b[1;33m+\u001b[0m\u001b[1;36m0.05\u001b[0m\u001b[1;33m]\u001b[0m\u001b[1;33m\u001b[0m\u001b[1;33m\u001b[0m\u001b[0m\n\u001b[0;32m     18\u001b[0m \u001b[1;33m\u001b[0m\u001b[0m\n\u001b[1;32m---> 19\u001b[1;33m     \u001b[1;32mreturn\u001b[0m \u001b[0mCluster\u001b[0m\u001b[1;33m(\u001b[0m\u001b[0mcenter\u001b[0m\u001b[1;33m,\u001b[0m\u001b[0mcube\u001b[0m\u001b[1;33m,\u001b[0m\u001b[0mgalaxies\u001b[0m\u001b[1;33m)\u001b[0m\u001b[1;33m\u001b[0m\u001b[1;33m\u001b[0m\u001b[0m\n\u001b[0m",
      "\u001b[1;31mNameError\u001b[0m: name 'Cluster' is not defined"
     ]
    }
   ],
   "source": [
    "gals=[tmp_coor_with_labels[tmp_coor_with_labels['label']==label][['x','y','z']].to_numpy() for label in tmp_coor_with_labels['label'].unique()]\n",
    "clus=list(map(compress_cluster,gals))\n",
    "angle_list=[]\n",
    "for cluster_i in clus:\n",
    "    min_angle=1\n",
    "    for cluster_j in clus:\n",
    "        if(norm(cluster_i.centroid-cluster_j.centroid)>3):\n",
    "            continue\n",
    "        new_min=arccos((dot(cluster_i.centroid, cluster_j.centroid) / (norm(cluster_i.centroid) * norm(cluster_j.centroid))))\n",
    "        if((new_min<min_angle) and (new_min!=0) ):\n",
    "            min_angle=new_min\n",
    "    if(min_angle<0.5):\n",
    "        angle_list.append(min_angle)\n",
    "print(min_angle)\n"
   ]
  },
  {
   "cell_type": "code",
   "execution_count": 27,
   "metadata": {},
   "outputs": [],
   "source": [
    "gals=[tmp_coor_with_labels[tmp_coor_with_labels['label']==label][['x','y','z']].to_numpy() for label in tmp_coor_with_labels['label'].unique()]\n",
    "clus=list(map(compress_cluster,gals))\n",
    "\n",
    "data=[]\n",
    "for cluster in clus:\n",
    "    data+=go_cluster(cluster)\n",
    "    \n",
    "for i in tmp_coor.to_numpy():\n",
    "    data+= [go.Scatter3d(\n",
    "    x=[i[0]],\n",
    "    y=[i[1]],\n",
    "    z=[i[2]],\n",
    "    mode='markers',\n",
    "    marker=dict(\n",
    "        size=2,\n",
    "        opacity=1,\n",
    "        color='orange'\n",
    "    )\n",
    "    )]\n",
    "\n",
    "\n",
    "fig = go.Figure(data=data)\n",
    "\n",
    "# tight layout\n",
    "fig.update_layout(margin=dict(l=0, r=0, b=0, t=0))\n",
    "\n",
    "fig.write_html('true (40,120,-20,20,-20,20)'+\".html\")\n"
   ]
  },
  {
   "cell_type": "code",
   "execution_count": 18,
   "metadata": {},
   "outputs": [
    {
     "ename": "NameError",
     "evalue": "name 'data' is not defined",
     "output_type": "error",
     "traceback": [
      "\u001b[1;31m---------------------------------------------------------------------------\u001b[0m",
      "\u001b[1;31mNameError\u001b[0m                                 Traceback (most recent call last)",
      "\u001b[1;32m<ipython-input-18-00af5317534b>\u001b[0m in \u001b[0;36m<module>\u001b[1;34m\u001b[0m\n\u001b[0;32m      1\u001b[0m \u001b[1;32mfor\u001b[0m \u001b[0mi\u001b[0m \u001b[1;32min\u001b[0m \u001b[0mtmp_coor\u001b[0m\u001b[1;33m.\u001b[0m\u001b[0mto_numpy\u001b[0m\u001b[1;33m(\u001b[0m\u001b[1;33m)\u001b[0m\u001b[1;33m:\u001b[0m\u001b[1;33m\u001b[0m\u001b[1;33m\u001b[0m\u001b[0m\n\u001b[1;32m----> 2\u001b[1;33m     data+= [go.Scatter3d(\n\u001b[0m\u001b[0;32m      3\u001b[0m     \u001b[0mx\u001b[0m\u001b[1;33m=\u001b[0m\u001b[0mi\u001b[0m\u001b[1;33m[\u001b[0m\u001b[1;36m0\u001b[0m\u001b[1;33m]\u001b[0m\u001b[1;33m,\u001b[0m\u001b[1;33m\u001b[0m\u001b[1;33m\u001b[0m\u001b[0m\n\u001b[0;32m      4\u001b[0m     \u001b[0my\u001b[0m\u001b[1;33m=\u001b[0m\u001b[0mi\u001b[0m\u001b[1;33m[\u001b[0m\u001b[1;36m1\u001b[0m\u001b[1;33m]\u001b[0m\u001b[1;33m,\u001b[0m\u001b[1;33m\u001b[0m\u001b[1;33m\u001b[0m\u001b[0m\n\u001b[0;32m      5\u001b[0m     \u001b[0mz\u001b[0m\u001b[1;33m=\u001b[0m\u001b[0mi\u001b[0m\u001b[1;33m[\u001b[0m\u001b[1;36m2\u001b[0m\u001b[1;33m]\u001b[0m\u001b[1;33m,\u001b[0m\u001b[1;33m\u001b[0m\u001b[1;33m\u001b[0m\u001b[0m\n",
      "\u001b[1;31mNameError\u001b[0m: name 'data' is not defined"
     ]
    }
   ],
   "source": []
  },
  {
   "cell_type": "code",
   "execution_count": null,
   "metadata": {},
   "outputs": [],
   "source": [
    "plt.hist(angle_list,bins=100)"
   ]
  },
  {
   "cell_type": "code",
   "execution_count": 13,
   "metadata": {},
   "outputs": [
    {
     "data": {
      "text/plain": [
       "1      2248\n",
       "2       392\n",
       "3       121\n",
       "4        54\n",
       "5        37\n",
       "6        20\n",
       "8        15\n",
       "9        10\n",
       "7         8\n",
       "10        7\n",
       "13        7\n",
       "14        5\n",
       "12        4\n",
       "18        3\n",
       "15        3\n",
       "11        3\n",
       "19        2\n",
       "50        2\n",
       "17        2\n",
       "42        1\n",
       "72        1\n",
       "38        1\n",
       "28        1\n",
       "26        1\n",
       "22        1\n",
       "20        1\n",
       "16        1\n",
       "231       1\n",
       "Name: label, dtype: int64"
      ]
     },
     "execution_count": 13,
     "metadata": {},
     "output_type": "execute_result"
    }
   ],
   "source": [
    "tmp_coor_with_labels['label'].value_counts().value_counts()"
   ]
  },
  {
   "cell_type": "code",
   "execution_count": 14,
   "metadata": {},
   "outputs": [
    {
     "data": {
      "text/plain": [
       "1     3189\n",
       "2      411\n",
       "3       88\n",
       "4       55\n",
       "5       35\n",
       "6       13\n",
       "7       10\n",
       "9        9\n",
       "10       8\n",
       "8        6\n",
       "12       2\n",
       "11       2\n",
       "19       2\n",
       "22       1\n",
       "18       1\n",
       "16       1\n",
       "13       1\n",
       "15       1\n",
       "17       1\n",
       "23       1\n",
       "25       1\n",
       "dtype: int64"
      ]
     },
     "execution_count": 14,
     "metadata": {},
     "output_type": "execute_result"
    }
   ],
   "source": [
    "pd.Series(labels).value_counts().value_counts()"
   ]
  },
  {
   "cell_type": "code",
   "execution_count": null,
   "metadata": {},
   "outputs": [],
   "source": []
  }
 ],
 "metadata": {
  "kernelspec": {
   "display_name": "Python 3",
   "language": "python",
   "name": "python3"
  },
  "language_info": {
   "codemirror_mode": {
    "name": "ipython",
    "version": 3
   },
   "file_extension": ".py",
   "mimetype": "text/x-python",
   "name": "python",
   "nbconvert_exporter": "python",
   "pygments_lexer": "ipython3",
   "version": "3.7.10"
  }
 },
 "nbformat": 4,
 "nbformat_minor": 4
}
